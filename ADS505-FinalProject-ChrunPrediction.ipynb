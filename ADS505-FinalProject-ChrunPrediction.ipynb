{
 "cells": [
  {
   "cell_type": "markdown",
   "id": "9e185fda",
   "metadata": {},
   "source": [
    "# Use Case - Churn Prediction\n",
    "\n",
    "> Data Mining for Business Analytics ADS-505\n",
    ">\n",
    "> Fatemeh Khosravi - Stephen Kuc - Ruddy Simonpour"
   ]
  },
  {
   "cell_type": "code",
   "execution_count": 1,
   "id": "93ee51b1",
   "metadata": {},
   "outputs": [],
   "source": [
    "# import dependencies\n",
    "import pandas as pd\n",
    "import numpy as np\n",
    "import csv\n",
    "import os\n",
    "import matplotlib.pylab as plt\n",
    "import seaborn as sns\n",
    "\n",
    "import statsmodels.tools.tools as stattools\n",
    "\n",
    "from sklearn import preprocessing\n",
    "\n",
    "# models\n",
    "from sklearn.linear_model import LogisticRegression, LogisticRegressionCV, LinearRegression\n",
    "from sklearn.model_selection import train_test_split, cross_val_score, GridSearchCV\n",
    "from sklearn.metrics import accuracy_score, precision_score, f1_score\n",
    "from sklearn.neighbors import NearestNeighbors, KNeighborsClassifier\n",
    "from sklearn.tree import DecisionTreeClassifier\n",
    "from sklearn.ensemble import RandomForestClassifier\n",
    "from sklearn.naive_bayes import MultinomialNB\n",
    "\n",
    "\n",
    "from dmba.metric import AIC_score\n",
    "\n",
    "from sklearn.metrics import confusion_matrix, accuracy_score, classification_report\n",
    "from sklearn.metrics import roc_auc_score, roc_curve, precision_score, recall_score, f1_score\n",
    "from imblearn.over_sampling import SMOTE\n",
    "from dmba.metric import AIC_score\n",
    "from dmba import classificationSummary, gainsChart, liftChart\n",
    "import xgboost as xgb\n",
    "from xgboost import XGBClassifier\n",
    "from sklearn.svm import SVC\n",
    "import sklearn.metrics as metrics\n",
    "%matplotlib inline\n",
    "\n",
    "import warnings\n",
    "warnings.filterwarnings(\"ignore\")"
   ]
  },
  {
   "cell_type": "code",
   "execution_count": 2,
   "id": "8eb43306",
   "metadata": {},
   "outputs": [],
   "source": [
    "bank = pd.read_csv(\"Dataset/Bank Customer Churn Prediction.csv\",low_memory=False)"
   ]
  },
  {
   "cell_type": "code",
   "execution_count": 3,
   "id": "ab03f382",
   "metadata": {},
   "outputs": [
    {
     "data": {
      "text/html": [
       "<div>\n",
       "<style scoped>\n",
       "    .dataframe tbody tr th:only-of-type {\n",
       "        vertical-align: middle;\n",
       "    }\n",
       "\n",
       "    .dataframe tbody tr th {\n",
       "        vertical-align: top;\n",
       "    }\n",
       "\n",
       "    .dataframe thead th {\n",
       "        text-align: right;\n",
       "    }\n",
       "</style>\n",
       "<table border=\"1\" class=\"dataframe\">\n",
       "  <thead>\n",
       "    <tr style=\"text-align: right;\">\n",
       "      <th></th>\n",
       "      <th>customer_id</th>\n",
       "      <th>credit_score</th>\n",
       "      <th>country</th>\n",
       "      <th>gender</th>\n",
       "      <th>age</th>\n",
       "      <th>tenure</th>\n",
       "      <th>balance</th>\n",
       "      <th>products_number</th>\n",
       "      <th>credit_card</th>\n",
       "      <th>active_member</th>\n",
       "      <th>estimated_salary</th>\n",
       "      <th>churn</th>\n",
       "    </tr>\n",
       "  </thead>\n",
       "  <tbody>\n",
       "    <tr>\n",
       "      <th>9859</th>\n",
       "      <td>15615430</td>\n",
       "      <td>678</td>\n",
       "      <td>Germany</td>\n",
       "      <td>Male</td>\n",
       "      <td>55</td>\n",
       "      <td>4</td>\n",
       "      <td>129646.91</td>\n",
       "      <td>1</td>\n",
       "      <td>1</td>\n",
       "      <td>1</td>\n",
       "      <td>184125.10</td>\n",
       "      <td>1</td>\n",
       "    </tr>\n",
       "    <tr>\n",
       "      <th>5133</th>\n",
       "      <td>15668104</td>\n",
       "      <td>479</td>\n",
       "      <td>Spain</td>\n",
       "      <td>Male</td>\n",
       "      <td>37</td>\n",
       "      <td>6</td>\n",
       "      <td>118433.94</td>\n",
       "      <td>1</td>\n",
       "      <td>0</td>\n",
       "      <td>1</td>\n",
       "      <td>160060.90</td>\n",
       "      <td>0</td>\n",
       "    </tr>\n",
       "    <tr>\n",
       "      <th>6135</th>\n",
       "      <td>15624611</td>\n",
       "      <td>497</td>\n",
       "      <td>Spain</td>\n",
       "      <td>Male</td>\n",
       "      <td>37</td>\n",
       "      <td>8</td>\n",
       "      <td>128650.11</td>\n",
       "      <td>2</td>\n",
       "      <td>1</td>\n",
       "      <td>1</td>\n",
       "      <td>163641.53</td>\n",
       "      <td>0</td>\n",
       "    </tr>\n",
       "    <tr>\n",
       "      <th>173</th>\n",
       "      <td>15586310</td>\n",
       "      <td>578</td>\n",
       "      <td>France</td>\n",
       "      <td>Male</td>\n",
       "      <td>30</td>\n",
       "      <td>4</td>\n",
       "      <td>169462.09</td>\n",
       "      <td>1</td>\n",
       "      <td>1</td>\n",
       "      <td>0</td>\n",
       "      <td>112187.11</td>\n",
       "      <td>0</td>\n",
       "    </tr>\n",
       "    <tr>\n",
       "      <th>18</th>\n",
       "      <td>15661507</td>\n",
       "      <td>587</td>\n",
       "      <td>Spain</td>\n",
       "      <td>Male</td>\n",
       "      <td>45</td>\n",
       "      <td>6</td>\n",
       "      <td>0.00</td>\n",
       "      <td>1</td>\n",
       "      <td>0</td>\n",
       "      <td>0</td>\n",
       "      <td>158684.81</td>\n",
       "      <td>0</td>\n",
       "    </tr>\n",
       "    <tr>\n",
       "      <th>4149</th>\n",
       "      <td>15621435</td>\n",
       "      <td>623</td>\n",
       "      <td>France</td>\n",
       "      <td>Female</td>\n",
       "      <td>39</td>\n",
       "      <td>1</td>\n",
       "      <td>160903.20</td>\n",
       "      <td>1</td>\n",
       "      <td>0</td>\n",
       "      <td>0</td>\n",
       "      <td>78774.36</td>\n",
       "      <td>0</td>\n",
       "    </tr>\n",
       "    <tr>\n",
       "      <th>2351</th>\n",
       "      <td>15678284</td>\n",
       "      <td>651</td>\n",
       "      <td>France</td>\n",
       "      <td>Male</td>\n",
       "      <td>35</td>\n",
       "      <td>7</td>\n",
       "      <td>74623.50</td>\n",
       "      <td>3</td>\n",
       "      <td>1</td>\n",
       "      <td>0</td>\n",
       "      <td>129451.29</td>\n",
       "      <td>1</td>\n",
       "    </tr>\n",
       "    <tr>\n",
       "      <th>330</th>\n",
       "      <td>15598493</td>\n",
       "      <td>656</td>\n",
       "      <td>France</td>\n",
       "      <td>Male</td>\n",
       "      <td>50</td>\n",
       "      <td>7</td>\n",
       "      <td>0.00</td>\n",
       "      <td>2</td>\n",
       "      <td>0</td>\n",
       "      <td>1</td>\n",
       "      <td>72143.44</td>\n",
       "      <td>0</td>\n",
       "    </tr>\n",
       "    <tr>\n",
       "      <th>3852</th>\n",
       "      <td>15639669</td>\n",
       "      <td>746</td>\n",
       "      <td>France</td>\n",
       "      <td>Male</td>\n",
       "      <td>36</td>\n",
       "      <td>9</td>\n",
       "      <td>127157.04</td>\n",
       "      <td>1</td>\n",
       "      <td>1</td>\n",
       "      <td>1</td>\n",
       "      <td>155700.15</td>\n",
       "      <td>0</td>\n",
       "    </tr>\n",
       "    <tr>\n",
       "      <th>1467</th>\n",
       "      <td>15681843</td>\n",
       "      <td>624</td>\n",
       "      <td>Germany</td>\n",
       "      <td>Female</td>\n",
       "      <td>35</td>\n",
       "      <td>0</td>\n",
       "      <td>180303.24</td>\n",
       "      <td>2</td>\n",
       "      <td>1</td>\n",
       "      <td>0</td>\n",
       "      <td>163587.90</td>\n",
       "      <td>0</td>\n",
       "    </tr>\n",
       "  </tbody>\n",
       "</table>\n",
       "</div>"
      ],
      "text/plain": [
       "      customer_id  credit_score  country  gender  age  tenure    balance  \\\n",
       "9859     15615430           678  Germany    Male   55       4  129646.91   \n",
       "5133     15668104           479    Spain    Male   37       6  118433.94   \n",
       "6135     15624611           497    Spain    Male   37       8  128650.11   \n",
       "173      15586310           578   France    Male   30       4  169462.09   \n",
       "18       15661507           587    Spain    Male   45       6       0.00   \n",
       "4149     15621435           623   France  Female   39       1  160903.20   \n",
       "2351     15678284           651   France    Male   35       7   74623.50   \n",
       "330      15598493           656   France    Male   50       7       0.00   \n",
       "3852     15639669           746   France    Male   36       9  127157.04   \n",
       "1467     15681843           624  Germany  Female   35       0  180303.24   \n",
       "\n",
       "      products_number  credit_card  active_member  estimated_salary  churn  \n",
       "9859                1            1              1         184125.10      1  \n",
       "5133                1            0              1         160060.90      0  \n",
       "6135                2            1              1         163641.53      0  \n",
       "173                 1            1              0         112187.11      0  \n",
       "18                  1            0              0         158684.81      0  \n",
       "4149                1            0              0          78774.36      0  \n",
       "2351                3            1              0         129451.29      1  \n",
       "330                 2            0              1          72143.44      0  \n",
       "3852                1            1              1         155700.15      0  \n",
       "1467                2            1              0         163587.90      0  "
      ]
     },
     "execution_count": 3,
     "metadata": {},
     "output_type": "execute_result"
    }
   ],
   "source": [
    "# print data\n",
    "bank.sample(10)"
   ]
  },
  {
   "cell_type": "code",
   "execution_count": 4,
   "id": "6396e93d",
   "metadata": {},
   "outputs": [
    {
     "data": {
      "text/plain": [
       "customer_id           int64\n",
       "credit_score          int64\n",
       "country              object\n",
       "gender               object\n",
       "age                   int64\n",
       "tenure                int64\n",
       "balance             float64\n",
       "products_number       int64\n",
       "credit_card           int64\n",
       "active_member         int64\n",
       "estimated_salary    float64\n",
       "churn                 int64\n",
       "dtype: object"
      ]
     },
     "execution_count": 4,
     "metadata": {},
     "output_type": "execute_result"
    }
   ],
   "source": [
    "# checking the data types\n",
    "bank.dtypes"
   ]
  },
  {
   "cell_type": "code",
   "execution_count": 5,
   "id": "c50941b3",
   "metadata": {},
   "outputs": [
    {
     "name": "stdout",
     "output_type": "stream",
     "text": [
      "Number of rows in the dataframe 10000\n",
      "Number of columns in the dataframe 12\n"
     ]
    }
   ],
   "source": [
    "# dataframe shape\n",
    "print(f'Number of rows in the dataframe {bank.shape[0]}')\n",
    "print(f'Number of columns in the dataframe {bank.shape[1]}')"
   ]
  },
  {
   "cell_type": "code",
   "execution_count": 6,
   "id": "94348fd1",
   "metadata": {},
   "outputs": [
    {
     "data": {
      "text/html": [
       "<div>\n",
       "<style scoped>\n",
       "    .dataframe tbody tr th:only-of-type {\n",
       "        vertical-align: middle;\n",
       "    }\n",
       "\n",
       "    .dataframe tbody tr th {\n",
       "        vertical-align: top;\n",
       "    }\n",
       "\n",
       "    .dataframe thead th {\n",
       "        text-align: right;\n",
       "    }\n",
       "</style>\n",
       "<table border=\"1\" class=\"dataframe\">\n",
       "  <thead>\n",
       "    <tr style=\"text-align: right;\">\n",
       "      <th></th>\n",
       "      <th>count</th>\n",
       "      <th>mean</th>\n",
       "      <th>std</th>\n",
       "      <th>min</th>\n",
       "      <th>25%</th>\n",
       "      <th>50%</th>\n",
       "      <th>75%</th>\n",
       "      <th>max</th>\n",
       "    </tr>\n",
       "  </thead>\n",
       "  <tbody>\n",
       "    <tr>\n",
       "      <th>customer_id</th>\n",
       "      <td>10000.0</td>\n",
       "      <td>1.569094e+07</td>\n",
       "      <td>71936.186123</td>\n",
       "      <td>15565701.00</td>\n",
       "      <td>15628528.25</td>\n",
       "      <td>1.569074e+07</td>\n",
       "      <td>1.575323e+07</td>\n",
       "      <td>15815690.00</td>\n",
       "    </tr>\n",
       "    <tr>\n",
       "      <th>credit_score</th>\n",
       "      <td>10000.0</td>\n",
       "      <td>6.505288e+02</td>\n",
       "      <td>96.653299</td>\n",
       "      <td>350.00</td>\n",
       "      <td>584.00</td>\n",
       "      <td>6.520000e+02</td>\n",
       "      <td>7.180000e+02</td>\n",
       "      <td>850.00</td>\n",
       "    </tr>\n",
       "    <tr>\n",
       "      <th>age</th>\n",
       "      <td>10000.0</td>\n",
       "      <td>3.892180e+01</td>\n",
       "      <td>10.487806</td>\n",
       "      <td>18.00</td>\n",
       "      <td>32.00</td>\n",
       "      <td>3.700000e+01</td>\n",
       "      <td>4.400000e+01</td>\n",
       "      <td>92.00</td>\n",
       "    </tr>\n",
       "    <tr>\n",
       "      <th>tenure</th>\n",
       "      <td>10000.0</td>\n",
       "      <td>5.012800e+00</td>\n",
       "      <td>2.892174</td>\n",
       "      <td>0.00</td>\n",
       "      <td>3.00</td>\n",
       "      <td>5.000000e+00</td>\n",
       "      <td>7.000000e+00</td>\n",
       "      <td>10.00</td>\n",
       "    </tr>\n",
       "    <tr>\n",
       "      <th>balance</th>\n",
       "      <td>10000.0</td>\n",
       "      <td>7.648589e+04</td>\n",
       "      <td>62397.405202</td>\n",
       "      <td>0.00</td>\n",
       "      <td>0.00</td>\n",
       "      <td>9.719854e+04</td>\n",
       "      <td>1.276442e+05</td>\n",
       "      <td>250898.09</td>\n",
       "    </tr>\n",
       "    <tr>\n",
       "      <th>products_number</th>\n",
       "      <td>10000.0</td>\n",
       "      <td>1.530200e+00</td>\n",
       "      <td>0.581654</td>\n",
       "      <td>1.00</td>\n",
       "      <td>1.00</td>\n",
       "      <td>1.000000e+00</td>\n",
       "      <td>2.000000e+00</td>\n",
       "      <td>4.00</td>\n",
       "    </tr>\n",
       "    <tr>\n",
       "      <th>credit_card</th>\n",
       "      <td>10000.0</td>\n",
       "      <td>7.055000e-01</td>\n",
       "      <td>0.455840</td>\n",
       "      <td>0.00</td>\n",
       "      <td>0.00</td>\n",
       "      <td>1.000000e+00</td>\n",
       "      <td>1.000000e+00</td>\n",
       "      <td>1.00</td>\n",
       "    </tr>\n",
       "    <tr>\n",
       "      <th>active_member</th>\n",
       "      <td>10000.0</td>\n",
       "      <td>5.151000e-01</td>\n",
       "      <td>0.499797</td>\n",
       "      <td>0.00</td>\n",
       "      <td>0.00</td>\n",
       "      <td>1.000000e+00</td>\n",
       "      <td>1.000000e+00</td>\n",
       "      <td>1.00</td>\n",
       "    </tr>\n",
       "    <tr>\n",
       "      <th>estimated_salary</th>\n",
       "      <td>10000.0</td>\n",
       "      <td>1.000902e+05</td>\n",
       "      <td>57510.492818</td>\n",
       "      <td>11.58</td>\n",
       "      <td>51002.11</td>\n",
       "      <td>1.001939e+05</td>\n",
       "      <td>1.493882e+05</td>\n",
       "      <td>199992.48</td>\n",
       "    </tr>\n",
       "    <tr>\n",
       "      <th>churn</th>\n",
       "      <td>10000.0</td>\n",
       "      <td>2.037000e-01</td>\n",
       "      <td>0.402769</td>\n",
       "      <td>0.00</td>\n",
       "      <td>0.00</td>\n",
       "      <td>0.000000e+00</td>\n",
       "      <td>0.000000e+00</td>\n",
       "      <td>1.00</td>\n",
       "    </tr>\n",
       "  </tbody>\n",
       "</table>\n",
       "</div>"
      ],
      "text/plain": [
       "                    count          mean           std          min  \\\n",
       "customer_id       10000.0  1.569094e+07  71936.186123  15565701.00   \n",
       "credit_score      10000.0  6.505288e+02     96.653299       350.00   \n",
       "age               10000.0  3.892180e+01     10.487806        18.00   \n",
       "tenure            10000.0  5.012800e+00      2.892174         0.00   \n",
       "balance           10000.0  7.648589e+04  62397.405202         0.00   \n",
       "products_number   10000.0  1.530200e+00      0.581654         1.00   \n",
       "credit_card       10000.0  7.055000e-01      0.455840         0.00   \n",
       "active_member     10000.0  5.151000e-01      0.499797         0.00   \n",
       "estimated_salary  10000.0  1.000902e+05  57510.492818        11.58   \n",
       "churn             10000.0  2.037000e-01      0.402769         0.00   \n",
       "\n",
       "                          25%           50%           75%          max  \n",
       "customer_id       15628528.25  1.569074e+07  1.575323e+07  15815690.00  \n",
       "credit_score           584.00  6.520000e+02  7.180000e+02       850.00  \n",
       "age                     32.00  3.700000e+01  4.400000e+01        92.00  \n",
       "tenure                   3.00  5.000000e+00  7.000000e+00        10.00  \n",
       "balance                  0.00  9.719854e+04  1.276442e+05    250898.09  \n",
       "products_number          1.00  1.000000e+00  2.000000e+00         4.00  \n",
       "credit_card              0.00  1.000000e+00  1.000000e+00         1.00  \n",
       "active_member            0.00  1.000000e+00  1.000000e+00         1.00  \n",
       "estimated_salary     51002.11  1.001939e+05  1.493882e+05    199992.48  \n",
       "churn                    0.00  0.000000e+00  0.000000e+00         1.00  "
      ]
     },
     "execution_count": 6,
     "metadata": {},
     "output_type": "execute_result"
    }
   ],
   "source": [
    "bank.describe().T"
   ]
  },
  {
   "cell_type": "markdown",
   "id": "5c400e71",
   "metadata": {},
   "source": [
    "For binary variables, incl target:\n",
    "\n",
    "Churn: ~20.4% positive records CC: ~70.5% positive active member: ~51.5% positive\n",
    "\n",
    "For numerical:\n",
    "\n",
    "cc: seems about symmetrical (median ~= mean); ranges from 350 - 850\n",
    "\n",
    "age: 18 - 92; slightly skewed right, with mean of 38.9 and median of 37.\n",
    "\n",
    "tenure: seems symmetrical; anywhere from 0 years to 10 years.\n",
    "\n",
    "balance: ranges from  0𝑡𝑜 250k. The median > mean (~97k vs 76k), so it is skewed left\n",
    "\n",
    "estimated salary: mean / median both around 100k. ranges from 57.5k to ~200k."
   ]
  },
  {
   "cell_type": "markdown",
   "id": "8f3ccd25",
   "metadata": {},
   "source": [
    "### Missing values"
   ]
  },
  {
   "cell_type": "code",
   "execution_count": 7,
   "id": "8e2323df",
   "metadata": {},
   "outputs": [
    {
     "data": {
      "text/plain": [
       "customer_id         0\n",
       "credit_score        0\n",
       "country             0\n",
       "gender              0\n",
       "age                 0\n",
       "tenure              0\n",
       "balance             0\n",
       "products_number     0\n",
       "credit_card         0\n",
       "active_member       0\n",
       "estimated_salary    0\n",
       "churn               0\n",
       "dtype: int64"
      ]
     },
     "execution_count": 7,
     "metadata": {},
     "output_type": "execute_result"
    }
   ],
   "source": [
    "# checking for missing values\n",
    "bank.isnull().sum()"
   ]
  },
  {
   "cell_type": "markdown",
   "id": "08ba498c",
   "metadata": {},
   "source": [
    "There is no missing values in the dataset"
   ]
  },
  {
   "cell_type": "markdown",
   "id": "1d85e468",
   "metadata": {},
   "source": [
    "### Duplicated Rows"
   ]
  },
  {
   "cell_type": "code",
   "execution_count": 8,
   "id": "78dc6dce",
   "metadata": {},
   "outputs": [
    {
     "name": "stdout",
     "output_type": "stream",
     "text": [
      "The number of duplicated values are : 0\n"
     ]
    }
   ],
   "source": [
    "# checking for duplicated values\n",
    "duplicate_values = bank.duplicated().sum()\n",
    "print(f'The number of duplicated values are : {duplicate_values}')"
   ]
  },
  {
   "cell_type": "code",
   "execution_count": 9,
   "id": "cc321ab5",
   "metadata": {},
   "outputs": [
    {
     "data": {
      "text/plain": [
       "customer_id         10000\n",
       "credit_score          460\n",
       "country                 3\n",
       "gender                  2\n",
       "age                    70\n",
       "tenure                 11\n",
       "balance              6382\n",
       "products_number         4\n",
       "credit_card             2\n",
       "active_member           2\n",
       "estimated_salary     9999\n",
       "churn                   2\n",
       "dtype: int64"
      ]
     },
     "execution_count": 9,
     "metadata": {},
     "output_type": "execute_result"
    }
   ],
   "source": [
    "# check number of unique values for each column\n",
    "bank.nunique()"
   ]
  },
  {
   "cell_type": "markdown",
   "id": "faf0bff5",
   "metadata": {},
   "source": [
    "There are only 3 different countries and 4 different products. These two we can make into dummy variables. CC and active member are indeed binary. "
   ]
  },
  {
   "cell_type": "markdown",
   "id": "c122aeb6",
   "metadata": {},
   "source": [
    "### Visualization"
   ]
  },
  {
   "cell_type": "code",
   "execution_count": 10,
   "id": "573b1282",
   "metadata": {},
   "outputs": [
    {
     "name": "stdout",
     "output_type": "stream",
     "text": [
      "Number of No Churn:  7963\n",
      "Number of Churn :  2037\n"
     ]
    },
    {
     "data": {
      "image/png": "[encoded data removed]",
      "text/plain": [
       "<Figure size 576x504 with 1 Axes>"
      ]
     },
     "metadata": {
      "needs_background": "light"
     },
     "output_type": "display_data"
    }
   ],
   "source": [
    "# Bar graph of the target variable (0/1)\n",
    "plt.figure(figsize = (8,7))\n",
    "sns.countplot(x=\"churn\", data=bank).set(title='Count of Churn (1) vs No-Churn (0)')\n",
    "\n",
    "No_Churn, Churn = bank['churn'].value_counts()\n",
    "print('Number of No Churn: ',No_Churn)\n",
    "print('Number of Churn : ',Churn)"
   ]
  },
  {
   "cell_type": "code",
   "execution_count": 11,
   "id": "9492d21a",
   "metadata": {},
   "outputs": [
    {
     "data": {
      "text/plain": [
       "1    5084\n",
       "2    4590\n",
       "3     266\n",
       "4      60\n",
       "Name: products_number, dtype: int64"
      ]
     },
     "execution_count": 11,
     "metadata": {},
     "output_type": "execute_result"
    }
   ],
   "source": [
    "bank[\"products_number\"].value_counts()"
   ]
  },
  {
   "cell_type": "markdown",
   "id": "daa14835",
   "metadata": {},
   "source": [
    "The target variable is not balance"
   ]
  },
  {
   "cell_type": "markdown",
   "id": "6f2f96a2",
   "metadata": {},
   "source": [
    "### Dummy Variables"
   ]
  },
  {
   "cell_type": "markdown",
   "id": "5c644131",
   "metadata": {},
   "source": [
    "There is not missing values and duplicated values in the dataset. Now we can drop unnecessary columns. \"Customer-ID\"s are assigned at random and are not based on anything. Therefore, we can remove this column"
   ]
  },
  {
   "cell_type": "code",
   "execution_count": 12,
   "id": "55efad0c",
   "metadata": {},
   "outputs": [
    {
     "data": {
      "text/html": [
       "<div>\n",
       "<style scoped>\n",
       "    .dataframe tbody tr th:only-of-type {\n",
       "        vertical-align: middle;\n",
       "    }\n",
       "\n",
       "    .dataframe tbody tr th {\n",
       "        vertical-align: top;\n",
       "    }\n",
       "\n",
       "    .dataframe thead th {\n",
       "        text-align: right;\n",
       "    }\n",
       "</style>\n",
       "<table border=\"1\" class=\"dataframe\">\n",
       "  <thead>\n",
       "    <tr style=\"text-align: right;\">\n",
       "      <th></th>\n",
       "      <th>credit_score</th>\n",
       "      <th>age</th>\n",
       "      <th>tenure</th>\n",
       "      <th>balance</th>\n",
       "      <th>products_number</th>\n",
       "      <th>credit_card</th>\n",
       "      <th>active_member</th>\n",
       "      <th>estimated_salary</th>\n",
       "      <th>churn</th>\n",
       "      <th>country_Germany</th>\n",
       "      <th>country_Spain</th>\n",
       "      <th>gender_Male</th>\n",
       "    </tr>\n",
       "  </thead>\n",
       "  <tbody>\n",
       "    <tr>\n",
       "      <th>0</th>\n",
       "      <td>619</td>\n",
       "      <td>42</td>\n",
       "      <td>2</td>\n",
       "      <td>0.00</td>\n",
       "      <td>1</td>\n",
       "      <td>1</td>\n",
       "      <td>1</td>\n",
       "      <td>101348.88</td>\n",
       "      <td>1</td>\n",
       "      <td>0</td>\n",
       "      <td>0</td>\n",
       "      <td>0</td>\n",
       "    </tr>\n",
       "    <tr>\n",
       "      <th>1</th>\n",
       "      <td>608</td>\n",
       "      <td>41</td>\n",
       "      <td>1</td>\n",
       "      <td>83807.86</td>\n",
       "      <td>1</td>\n",
       "      <td>0</td>\n",
       "      <td>1</td>\n",
       "      <td>112542.58</td>\n",
       "      <td>0</td>\n",
       "      <td>0</td>\n",
       "      <td>1</td>\n",
       "      <td>0</td>\n",
       "    </tr>\n",
       "    <tr>\n",
       "      <th>2</th>\n",
       "      <td>502</td>\n",
       "      <td>42</td>\n",
       "      <td>8</td>\n",
       "      <td>159660.80</td>\n",
       "      <td>3</td>\n",
       "      <td>1</td>\n",
       "      <td>0</td>\n",
       "      <td>113931.57</td>\n",
       "      <td>1</td>\n",
       "      <td>0</td>\n",
       "      <td>0</td>\n",
       "      <td>0</td>\n",
       "    </tr>\n",
       "    <tr>\n",
       "      <th>3</th>\n",
       "      <td>699</td>\n",
       "      <td>39</td>\n",
       "      <td>1</td>\n",
       "      <td>0.00</td>\n",
       "      <td>2</td>\n",
       "      <td>0</td>\n",
       "      <td>0</td>\n",
       "      <td>93826.63</td>\n",
       "      <td>0</td>\n",
       "      <td>0</td>\n",
       "      <td>0</td>\n",
       "      <td>0</td>\n",
       "    </tr>\n",
       "    <tr>\n",
       "      <th>4</th>\n",
       "      <td>850</td>\n",
       "      <td>43</td>\n",
       "      <td>2</td>\n",
       "      <td>125510.82</td>\n",
       "      <td>1</td>\n",
       "      <td>1</td>\n",
       "      <td>1</td>\n",
       "      <td>79084.10</td>\n",
       "      <td>0</td>\n",
       "      <td>0</td>\n",
       "      <td>1</td>\n",
       "      <td>0</td>\n",
       "    </tr>\n",
       "  </tbody>\n",
       "</table>\n",
       "</div>"
      ],
      "text/plain": [
       "   credit_score  age  tenure    balance  products_number  credit_card  \\\n",
       "0           619   42       2       0.00                1            1   \n",
       "1           608   41       1   83807.86                1            0   \n",
       "2           502   42       8  159660.80                3            1   \n",
       "3           699   39       1       0.00                2            0   \n",
       "4           850   43       2  125510.82                1            1   \n",
       "\n",
       "   active_member  estimated_salary  churn  country_Germany  country_Spain  \\\n",
       "0              1         101348.88      1                0              0   \n",
       "1              1         112542.58      0                0              1   \n",
       "2              0         113931.57      1                0              0   \n",
       "3              0          93826.63      0                0              0   \n",
       "4              1          79084.10      0                0              1   \n",
       "\n",
       "   gender_Male  \n",
       "0            0  \n",
       "1            0  \n",
       "2            0  \n",
       "3            0  \n",
       "4            0  "
      ]
     },
     "execution_count": 12,
     "metadata": {},
     "output_type": "execute_result"
    }
   ],
   "source": [
    "bank_country = pd.get_dummies(bank['country'], prefix = 'country', drop_first = True)\n",
    "bank_gender= pd.get_dummies(bank['gender'], prefix = 'gender', drop_first = True)\n",
    "\n",
    "churn_df = bank.drop(['country', 'gender', 'customer_id'], axis = 1)\n",
    "\n",
    "churn_df = pd.concat([churn_df, bank_country, bank_gender], axis = 1)\n",
    "\n",
    "churn_df.head()"
   ]
  },
  {
   "cell_type": "code",
   "execution_count": 13,
   "id": "078a43c1",
   "metadata": {},
   "outputs": [
    {
     "data": {
      "text/plain": [
       "credit_score          int64\n",
       "age                   int64\n",
       "tenure                int64\n",
       "balance             float64\n",
       "products_number       int64\n",
       "credit_card           int64\n",
       "active_member         int64\n",
       "estimated_salary    float64\n",
       "churn                 int64\n",
       "country_Germany       int64\n",
       "country_Spain         int64\n",
       "gender_Male           int64\n",
       "dtype: object"
      ]
     },
     "execution_count": 13,
     "metadata": {},
     "output_type": "execute_result"
    }
   ],
   "source": [
    "# change the data type of the dummy variables (uint8 --> int64)\n",
    "def data_type_change(df,cols):\n",
    "    df[cols]=df[cols].astype(int)\n",
    "    return df\n",
    "\n",
    "churn_df = data_type_change(churn_df,[\"country_Germany\",\"country_Spain\",\n",
    "                                      \"gender_Male\"])\n",
    "\n",
    "churn_df.dtypes"
   ]
  },
  {
   "cell_type": "markdown",
   "id": "71bdc2dc",
   "metadata": {},
   "source": [
    "### Correlation"
   ]
  },
  {
   "cell_type": "code",
   "execution_count": 14,
   "id": "2e558316",
   "metadata": {
    "scrolled": true
   },
   "outputs": [
    {
     "data": {
      "text/plain": [
       "<AxesSubplot:>"
      ]
     },
     "execution_count": 14,
     "metadata": {},
     "output_type": "execute_result"
    },
    {
     "data": {
      "image/png": "[encoded data removed]",
      "text/plain": [
       "<Figure size 1152x432 with 2 Axes>"
      ]
     },
     "metadata": {
      "needs_background": "light"
     },
     "output_type": "display_data"
    }
   ],
   "source": [
    "# Correlation matrix\n",
    "plt.figure(figsize=(16, 6))\n",
    "sns.heatmap(round(churn_df.corr(),2), annot = True)"
   ]
  },
  {
   "cell_type": "markdown",
   "id": "8d97c27e",
   "metadata": {},
   "source": [
    "highest correlations with churn: age (+.29), country_germany (+.17)\n",
    "\n",
    "Multi collinearities?\n",
    "\n",
    "Age -- no, next highest correlation is .09 with active member.\n",
    "\n",
    "country_Germany -- .4 with balance; -.33 with country_Spain"
   ]
  },
  {
   "cell_type": "markdown",
   "id": "be780767",
   "metadata": {},
   "source": [
    "### Continues variables and Churn"
   ]
  },
  {
   "cell_type": "code",
   "execution_count": 15,
   "id": "9030e12d",
   "metadata": {},
   "outputs": [
    {
     "data": {
      "image/png": "[encoded data removed]",
      "text/plain": [
       "<Figure size 432x288 with 1 Axes>"
      ]
     },
     "metadata": {
      "needs_background": "light"
     },
     "output_type": "display_data"
    }
   ],
   "source": [
    "a=bank[bank.churn==1]['age']\n",
    "b=bank[bank.churn==0]['age']\n",
    "(n,bins,patches) = plt.hist([a, b], edgecolor='black',bins = 10, stacked = True)\n",
    "plt.legend(['Response = Yes', 'Response = No']) \n",
    "plt.title('Histogram of Age with Churn Overlay')\n",
    "plt.xlabel('Age')\n",
    "plt.ylabel('Frequency') \n",
    "plt.show()\n"
   ]
  },
  {
   "cell_type": "code",
   "execution_count": 16,
   "id": "663d76a8",
   "metadata": {},
   "outputs": [
    {
     "data": {
      "image/png": "[encoded data removed]",
      "text/plain": [
       "<Figure size 432x288 with 1 Axes>"
      ]
     },
     "metadata": {
      "needs_background": "light"
     },
     "output_type": "display_data"
    }
   ],
   "source": [
    "n_table = np.column_stack((n[0],n[1]))\n",
    "n_norm = n_table/n_table.sum(axis=1)[:,None] \n",
    "ourbins = np.column_stack((bins[0:10], bins[1:11])) \n",
    "p1=plt.bar(x=ourbins[:,0], height = n_norm[:,0],width = ourbins[:, 1]- ourbins[:, 0])\n",
    "p2 = plt.bar(x = ourbins[:,0], height = n_norm[:,1],width = ourbins[:, 1] - ourbins[:, 0],bottom = n_norm[:,0]) \n",
    "plt.legend(['Response = Yes', 'Response = No'])\n",
    "plt.title('Normalized Histogram of Age with Churn Overlay') \n",
    "plt.xlabel('Age')\n",
    "plt.ylabel('Proportion')\n",
    "plt.show()"
   ]
  },
  {
   "cell_type": "code",
   "execution_count": 17,
   "id": "e3390d91",
   "metadata": {},
   "outputs": [
    {
     "data": {
      "image/png": "[encoded data removed]",
      "text/plain": [
       "<Figure size 432x288 with 1 Axes>"
      ]
     },
     "metadata": {
      "needs_background": "light"
     },
     "output_type": "display_data"
    }
   ],
   "source": [
    "a=bank[bank.churn==1]['balance']\n",
    "b=bank[bank.churn==0]['balance']\n",
    "(n,bins,patches) = plt.hist([a, b], edgecolor='black',bins = 10, stacked = True)\n",
    "plt.legend(['Response = Yes', 'Response = No']) \n",
    "plt.title(' Histogram of Balance with Churn Overlay')\n",
    "plt.xlabel('Balance')\n",
    "plt.ylabel('Frequency') \n",
    "plt.show()"
   ]
  },
  {
   "cell_type": "code",
   "execution_count": 18,
   "id": "b711aeb2",
   "metadata": {},
   "outputs": [
    {
     "data": {
      "image/png": "[encoded data removed]",
      "text/plain": [
       "<Figure size 432x288 with 1 Axes>"
      ]
     },
     "metadata": {
      "needs_background": "light"
     },
     "output_type": "display_data"
    }
   ],
   "source": [
    "n_table = np.column_stack((n[0],n[1]))\n",
    "n_norm = n_table/n_table.sum(axis=1)[:,None] \n",
    "ourbins = np.column_stack((bins[0:10], bins[1:11])) \n",
    "p1=plt.bar(x=ourbins[:,0], height = n_norm[:,0],width = ourbins[:, 1]- ourbins[:, 0])\n",
    "p2 = plt.bar(x = ourbins[:,0], height = n_norm[:,1],width = ourbins[:, 1] - ourbins[:, 0],bottom = n_norm[:,0]) \n",
    "plt.legend(['Response = Yes', 'Response = No'])\n",
    "plt.title('Normalized Histogram of Balance with Churn Overlay') \n",
    "plt.xlabel('Balance')\n",
    "plt.ylabel('Proportion')\n",
    "plt.show()"
   ]
  },
  {
   "cell_type": "code",
   "execution_count": 19,
   "id": "f99b2cfd",
   "metadata": {},
   "outputs": [
    {
     "data": {
      "text/plain": [
       "Text(0, 0.5, 'Frequency')"
      ]
     },
     "execution_count": 19,
     "metadata": {},
     "output_type": "execute_result"
    },
    {
     "data": {
      "image/png": "[encoded data removed]",
      "text/plain": [
       "<Figure size 432x288 with 1 Axes>"
      ]
     },
     "metadata": {
      "needs_background": "light"
     },
     "output_type": "display_data"
    }
   ],
   "source": [
    "a=bank[bank.churn ==1]['estimated_salary']\n",
    "b=bank[bank.churn==0]['estimated_salary']\n",
    "(n,bins,patches) = plt.hist([a, b], edgecolor='black',bins = 10, stacked = True)\n",
    "plt.legend(['churn= Yes','churn=No'])\n",
    "plt.title('Histogram of Estimated Salary with Churn Overlay')\n",
    "plt.xlabel('Estimated Salary')\n",
    "plt.ylabel('Frequency')"
   ]
  },
  {
   "cell_type": "code",
   "execution_count": 20,
   "id": "d5a3936b",
   "metadata": {},
   "outputs": [
    {
     "data": {
      "image/png": "[encoded data removed]",
      "text/plain": [
       "<Figure size 432x288 with 1 Axes>"
      ]
     },
     "metadata": {
      "needs_background": "light"
     },
     "output_type": "display_data"
    }
   ],
   "source": [
    "n_table = np.column_stack((n[0],n[1]))\n",
    "n_norm = n_table/n_table.sum(axis=1)[:,None] \n",
    "ourbins = np.column_stack((bins[0:10], bins[1:11])) \n",
    "p1=plt.bar(x=ourbins[:,0], height = n_norm[:,0],width = ourbins[:, 1]- ourbins[:, 0])\n",
    "p2 = plt.bar(x = ourbins[:,0], height = n_norm[:,1],width = ourbins[:, 1] - ourbins[:, 0],bottom = n_norm[:,0]) \n",
    "plt.legend(['Response = Yes', 'Response = No'])\n",
    "plt.title('Normalized Histogram of Estimated Salary with Churn Overlay') \n",
    "plt.xlabel('Estimated Salary')\n",
    "plt.ylabel('Proportion')\n",
    "plt.show()"
   ]
  },
  {
   "cell_type": "code",
   "execution_count": 21,
   "id": "da1c5d45",
   "metadata": {},
   "outputs": [
    {
     "data": {
      "text/plain": [
       "Text(0, 0.5, 'Frequency')"
      ]
     },
     "execution_count": 21,
     "metadata": {},
     "output_type": "execute_result"
    },
    {
     "data": {
      "image/png": "[encoded data removed]",
      "text/plain": [
       "<Figure size 432x288 with 1 Axes>"
      ]
     },
     "metadata": {
      "needs_background": "light"
     },
     "output_type": "display_data"
    }
   ],
   "source": [
    "a=bank[bank.churn ==1]['credit_score']\n",
    "b=bank[bank.churn==0]['credit_score']\n",
    "(n,bins,patches) = plt.hist([a, b], edgecolor='black',bins = 10, stacked = True)\n",
    "plt.legend(['churn= Yes','churn=No'])\n",
    "plt.title('Histogram of Credit Score with Churn Overlay')\n",
    "plt.xlabel('Credit Score')\n",
    "plt.ylabel('Frequency')"
   ]
  },
  {
   "cell_type": "code",
   "execution_count": 22,
   "id": "ff1c6a80",
   "metadata": {},
   "outputs": [
    {
     "data": {
      "image/png": "[encoded data removed]",
      "text/plain": [
       "<Figure size 432x288 with 1 Axes>"
      ]
     },
     "metadata": {
      "needs_background": "light"
     },
     "output_type": "display_data"
    }
   ],
   "source": [
    "n_table = np.column_stack((n[0],n[1]))\n",
    "n_norm = n_table/n_table.sum(axis=1)[:,None] \n",
    "ourbins = np.column_stack((bins[0:10], bins[1:11])) \n",
    "p1=plt.bar(x=ourbins[:,0], height = n_norm[:,0],width = ourbins[:, 1]- ourbins[:, 0])\n",
    "p2 = plt.bar(x = ourbins[:,0], height = n_norm[:,1],width = ourbins[:, 1] - ourbins[:, 0],bottom = n_norm[:,0]) \n",
    "plt.legend(['Response = Yes', 'Response = No'])\n",
    "plt.title('Normalized Histogram of Credit Score with Churn Overlay') \n",
    "plt.xlabel('Credit Score')\n",
    "plt.ylabel('Proportion')\n",
    "plt.show()"
   ]
  },
  {
   "cell_type": "markdown",
   "id": "720a6a63",
   "metadata": {},
   "source": [
    "### Distribution of Numerical Variables"
   ]
  },
  {
   "cell_type": "code",
   "execution_count": 23,
   "id": "e6b7d122",
   "metadata": {},
   "outputs": [
    {
     "data": {
      "image/png": "[encoded data removed]",
      "text/plain": [
       "<Figure size 1440x1440 with 1 Axes>"
      ]
     },
     "metadata": {
      "needs_background": "light"
     },
     "output_type": "display_data"
    },
    {
     "data": {
      "image/png": "[encoded data removed]",
      "text/plain": [
       "<Figure size 1440x1440 with 1 Axes>"
      ]
     },
     "metadata": {
      "needs_background": "light"
     },
     "output_type": "display_data"
    },
    {
     "data": {
      "image/png": "[encoded data removed]",
      "text/plain": [
       "<Figure size 1440x1440 with 1 Axes>"
      ]
     },
     "metadata": {
      "needs_background": "light"
     },
     "output_type": "display_data"
    },
    {
     "data": {
      "image/png": "[encoded data removed]",
      "text/plain": [
       "<Figure size 1440x1440 with 1 Axes>"
      ]
     },
     "metadata": {
      "needs_background": "light"
     },
     "output_type": "display_data"
    },
    {
     "data": {
      "image/png": "[encoded data removed]",
      "text/plain": [
       "<Figure size 1440x1440 with 1 Axes>"
      ]
     },
     "metadata": {
      "needs_background": "light"
     },
     "output_type": "display_data"
    }
   ],
   "source": [
    "# Visualizing each numerical variables histogram\n",
    "col=churn_df[['credit_score','age','tenure','balance','estimated_salary']]\n",
    "for i in col:\n",
    "  n=1\n",
    "  plt.figure(figsize=(20,20))\n",
    "  plt.subplot(4,3,1)\n",
    "  plt.hist(churn_df[i],edgecolor='black')\n",
    "  plt.title(i)\n",
    "  plt.show()\n",
    "  n=n+1"
   ]
  },
  {
   "cell_type": "markdown",
   "id": "a4cb36bf",
   "metadata": {},
   "source": [
    "###  Skewness"
   ]
  },
  {
   "cell_type": "code",
   "execution_count": 24,
   "id": "0ee00974",
   "metadata": {},
   "outputs": [
    {
     "data": {
      "text/plain": [
       "credit_score       -0.071607\n",
       "age                 1.011320\n",
       "tenure              0.010991\n",
       "balance            -0.141109\n",
       "estimated_salary    0.002085\n",
       "dtype: float64"
      ]
     },
     "execution_count": 24,
     "metadata": {},
     "output_type": "execute_result"
    }
   ],
   "source": [
    "# check the skewness\n",
    "col=churn_df[['credit_score','age','tenure','balance','estimated_salary']]\n",
    "col.skew()"
   ]
  },
  {
   "cell_type": "markdown",
   "id": "c7be8d9b",
   "metadata": {},
   "source": [
    "### Log Transformation"
   ]
  },
  {
   "cell_type": "code",
   "execution_count": 25,
   "id": "c6cb89f1",
   "metadata": {},
   "outputs": [
    {
     "data": {
      "text/plain": [
       "Text(0.5, 1.0, 'Log Transformed Age')"
      ]
     },
     "execution_count": 25,
     "metadata": {},
     "output_type": "execute_result"
    },
    {
     "data": {
      "image/png": "[encoded data removed]",
      "text/plain": [
       "<Figure size 576x360 with 2 Axes>"
      ]
     },
     "metadata": {
      "needs_background": "light"
     },
     "output_type": "display_data"
    }
   ],
   "source": [
    "# log transformation for age \n",
    "np.random.seed(0)\n",
    "age_trans = np.log(churn_df['age'])\n",
    "fig, axs = plt.subplots(nrows=1, ncols=2,figsize=(8,5))\n",
    "axs[0].hist(churn_df['age'], edgecolor='black')\n",
    "axs[1].hist(age_trans, edgecolor='black')\n",
    "axs[0].set_title('Original Age')\n",
    "axs[1].set_title('Log Transformed Age')"
   ]
  },
  {
   "cell_type": "code",
   "execution_count": 26,
   "id": "fa5353af",
   "metadata": {},
   "outputs": [],
   "source": [
    "# converting  skewed column to the transformed values\n",
    "churn_df['age']=age_trans"
   ]
  },
  {
   "cell_type": "markdown",
   "id": "dc4b29fa",
   "metadata": {},
   "source": [
    "### Scaling"
   ]
  },
  {
   "cell_type": "code",
   "execution_count": 27,
   "id": "e69b67d4",
   "metadata": {},
   "outputs": [
    {
     "data": {
      "text/html": [
       "<div>\n",
       "<style scoped>\n",
       "    .dataframe tbody tr th:only-of-type {\n",
       "        vertical-align: middle;\n",
       "    }\n",
       "\n",
       "    .dataframe tbody tr th {\n",
       "        vertical-align: top;\n",
       "    }\n",
       "\n",
       "    .dataframe thead th {\n",
       "        text-align: right;\n",
       "    }\n",
       "</style>\n",
       "<table border=\"1\" class=\"dataframe\">\n",
       "  <thead>\n",
       "    <tr style=\"text-align: right;\">\n",
       "      <th></th>\n",
       "      <th>credit_score</th>\n",
       "      <th>age</th>\n",
       "      <th>tenure</th>\n",
       "      <th>balance</th>\n",
       "      <th>estimated_salary</th>\n",
       "    </tr>\n",
       "  </thead>\n",
       "  <tbody>\n",
       "    <tr>\n",
       "      <th>0</th>\n",
       "      <td>-0.326221</td>\n",
       "      <td>0.425883</td>\n",
       "      <td>-1.041760</td>\n",
       "      <td>-1.225848</td>\n",
       "      <td>0.021886</td>\n",
       "    </tr>\n",
       "    <tr>\n",
       "      <th>1</th>\n",
       "      <td>-0.440036</td>\n",
       "      <td>0.332621</td>\n",
       "      <td>-1.387538</td>\n",
       "      <td>0.117350</td>\n",
       "      <td>0.216534</td>\n",
       "    </tr>\n",
       "    <tr>\n",
       "      <th>2</th>\n",
       "      <td>-1.536794</td>\n",
       "      <td>0.425883</td>\n",
       "      <td>1.032908</td>\n",
       "      <td>1.333053</td>\n",
       "      <td>0.240687</td>\n",
       "    </tr>\n",
       "    <tr>\n",
       "      <th>3</th>\n",
       "      <td>0.501521</td>\n",
       "      <td>0.139072</td>\n",
       "      <td>-1.387538</td>\n",
       "      <td>-1.225848</td>\n",
       "      <td>-0.108918</td>\n",
       "    </tr>\n",
       "    <tr>\n",
       "      <th>4</th>\n",
       "      <td>2.063884</td>\n",
       "      <td>0.516950</td>\n",
       "      <td>-1.041760</td>\n",
       "      <td>0.785728</td>\n",
       "      <td>-0.365276</td>\n",
       "    </tr>\n",
       "  </tbody>\n",
       "</table>\n",
       "</div>"
      ],
      "text/plain": [
       "   credit_score       age    tenure   balance  estimated_salary\n",
       "0     -0.326221  0.425883 -1.041760 -1.225848          0.021886\n",
       "1     -0.440036  0.332621 -1.387538  0.117350          0.216534\n",
       "2     -1.536794  0.425883  1.032908  1.333053          0.240687\n",
       "3      0.501521  0.139072 -1.387538 -1.225848         -0.108918\n",
       "4      2.063884  0.516950 -1.041760  0.785728         -0.365276"
      ]
     },
     "execution_count": 27,
     "metadata": {},
     "output_type": "execute_result"
    }
   ],
   "source": [
    "# for scaling any numerical \n",
    "\n",
    "churn_numerical = churn_df[['credit_score','age', 'tenure','balance', 'estimated_salary']]\n",
    "\n",
    "\n",
    "from sklearn.preprocessing import StandardScaler\n",
    "\n",
    "scaler = StandardScaler()\n",
    "\n",
    "scaler.fit(churn_numerical)\n",
    "\n",
    "churn_numerical_scaled = scaler.transform(churn_numerical)\n",
    "\n",
    "churn_numerical_scaled = pd.DataFrame(churn_numerical_scaled, columns = churn_numerical.columns)\n",
    "\n",
    "churn_numerical_scaled.head()"
   ]
  },
  {
   "cell_type": "code",
   "execution_count": 28,
   "id": "3b1a1310",
   "metadata": {},
   "outputs": [
    {
     "data": {
      "text/html": [
       "<div>\n",
       "<style scoped>\n",
       "    .dataframe tbody tr th:only-of-type {\n",
       "        vertical-align: middle;\n",
       "    }\n",
       "\n",
       "    .dataframe tbody tr th {\n",
       "        vertical-align: top;\n",
       "    }\n",
       "\n",
       "    .dataframe thead th {\n",
       "        text-align: right;\n",
       "    }\n",
       "</style>\n",
       "<table border=\"1\" class=\"dataframe\">\n",
       "  <thead>\n",
       "    <tr style=\"text-align: right;\">\n",
       "      <th></th>\n",
       "      <th>products_number</th>\n",
       "      <th>credit_card</th>\n",
       "      <th>active_member</th>\n",
       "      <th>churn</th>\n",
       "      <th>country_Germany</th>\n",
       "      <th>country_Spain</th>\n",
       "      <th>gender_Male</th>\n",
       "      <th>credit_score</th>\n",
       "      <th>age</th>\n",
       "      <th>tenure</th>\n",
       "      <th>balance</th>\n",
       "      <th>estimated_salary</th>\n",
       "    </tr>\n",
       "  </thead>\n",
       "  <tbody>\n",
       "    <tr>\n",
       "      <th>0</th>\n",
       "      <td>1</td>\n",
       "      <td>1</td>\n",
       "      <td>1</td>\n",
       "      <td>1</td>\n",
       "      <td>0</td>\n",
       "      <td>0</td>\n",
       "      <td>0</td>\n",
       "      <td>-0.326221</td>\n",
       "      <td>0.425883</td>\n",
       "      <td>-1.041760</td>\n",
       "      <td>-1.225848</td>\n",
       "      <td>0.021886</td>\n",
       "    </tr>\n",
       "    <tr>\n",
       "      <th>1</th>\n",
       "      <td>1</td>\n",
       "      <td>0</td>\n",
       "      <td>1</td>\n",
       "      <td>0</td>\n",
       "      <td>0</td>\n",
       "      <td>1</td>\n",
       "      <td>0</td>\n",
       "      <td>-0.440036</td>\n",
       "      <td>0.332621</td>\n",
       "      <td>-1.387538</td>\n",
       "      <td>0.117350</td>\n",
       "      <td>0.216534</td>\n",
       "    </tr>\n",
       "    <tr>\n",
       "      <th>2</th>\n",
       "      <td>3</td>\n",
       "      <td>1</td>\n",
       "      <td>0</td>\n",
       "      <td>1</td>\n",
       "      <td>0</td>\n",
       "      <td>0</td>\n",
       "      <td>0</td>\n",
       "      <td>-1.536794</td>\n",
       "      <td>0.425883</td>\n",
       "      <td>1.032908</td>\n",
       "      <td>1.333053</td>\n",
       "      <td>0.240687</td>\n",
       "    </tr>\n",
       "    <tr>\n",
       "      <th>3</th>\n",
       "      <td>2</td>\n",
       "      <td>0</td>\n",
       "      <td>0</td>\n",
       "      <td>0</td>\n",
       "      <td>0</td>\n",
       "      <td>0</td>\n",
       "      <td>0</td>\n",
       "      <td>0.501521</td>\n",
       "      <td>0.139072</td>\n",
       "      <td>-1.387538</td>\n",
       "      <td>-1.225848</td>\n",
       "      <td>-0.108918</td>\n",
       "    </tr>\n",
       "    <tr>\n",
       "      <th>4</th>\n",
       "      <td>1</td>\n",
       "      <td>1</td>\n",
       "      <td>1</td>\n",
       "      <td>0</td>\n",
       "      <td>0</td>\n",
       "      <td>1</td>\n",
       "      <td>0</td>\n",
       "      <td>2.063884</td>\n",
       "      <td>0.516950</td>\n",
       "      <td>-1.041760</td>\n",
       "      <td>0.785728</td>\n",
       "      <td>-0.365276</td>\n",
       "    </tr>\n",
       "  </tbody>\n",
       "</table>\n",
       "</div>"
      ],
      "text/plain": [
       "   products_number  credit_card  active_member  churn  country_Germany  \\\n",
       "0                1            1              1      1                0   \n",
       "1                1            0              1      0                0   \n",
       "2                3            1              0      1                0   \n",
       "3                2            0              0      0                0   \n",
       "4                1            1              1      0                0   \n",
       "\n",
       "   country_Spain  gender_Male  credit_score       age    tenure   balance  \\\n",
       "0              0            0     -0.326221  0.425883 -1.041760 -1.225848   \n",
       "1              1            0     -0.440036  0.332621 -1.387538  0.117350   \n",
       "2              0            0     -1.536794  0.425883  1.032908  1.333053   \n",
       "3              0            0      0.501521  0.139072 -1.387538 -1.225848   \n",
       "4              1            0      2.063884  0.516950 -1.041760  0.785728   \n",
       "\n",
       "   estimated_salary  \n",
       "0          0.021886  \n",
       "1          0.216534  \n",
       "2          0.240687  \n",
       "3         -0.108918  \n",
       "4         -0.365276  "
      ]
     },
     "execution_count": 28,
     "metadata": {},
     "output_type": "execute_result"
    }
   ],
   "source": [
    "# We can add these back into the\n",
    "\n",
    "churn_df_scaled = churn_df.drop(churn_numerical, axis =1)\n",
    "\n",
    "churn_df_scaled = pd.concat([churn_df_scaled, churn_numerical_scaled], axis = 1)\n",
    "\n",
    "churn_df_scaled.head(5)"
   ]
  },
  {
   "cell_type": "markdown",
   "id": "fe49abbb",
   "metadata": {},
   "source": [
    "### Outliers"
   ]
  },
  {
   "cell_type": "code",
   "execution_count": 29,
   "id": "f7d633df",
   "metadata": {},
   "outputs": [
    {
     "data": {
      "text/plain": [
       "<AxesSubplot:xlabel='estimated_salary'>"
      ]
     },
     "execution_count": 29,
     "metadata": {},
     "output_type": "execute_result"
    },
    {
     "data": {
      "image/png": "[encoded data removed]",
      "text/plain": [
       "<Figure size 576x576 with 6 Axes>"
      ]
     },
     "metadata": {
      "needs_background": "light"
     },
     "output_type": "display_data"
    }
   ],
   "source": [
    "fig, axes = plt.subplots(2,3, figsize=(8,8))\n",
    "plt.suptitle('Box plots of credit_score, age, tenure, balance, estimated_salary with outliers')\n",
    "\n",
    "sns.boxplot(churn_df_scaled['credit_score'],ax=axes[0,0])\n",
    "sns.boxplot(churn_df_scaled['age'],ax=axes[0,1])\n",
    "sns.boxplot(churn_df_scaled['tenure'],ax=axes[0,2])\n",
    "sns.boxplot(churn_df_scaled['balance'],ax=axes[1,0])\n",
    "sns.boxplot(churn_df_scaled['estimated_salary'],ax=axes[1,1])"
   ]
  },
  {
   "cell_type": "code",
   "execution_count": 30,
   "id": "a85a7a1f",
   "metadata": {},
   "outputs": [
    {
     "name": "stdout",
     "output_type": "stream",
     "text": [
      "feature:  credit_score\n",
      "feature:  age\n",
      "feature:  tenure\n",
      "feature:  balance\n",
      "feature:  estimated_salary\n"
     ]
    }
   ],
   "source": [
    "#Boxplot WITH outliers\n",
    "numeric_columns= ['credit_score','age','tenure','balance','estimated_salary']\n",
    "for col_name in numeric_columns:\n",
    "  print('feature: ', col_name)\n",
    "  \n",
    "\n",
    "  #IQR\n",
    "  Q1 = churn_df_scaled[col_name].quantile(0.25)\n",
    "  Q3 = churn_df_scaled[col_name].quantile(0.75)\n",
    "  IQR = Q3-Q1\n",
    "\n",
    "  mean1 = round(churn_df_scaled[col_name].mean(),2)\n",
    "  std1 = round(churn_df_scaled[col_name].std(),2)\n",
    "  median1 = round(churn_df_scaled[col_name].median(),2)\n",
    "  churn_df_scaled = churn_df_scaled[(churn_df_scaled[col_name] > (Q1 - 1.5 * IQR)) & (churn_df_scaled[col_name] < (Q3 + 1.5 * IQR))]"
   ]
  },
  {
   "cell_type": "code",
   "execution_count": 31,
   "id": "a1066220",
   "metadata": {},
   "outputs": [
    {
     "data": {
      "image/png": "[encoded data removed]",
      "text/plain": [
       "<Figure size 576x288 with 1 Axes>"
      ]
     },
     "metadata": {
      "needs_background": "light"
     },
     "output_type": "display_data"
    },
    {
     "data": {
      "image/png": "[encoded data removed]",
      "text/plain": [
       "<Figure size 576x288 with 1 Axes>"
      ]
     },
     "metadata": {
      "needs_background": "light"
     },
     "output_type": "display_data"
    },
    {
     "data": {
      "image/png": "[encoded data removed]",
      "text/plain": [
       "<Figure size 576x288 with 1 Axes>"
      ]
     },
     "metadata": {
      "needs_background": "light"
     },
     "output_type": "display_data"
    },
    {
     "data": {
      "image/png": "[encoded data removed]",
      "text/plain": [
       "<Figure size 576x288 with 1 Axes>"
      ]
     },
     "metadata": {
      "needs_background": "light"
     },
     "output_type": "display_data"
    },
    {
     "data": {
      "image/png": "[encoded data removed]",
      "text/plain": [
       "<Figure size 576x288 with 1 Axes>"
      ]
     },
     "metadata": {
      "needs_background": "light"
     },
     "output_type": "display_data"
    }
   ],
   "source": [
    "#Boxplot WITHOUT outliers\n",
    "numeric_columns= ['credit_score','age','tenure','balance','estimated_salary'] \n",
    "for col_name in numeric_columns:\n",
    "  plt.figure(figsize = (8,4))\n",
    "  sns.boxplot(x = churn_df_scaled[col_name])"
   ]
  },
  {
   "cell_type": "code",
   "execution_count": 32,
   "id": "987222c9",
   "metadata": {},
   "outputs": [
    {
     "data": {
      "text/plain": [
       "(9802, 12)"
      ]
     },
     "execution_count": 32,
     "metadata": {},
     "output_type": "execute_result"
    }
   ],
   "source": [
    "churn_df_scaled.shape"
   ]
  },
  {
   "cell_type": "markdown",
   "id": "6d54b810",
   "metadata": {},
   "source": [
    "The number of 198 samples were removed from the data."
   ]
  },
  {
   "cell_type": "markdown",
   "id": "6574f0e1",
   "metadata": {},
   "source": [
    "### Imbalance dataset"
   ]
  },
  {
   "cell_type": "code",
   "execution_count": 33,
   "id": "387d01ec",
   "metadata": {},
   "outputs": [
    {
     "data": {
      "text/plain": [
       "0    0.795246\n",
       "1    0.204754\n",
       "Name: churn, dtype: float64"
      ]
     },
     "execution_count": 33,
     "metadata": {},
     "output_type": "execute_result"
    }
   ],
   "source": [
    "churn_df_scaled['churn'].value_counts()/churn_df_scaled.shape[0]"
   ]
  },
  {
   "cell_type": "code",
   "execution_count": 34,
   "id": "69e2833a",
   "metadata": {},
   "outputs": [],
   "source": [
    "# splitting into X and Y\n",
    "\n",
    "X = churn_df_scaled.drop('churn', axis = 1)\n",
    "y = churn_df_scaled['churn']"
   ]
  },
  {
   "cell_type": "code",
   "execution_count": 35,
   "id": "2e337300",
   "metadata": {},
   "outputs": [
    {
     "data": {
      "text/plain": [
       "0    7795\n",
       "1    2007\n",
       "Name: churn, dtype: int64"
      ]
     },
     "execution_count": 35,
     "metadata": {},
     "output_type": "execute_result"
    }
   ],
   "source": [
    "churn_df_scaled['churn'].value_counts()"
   ]
  },
  {
   "cell_type": "markdown",
   "id": "3d881de7",
   "metadata": {},
   "source": [
    "### SMOTE\n",
    "!pip install imbalanced-learn"
   ]
  },
  {
   "cell_type": "code",
   "execution_count": 36,
   "id": "e18e38eb",
   "metadata": {},
   "outputs": [
    {
     "data": {
      "text/plain": [
       "1    7795\n",
       "0    7795\n",
       "Name: churn, dtype: int64"
      ]
     },
     "execution_count": 36,
     "metadata": {},
     "output_type": "execute_result"
    }
   ],
   "source": [
    "smote = SMOTE(sampling_strategy='minority',random_state=0)\n",
    "X_smt, y_smt = smote.fit_resample(X,y)\n",
    "\n",
    "y_smt.value_counts()"
   ]
  },
  {
   "cell_type": "markdown",
   "id": "59ab6b24",
   "metadata": {},
   "source": [
    "### Train-Test Spliting"
   ]
  },
  {
   "cell_type": "code",
   "execution_count": 37,
   "id": "f15c6a19",
   "metadata": {},
   "outputs": [],
   "source": [
    "# partitioning data into 90% train and 10% test, and then will further split for validation\n",
    "\n",
    "trainX, testX, trainy, testy = train_test_split(X_smt, y_smt, test_size = .1, random_state = 12345)\n",
    "\n",
    "# using 80 / 20 split for train and validation set\n",
    "\n",
    "trainX, validX, trainy, validy = train_test_split(trainX, trainy, test_size = .2, random_state = 12345)"
   ]
  },
  {
   "cell_type": "code",
   "execution_count": 38,
   "id": "9afff951",
   "metadata": {},
   "outputs": [
    {
     "name": "stdout",
     "output_type": "stream",
     "text": [
      "Test set dimensions:  (1559, 11) \n",
      " Train set dimensions:  (11224, 11) \n",
      " Validation set dimension:  (2807, 11)\n"
     ]
    }
   ],
   "source": [
    "print(\"Test set dimensions: \", testX.shape, \n",
    "      \"\\n Train set dimensions: \", trainX.shape,\n",
    "      \"\\n Validation set dimension: \", validX.shape)"
   ]
  },
  {
   "cell_type": "markdown",
   "id": "924b0547",
   "metadata": {},
   "source": [
    "## Modeling"
   ]
  },
  {
   "cell_type": "markdown",
   "id": "48ed2b81",
   "metadata": {},
   "source": [
    "### K-NN"
   ]
  },
  {
   "cell_type": "markdown",
   "id": "7a82a477",
   "metadata": {},
   "source": [
    "We can see the algorithm tends to pick the number of K=1 for the best value of K, and with this value of K we will be overfit on the training data. To avoiding this, we set the value of K for hyperparameters tuning from 3.\n"
   ]
  },
  {
   "cell_type": "code",
   "execution_count": 39,
   "id": "a780a559",
   "metadata": {},
   "outputs": [
    {
     "data": {
      "text/html": [
       "<div>\n",
       "<style scoped>\n",
       "    .dataframe tbody tr th:only-of-type {\n",
       "        vertical-align: middle;\n",
       "    }\n",
       "\n",
       "    .dataframe tbody tr th {\n",
       "        vertical-align: top;\n",
       "    }\n",
       "\n",
       "    .dataframe thead th {\n",
       "        text-align: right;\n",
       "    }\n",
       "</style>\n",
       "<table border=\"1\" class=\"dataframe\">\n",
       "  <thead>\n",
       "    <tr style=\"text-align: right;\">\n",
       "      <th></th>\n",
       "      <th>k</th>\n",
       "      <th>accuracy</th>\n",
       "      <th>recall</th>\n",
       "      <th>f1_score</th>\n",
       "    </tr>\n",
       "  </thead>\n",
       "  <tbody>\n",
       "    <tr>\n",
       "      <th>0</th>\n",
       "      <td>1</td>\n",
       "      <td>0.878874</td>\n",
       "      <td>0.946676</td>\n",
       "      <td>0.889395</td>\n",
       "    </tr>\n",
       "    <tr>\n",
       "      <th>1</th>\n",
       "      <td>3</td>\n",
       "      <td>0.862487</td>\n",
       "      <td>0.934211</td>\n",
       "      <td>0.874838</td>\n",
       "    </tr>\n",
       "    <tr>\n",
       "      <th>2</th>\n",
       "      <td>5</td>\n",
       "      <td>0.855362</td>\n",
       "      <td>0.918283</td>\n",
       "      <td>0.867233</td>\n",
       "    </tr>\n",
       "    <tr>\n",
       "      <th>3</th>\n",
       "      <td>7</td>\n",
       "      <td>0.848949</td>\n",
       "      <td>0.909280</td>\n",
       "      <td>0.860984</td>\n",
       "    </tr>\n",
       "    <tr>\n",
       "      <th>4</th>\n",
       "      <td>9</td>\n",
       "      <td>0.841112</td>\n",
       "      <td>0.896814</td>\n",
       "      <td>0.853096</td>\n",
       "    </tr>\n",
       "    <tr>\n",
       "      <th>5</th>\n",
       "      <td>11</td>\n",
       "      <td>0.836836</td>\n",
       "      <td>0.880886</td>\n",
       "      <td>0.847435</td>\n",
       "    </tr>\n",
       "    <tr>\n",
       "      <th>6</th>\n",
       "      <td>13</td>\n",
       "      <td>0.832561</td>\n",
       "      <td>0.880194</td>\n",
       "      <td>0.843958</td>\n",
       "    </tr>\n",
       "    <tr>\n",
       "      <th>7</th>\n",
       "      <td>15</td>\n",
       "      <td>0.833274</td>\n",
       "      <td>0.877424</td>\n",
       "      <td>0.844104</td>\n",
       "    </tr>\n",
       "    <tr>\n",
       "      <th>8</th>\n",
       "      <td>17</td>\n",
       "      <td>0.827574</td>\n",
       "      <td>0.863573</td>\n",
       "      <td>0.837475</td>\n",
       "    </tr>\n",
       "    <tr>\n",
       "      <th>9</th>\n",
       "      <td>19</td>\n",
       "      <td>0.821874</td>\n",
       "      <td>0.860111</td>\n",
       "      <td>0.832440</td>\n",
       "    </tr>\n",
       "    <tr>\n",
       "      <th>10</th>\n",
       "      <td>21</td>\n",
       "      <td>0.820449</td>\n",
       "      <td>0.854571</td>\n",
       "      <td>0.830417</td>\n",
       "    </tr>\n",
       "    <tr>\n",
       "      <th>11</th>\n",
       "      <td>23</td>\n",
       "      <td>0.815461</td>\n",
       "      <td>0.851801</td>\n",
       "      <td>0.826058</td>\n",
       "    </tr>\n",
       "  </tbody>\n",
       "</table>\n",
       "</div>"
      ],
      "text/plain": [
       "     k  accuracy    recall  f1_score\n",
       "0    1  0.878874  0.946676  0.889395\n",
       "1    3  0.862487  0.934211  0.874838\n",
       "2    5  0.855362  0.918283  0.867233\n",
       "3    7  0.848949  0.909280  0.860984\n",
       "4    9  0.841112  0.896814  0.853096\n",
       "5   11  0.836836  0.880886  0.847435\n",
       "6   13  0.832561  0.880194  0.843958\n",
       "7   15  0.833274  0.877424  0.844104\n",
       "8   17  0.827574  0.863573  0.837475\n",
       "9   19  0.821874  0.860111  0.832440\n",
       "10  21  0.820449  0.854571  0.830417\n",
       "11  23  0.815461  0.851801  0.826058"
      ]
     },
     "execution_count": 39,
     "metadata": {},
     "output_type": "execute_result"
    }
   ],
   "source": [
    "# Train a classifier for different values of k\n",
    "knn_results = []\n",
    "for k in range(1, 25, 2):\n",
    "    knn = KNeighborsClassifier(n_neighbors=k).fit(trainX, trainy)\n",
    "    knn_results.append({\n",
    "        'k': k,\n",
    "        'accuracy': accuracy_score(validy, knn.predict(validX)),\n",
    "        'recall': recall_score(validy, knn.predict(validX)),\n",
    "        'f1_score': f1_score(validy, knn.predict(validX))\n",
    "    })\n",
    "\n",
    "# Convert results to a pandas data frame\n",
    "knn_results = pd.DataFrame(knn_results)\n",
    "knn_results"
   ]
  },
  {
   "cell_type": "code",
   "execution_count": 40,
   "id": "d59dcb01",
   "metadata": {},
   "outputs": [
    {
     "data": {
      "text/plain": [
       "Text(0, 0.5, 'Metrics score')"
      ]
     },
     "execution_count": 40,
     "metadata": {},
     "output_type": "execute_result"
    },
    {
     "data": {
      "image/png": "[encoded data removed]",
      "text/plain": [
       "<Figure size 432x288 with 1 Axes>"
      ]
     },
     "metadata": {
      "needs_background": "light"
     },
     "output_type": "display_data"
    }
   ],
   "source": [
    "# Plotting K-nn metrics from validation tests\n",
    "\n",
    "# show accuracy by k\n",
    "plt.plot(knn_results.k, knn_results.accuracy, linestyle='-', c='green', label = \"accuracy\")\n",
    "plt.plot(knn_results.k, knn_results.recall, linestyle=':', c='red', label = \"recall\")\n",
    "plt.plot(knn_results.k, knn_results['f1_score'], linestyle='--', c='blue', label = \"f1 score\")\n",
    "plt.legend()\n",
    "plt.title('K vs. Metrics in validation set')\n",
    "plt.xlabel('K')\n",
    "plt.ylabel('Metrics score')"
   ]
  },
  {
   "cell_type": "code",
   "execution_count": 41,
   "id": "a2f5174b",
   "metadata": {},
   "outputs": [
    {
     "name": "stdout",
     "output_type": "stream",
     "text": [
      "Fitting 5 folds for each of 28 candidates, totalling 140 fits\n"
     ]
    }
   ],
   "source": [
    "# knn and tuning hyperparameters \n",
    "\n",
    "grid_parameters = [{\n",
    "    'n_neighbors': list(range(3,31,1)),\n",
    "    }]\n",
    "\n",
    "\n",
    "\n",
    "Knn=GridSearchCV(KNeighborsClassifier(),grid_parameters, cv=5, scoring='accuracy', return_train_score=False,verbose=1)\n",
    "Knn.fit(trainX, trainy)\n",
    "knn_clf = Knn.best_estimator_\n"
   ]
  },
  {
   "cell_type": "code",
   "execution_count": 42,
   "id": "dc4819e3",
   "metadata": {},
   "outputs": [
    {
     "data": {
      "text/plain": [
       "{'n_neighbors': 4}"
      ]
     },
     "execution_count": 42,
     "metadata": {},
     "output_type": "execute_result"
    }
   ],
   "source": [
    "#best parameters for KNN classifier\n",
    "Knn.best_params_\n"
   ]
  },
  {
   "cell_type": "code",
   "execution_count": 43,
   "id": "a7a8be2b",
   "metadata": {},
   "outputs": [
    {
     "name": "stdout",
     "output_type": "stream",
     "text": [
      "Confusion Matrix (Accuracy 0.9223)\n",
      "\n",
      "       Prediction\n",
      "Actual    0    1\n",
      "     0 5157  508\n",
      "     1  364 5195\n"
     ]
    }
   ],
   "source": [
    " # predictive performance on training data \n",
    "classificationSummary(trainy, knn_clf.predict(trainX))\n"
   ]
  },
  {
   "cell_type": "code",
   "execution_count": 44,
   "id": "dd3fb8c9",
   "metadata": {},
   "outputs": [
    {
     "name": "stdout",
     "output_type": "stream",
     "text": [
      "\n",
      " Classification report for Knn \\: \n",
      "               precision    recall  f1-score   support\n",
      "\n",
      "           0       0.87      0.85      0.86      1363\n",
      "           1       0.86      0.88      0.87      1444\n",
      "\n",
      "    accuracy                           0.86      2807\n",
      "   macro avg       0.86      0.86      0.86      2807\n",
      "weighted avg       0.86      0.86      0.86      2807\n",
      "\n",
      "Area under curve :  0.8616965387171447 \n",
      "\n"
     ]
    },
    {
     "data": {
      "image/png": "[encoded data removed]",
      "text/plain": [
       "<Figure size 864x864 with 3 Axes>"
      ]
     },
     "metadata": {
      "needs_background": "light"
     },
     "output_type": "display_data"
    }
   ],
   "source": [
    "print (\"\\n Classification report for Knn \\: \\n\",classification_report(validy,knn_clf.predict(validX)))\n",
    "\n",
    "\n",
    "#confusion matrix\n",
    "cm = confusion_matrix(validy,knn_clf.predict(validX))\n",
    "plt.figure(figsize=(12,12))\n",
    "plt.subplot(221)\n",
    "sns.heatmap(cm, fmt = \"d\",annot=True, cmap='Blues')\n",
    "plt.title('Confuion Matrix for Knn')\n",
    "plt.ylabel('True Values')\n",
    "plt.xlabel('Predicted Values')\n",
    "\n",
    "\n",
    "#roc_auc_score\n",
    "model_roc_auc = roc_auc_score(validy,knn_clf.predict(validX)) \n",
    "print (\"Area under curve : \",model_roc_auc,\"\\n\")\n",
    "fpr,tpr,thresholds = roc_curve(validy,knn_clf.predict(validX))\n",
    "\n",
    "plt.subplot(222)\n",
    "plt.plot(fpr, tpr, color='darkorange', lw=1, label = \"Auc : %.3f\" %model_roc_auc)\n",
    "plt.plot([0, 1], [0, 1], color='navy', lw=2, linestyle='--')\n",
    "plt.xlim([0.0, 1.0])\n",
    "plt.ylim([0.0, 1.05])\n",
    "plt.xlabel('False Positive Rate')\n",
    "plt.ylabel('True Positive Rate')\n",
    "plt.title('ROC')\n",
    "plt.legend(loc=\"lower right\")\n",
    "\n",
    "    \n",
    "plt.show()"
   ]
  },
  {
   "cell_type": "markdown",
   "id": "36466802",
   "metadata": {},
   "source": [
    "### Random Forest"
   ]
  },
  {
   "cell_type": "code",
   "execution_count": 45,
   "id": "80a5afd1",
   "metadata": {},
   "outputs": [],
   "source": [
    "# Train a classifier for different values of n_estimators\n",
    "rf_results = []\n",
    "for x in range(100, 1001, 100):\n",
    "    rf = RandomForestClassifier(n_estimators = x, random_state = 1).fit(trainX, trainy)\n",
    "    rf_results.append({'n_estimators': x, 'accuracy': accuracy_score(validy, rf.predict(validX)), \n",
    "                      'recall': recall_score(validy, rf.predict(validX)),\n",
    "                      'f1_score': f1_score(validy, rf.predict(validX))})\n",
    "\n",
    "    \n",
    "# Convert results to a pandas data frame\n",
    "rf_results = pd.DataFrame(rf_results)"
   ]
  },
  {
   "cell_type": "code",
   "execution_count": 46,
   "id": "d9a16540",
   "metadata": {},
   "outputs": [
    {
     "data": {
      "text/plain": [
       "Text(0, 0.5, 'Metrics score')"
      ]
     },
     "execution_count": 46,
     "metadata": {},
     "output_type": "execute_result"
    },
    {
     "data": {
      "image/png": "[encoded data removed]",
      "text/plain": [
       "<Figure size 432x288 with 1 Axes>"
      ]
     },
     "metadata": {
      "needs_background": "light"
     },
     "output_type": "display_data"
    }
   ],
   "source": [
    "# show accuracy by estimators\n",
    "plt.plot(rf_results['n_estimators'], rf_results.accuracy, linestyle='-', label = \"accuracy\")\n",
    "plt.plot(rf_results['n_estimators'], rf_results.recall, linestyle=':', c='red', label = \"recall\")\n",
    "plt.plot(rf_results['n_estimators'], rf_results['f1_score'], linestyle='--', c='blue', label = \"f1 score\")\n",
    "plt.title('Number of estimators vs. metrics \\n In validation set for Random Forest')\n",
    "plt.legend()\n",
    "plt.xlabel('Estimators')\n",
    "plt.ylabel('Metrics score')"
   ]
  },
  {
   "cell_type": "code",
   "execution_count": 47,
   "id": "c2670dda",
   "metadata": {},
   "outputs": [],
   "source": [
    "# random forest tuning hyperparameters \n",
    "\n",
    "grid_parameters = { \n",
    "    'n_estimators': [200,400,600],\n",
    "    'max_features': ['auto', 'sqrt', 'log2'],\n",
    "    'max_depth' : [4,5,6,7,8],\n",
    "    'criterion' :['gini', 'entropy']\n",
    "}\n",
    "\n",
    "\n",
    "rf= GridSearchCV(RandomForestClassifier(random_state=42), grid_parameters, cv= 5)\n",
    "rf=rf.fit(trainX, trainy)\n",
    "rf_clf=rf.best_estimator_\n"
   ]
  },
  {
   "cell_type": "code",
   "execution_count": 48,
   "id": "cff1125c",
   "metadata": {},
   "outputs": [
    {
     "data": {
      "text/plain": [
       "{'criterion': 'gini',\n",
       " 'max_depth': 8,\n",
       " 'max_features': 'auto',\n",
       " 'n_estimators': 400}"
      ]
     },
     "execution_count": 48,
     "metadata": {},
     "output_type": "execute_result"
    }
   ],
   "source": [
    "#best parameters for random forest classifier\n",
    "rf.best_params_\n"
   ]
  },
  {
   "cell_type": "code",
   "execution_count": 49,
   "id": "55f806e2",
   "metadata": {},
   "outputs": [
    {
     "name": "stdout",
     "output_type": "stream",
     "text": [
      "Confusion Matrix (Accuracy 0.8498)\n",
      "\n",
      "       Prediction\n",
      "Actual    0    1\n",
      "     0 4940  725\n",
      "     1  961 4598\n"
     ]
    }
   ],
   "source": [
    " # predictive performance on training data \n",
    "classificationSummary(trainy, rf_clf.predict(trainX))"
   ]
  },
  {
   "cell_type": "code",
   "execution_count": 50,
   "id": "5fbc7a6b",
   "metadata": {},
   "outputs": [
    {
     "name": "stdout",
     "output_type": "stream",
     "text": [
      "\n",
      " Classification report for Random Forest \\: \n",
      "               precision    recall  f1-score   support\n",
      "\n",
      "           0       0.79      0.86      0.83      1363\n",
      "           1       0.86      0.79      0.82      1444\n",
      "\n",
      "    accuracy                           0.82      2807\n",
      "   macro avg       0.83      0.83      0.82      2807\n",
      "weighted avg       0.83      0.82      0.82      2807\n",
      "\n",
      "Area under curve :  0.8251199590279711 \n",
      "\n"
     ]
    },
    {
     "data": {
      "image/png": "[encoded data removed]",
      "text/plain": [
       "<Figure size 864x864 with 3 Axes>"
      ]
     },
     "metadata": {
      "needs_background": "light"
     },
     "output_type": "display_data"
    }
   ],
   "source": [
    "print (\"\\n Classification report for Random Forest \\: \\n\",classification_report(validy,rf_clf.predict(validX)))\n",
    "\n",
    "\n",
    "#confusion matrix\n",
    "cm = confusion_matrix(validy,rf_clf.predict(validX))\n",
    "plt.figure(figsize=(12,12))\n",
    "plt.subplot(221)\n",
    "sns.heatmap(cm, fmt = \"d\",annot=True, cmap='Blues')\n",
    "plt.title('Confuion Matrix for Random Forest')\n",
    "plt.ylabel('True Values')\n",
    "plt.xlabel('Predicted Values')\n",
    "\n",
    "\n",
    "#roc_auc_score\n",
    "model_roc_auc = roc_auc_score(validy,rf_clf.predict(validX)) \n",
    "print (\"Area under curve : \",model_roc_auc,\"\\n\")\n",
    "fpr,tpr,thresholds = roc_curve(validy,rf_clf.predict(validX))\n",
    "\n",
    "plt.subplot(222)\n",
    "plt.plot(fpr, tpr, color='darkorange', lw=1, label = \"Auc : %.3f\" %model_roc_auc)\n",
    "plt.plot([0, 1], [0, 1], color='navy', lw=2, linestyle='--')\n",
    "plt.xlim([0.0, 1.0])\n",
    "plt.ylim([0.0, 1.05])\n",
    "plt.xlabel('False Positive Rate')\n",
    "plt.ylabel('True Positive Rate')\n",
    "plt.title('ROC')\n",
    "plt.legend(loc=\"lower right\")\n",
    "\n",
    "    \n",
    "plt.show()"
   ]
  },
  {
   "cell_type": "markdown",
   "id": "94cb85a7",
   "metadata": {},
   "source": [
    "### Decision Tree"
   ]
  },
  {
   "cell_type": "code",
   "execution_count": 51,
   "id": "ac1c3a2a",
   "metadata": {},
   "outputs": [],
   "source": [
    "dt_results = []\n",
    "criterion = [\"gini\", \"entropy\"]\n",
    "\n",
    "for x in criterion:\n",
    "    dt = DecisionTreeClassifier(criterion = x, random_state = 1).fit(trainX, trainy)\n",
    "    dt_results.append({'criterion': x, 'accuracy': accuracy_score(validy, dt.predict(validX)), \n",
    "                      'recall': recall_score(validy, dt.predict(validX)),\n",
    "                      'f1_score': f1_score(validy, dt.predict(validX))})\n",
    "    \n",
    "\n",
    "# Convert results to a pandas data frame\n",
    "dt_results = pd.DataFrame(dt_results)"
   ]
  },
  {
   "cell_type": "code",
   "execution_count": 52,
   "id": "9be8224c",
   "metadata": {},
   "outputs": [
    {
     "data": {
      "text/html": [
       "<div>\n",
       "<style scoped>\n",
       "    .dataframe tbody tr th:only-of-type {\n",
       "        vertical-align: middle;\n",
       "    }\n",
       "\n",
       "    .dataframe tbody tr th {\n",
       "        vertical-align: top;\n",
       "    }\n",
       "\n",
       "    .dataframe thead th {\n",
       "        text-align: right;\n",
       "    }\n",
       "</style>\n",
       "<table border=\"1\" class=\"dataframe\">\n",
       "  <thead>\n",
       "    <tr style=\"text-align: right;\">\n",
       "      <th></th>\n",
       "      <th>criterion</th>\n",
       "      <th>accuracy</th>\n",
       "      <th>recall</th>\n",
       "      <th>f1_score</th>\n",
       "    </tr>\n",
       "  </thead>\n",
       "  <tbody>\n",
       "    <tr>\n",
       "      <th>0</th>\n",
       "      <td>gini</td>\n",
       "      <td>0.820449</td>\n",
       "      <td>0.835180</td>\n",
       "      <td>0.827160</td>\n",
       "    </tr>\n",
       "    <tr>\n",
       "      <th>1</th>\n",
       "      <td>entropy</td>\n",
       "      <td>0.820093</td>\n",
       "      <td>0.817175</td>\n",
       "      <td>0.823735</td>\n",
       "    </tr>\n",
       "  </tbody>\n",
       "</table>\n",
       "</div>"
      ],
      "text/plain": [
       "  criterion  accuracy    recall  f1_score\n",
       "0      gini  0.820449  0.835180  0.827160\n",
       "1   entropy  0.820093  0.817175  0.823735"
      ]
     },
     "execution_count": 52,
     "metadata": {},
     "output_type": "execute_result"
    }
   ],
   "source": [
    "dt_results.sort_values(by=[\"accuracy\"],ascending=False)"
   ]
  },
  {
   "cell_type": "code",
   "execution_count": 53,
   "id": "e3bb7aee",
   "metadata": {},
   "outputs": [],
   "source": [
    "dt_results_depth = []\n",
    "\n",
    "for x in range(2, 30, 2):\n",
    "    dt = DecisionTreeClassifier(max_depth = x, criterion = \"entropy\", random_state = 1).fit(trainX, trainy)\n",
    "    dt_results_depth.append({'max_depth': x, 'accuracy': accuracy_score(validy, dt.predict(validX)), \n",
    "                      'recall': recall_score(validy, dt.predict(validX)),\n",
    "                      'f1_score': f1_score(validy, dt.predict(validX))})\n",
    "dt_results_depth = pd.DataFrame(dt_results_depth)"
   ]
  },
  {
   "cell_type": "code",
   "execution_count": 54,
   "id": "9e446b6c",
   "metadata": {},
   "outputs": [
    {
     "data": {
      "text/html": [
       "<div>\n",
       "<style scoped>\n",
       "    .dataframe tbody tr th:only-of-type {\n",
       "        vertical-align: middle;\n",
       "    }\n",
       "\n",
       "    .dataframe tbody tr th {\n",
       "        vertical-align: top;\n",
       "    }\n",
       "\n",
       "    .dataframe thead th {\n",
       "        text-align: right;\n",
       "    }\n",
       "</style>\n",
       "<table border=\"1\" class=\"dataframe\">\n",
       "  <thead>\n",
       "    <tr style=\"text-align: right;\">\n",
       "      <th></th>\n",
       "      <th>max_depth</th>\n",
       "      <th>accuracy</th>\n",
       "      <th>recall</th>\n",
       "      <th>f1_score</th>\n",
       "    </tr>\n",
       "  </thead>\n",
       "  <tbody>\n",
       "    <tr>\n",
       "      <th>0</th>\n",
       "      <td>2</td>\n",
       "      <td>0.732811</td>\n",
       "      <td>0.681440</td>\n",
       "      <td>0.724062</td>\n",
       "    </tr>\n",
       "    <tr>\n",
       "      <th>1</th>\n",
       "      <td>4</td>\n",
       "      <td>0.762024</td>\n",
       "      <td>0.822022</td>\n",
       "      <td>0.780408</td>\n",
       "    </tr>\n",
       "    <tr>\n",
       "      <th>2</th>\n",
       "      <td>6</td>\n",
       "      <td>0.791236</td>\n",
       "      <td>0.785319</td>\n",
       "      <td>0.794674</td>\n",
       "    </tr>\n",
       "    <tr>\n",
       "      <th>3</th>\n",
       "      <td>8</td>\n",
       "      <td>0.797292</td>\n",
       "      <td>0.755540</td>\n",
       "      <td>0.793166</td>\n",
       "    </tr>\n",
       "    <tr>\n",
       "      <th>4</th>\n",
       "      <td>10</td>\n",
       "      <td>0.796580</td>\n",
       "      <td>0.757618</td>\n",
       "      <td>0.793041</td>\n",
       "    </tr>\n",
       "    <tr>\n",
       "      <th>5</th>\n",
       "      <td>12</td>\n",
       "      <td>0.801211</td>\n",
       "      <td>0.785319</td>\n",
       "      <td>0.802548</td>\n",
       "    </tr>\n",
       "    <tr>\n",
       "      <th>6</th>\n",
       "      <td>14</td>\n",
       "      <td>0.799786</td>\n",
       "      <td>0.786011</td>\n",
       "      <td>0.801554</td>\n",
       "    </tr>\n",
       "    <tr>\n",
       "      <th>7</th>\n",
       "      <td>16</td>\n",
       "      <td>0.808693</td>\n",
       "      <td>0.806787</td>\n",
       "      <td>0.812696</td>\n",
       "    </tr>\n",
       "    <tr>\n",
       "      <th>8</th>\n",
       "      <td>18</td>\n",
       "      <td>0.815461</td>\n",
       "      <td>0.804017</td>\n",
       "      <td>0.817606</td>\n",
       "    </tr>\n",
       "    <tr>\n",
       "      <th>9</th>\n",
       "      <td>20</td>\n",
       "      <td>0.818311</td>\n",
       "      <td>0.808864</td>\n",
       "      <td>0.820801</td>\n",
       "    </tr>\n",
       "    <tr>\n",
       "      <th>10</th>\n",
       "      <td>22</td>\n",
       "      <td>0.815461</td>\n",
       "      <td>0.816482</td>\n",
       "      <td>0.819889</td>\n",
       "    </tr>\n",
       "    <tr>\n",
       "      <th>11</th>\n",
       "      <td>24</td>\n",
       "      <td>0.820449</td>\n",
       "      <td>0.815789</td>\n",
       "      <td>0.823776</td>\n",
       "    </tr>\n",
       "    <tr>\n",
       "      <th>12</th>\n",
       "      <td>26</td>\n",
       "      <td>0.821518</td>\n",
       "      <td>0.818560</td>\n",
       "      <td>0.825131</td>\n",
       "    </tr>\n",
       "    <tr>\n",
       "      <th>13</th>\n",
       "      <td>28</td>\n",
       "      <td>0.821518</td>\n",
       "      <td>0.817175</td>\n",
       "      <td>0.824886</td>\n",
       "    </tr>\n",
       "  </tbody>\n",
       "</table>\n",
       "</div>"
      ],
      "text/plain": [
       "    max_depth  accuracy    recall  f1_score\n",
       "0           2  0.732811  0.681440  0.724062\n",
       "1           4  0.762024  0.822022  0.780408\n",
       "2           6  0.791236  0.785319  0.794674\n",
       "3           8  0.797292  0.755540  0.793166\n",
       "4          10  0.796580  0.757618  0.793041\n",
       "5          12  0.801211  0.785319  0.802548\n",
       "6          14  0.799786  0.786011  0.801554\n",
       "7          16  0.808693  0.806787  0.812696\n",
       "8          18  0.815461  0.804017  0.817606\n",
       "9          20  0.818311  0.808864  0.820801\n",
       "10         22  0.815461  0.816482  0.819889\n",
       "11         24  0.820449  0.815789  0.823776\n",
       "12         26  0.821518  0.818560  0.825131\n",
       "13         28  0.821518  0.817175  0.824886"
      ]
     },
     "execution_count": 54,
     "metadata": {},
     "output_type": "execute_result"
    }
   ],
   "source": [
    "dt_results_depth"
   ]
  },
  {
   "cell_type": "code",
   "execution_count": 55,
   "id": "4ef2f69a",
   "metadata": {},
   "outputs": [
    {
     "data": {
      "text/plain": [
       "Text(0, 0.5, 'Metrics score')"
      ]
     },
     "execution_count": 55,
     "metadata": {},
     "output_type": "execute_result"
    },
    {
     "data": {
      "image/png": "[encoded data removed]",
      "text/plain": [
       "<Figure size 432x288 with 1 Axes>"
      ]
     },
     "metadata": {
      "needs_background": "light"
     },
     "output_type": "display_data"
    }
   ],
   "source": [
    "# show accuracy by depth\n",
    "plt.plot(dt_results_depth['max_depth'], dt_results_depth.accuracy, linestyle='-', label = \"accuracy\")\n",
    "plt.plot(dt_results_depth['max_depth'], dt_results_depth.recall, linestyle=':', c='red', label = \"recall\")\n",
    "plt.plot(dt_results_depth['max_depth'], dt_results_depth['f1_score'], linestyle='--', c='blue', label = \"f1 score\")\n",
    "plt.title('Number of estimators vs. metrics \\n In validation set for decision tree \\n Using Entropy Loss')\n",
    "plt.legend()\n",
    "plt.xlabel('Max depth')\n",
    "plt.ylabel('Metrics score')"
   ]
  },
  {
   "cell_type": "code",
   "execution_count": 56,
   "id": "529eb48a",
   "metadata": {},
   "outputs": [
    {
     "name": "stdout",
     "output_type": "stream",
     "text": [
      "Initial score:  0.8057734557682152\n",
      "Initial parameters:  {'max_depth': 10, 'min_impurity_decrease': 0, 'min_samples_split': 60}\n"
     ]
    }
   ],
   "source": [
    "# decisin tree tuning hyperparameters\n",
    "\n",
    "# initial guess for parameters\n",
    "grid_parameters = {\n",
    "    'max_depth': [1,5,10, 20, 30, 40],\n",
    "    'min_samples_split': [20, 40, 60, 80, 100],\n",
    "    'min_impurity_decrease': [0, 0.0005, 0.001, 0.005, 0.01],\n",
    "}\n",
    "tree = GridSearchCV(DecisionTreeClassifier(), grid_parameters, cv=5, n_jobs=-1)\n",
    "tree.fit(trainX, trainy)\n",
    "print('Initial score: ',tree.best_score_)\n",
    "print('Initial parameters: ', tree.best_params_)\n",
    "\n"
   ]
  },
  {
   "cell_type": "code",
   "execution_count": 57,
   "id": "1a6aa48e",
   "metadata": {},
   "outputs": [
    {
     "name": "stdout",
     "output_type": "stream",
     "text": [
      "Improved score:  0.8089814561175757\n",
      "Improved parameters:  {'max_depth': 37, 'min_impurity_decrease': 0, 'min_samples_split': 17}\n"
     ]
    }
   ],
   "source": [
    "# Adapt grid based on result from initial grid search\n",
    "grid_parameters = {\n",
    "    'max_depth': list(range(30, 50)),\n",
    "    'min_samples_split': list(range(15, 30)),\n",
    "    'min_impurity_decrease': [0, 0.001, 0.0011],\n",
    "}\n",
    "tree = GridSearchCV(DecisionTreeClassifier(), grid_parameters, cv=5, n_jobs=-1)\n",
    "tree.fit(trainX, trainy)\n",
    "print('Improved score: ',tree.best_score_)\n",
    "print('Improved parameters: ', tree.best_params_)\n",
    "tree_clf = tree.best_estimator_\n"
   ]
  },
  {
   "cell_type": "code",
   "execution_count": 58,
   "id": "0d1131cf",
   "metadata": {},
   "outputs": [
    {
     "data": {
      "text/plain": [
       "{'max_depth': 37, 'min_impurity_decrease': 0, 'min_samples_split': 17}"
      ]
     },
     "execution_count": 58,
     "metadata": {},
     "output_type": "execute_result"
    }
   ],
   "source": [
    "#best parameters for decision tree classifier\n",
    "tree.best_params_"
   ]
  },
  {
   "cell_type": "code",
   "execution_count": 59,
   "id": "39047cea",
   "metadata": {},
   "outputs": [
    {
     "name": "stdout",
     "output_type": "stream",
     "text": [
      "Confusion Matrix (Accuracy 0.9264)\n",
      "\n",
      "       Prediction\n",
      "Actual    0    1\n",
      "     0 5341  324\n",
      "     1  502 5057\n"
     ]
    }
   ],
   "source": [
    " # predictive performance on training data \n",
    "classificationSummary(trainy, tree_clf.predict(trainX))\n"
   ]
  },
  {
   "cell_type": "code",
   "execution_count": 60,
   "id": "932d9ce9",
   "metadata": {},
   "outputs": [
    {
     "name": "stdout",
     "output_type": "stream",
     "text": [
      "\n",
      " Classification report for Decision tree \\: \n",
      "               precision    recall  f1-score   support\n",
      "\n",
      "           0       0.80      0.85      0.82      1363\n",
      "           1       0.85      0.80      0.82      1444\n",
      "\n",
      "    accuracy                           0.82      2807\n",
      "   macro avg       0.82      0.82      0.82      2807\n",
      "weighted avg       0.82      0.82      0.82      2807\n",
      "\n",
      "Area under curve :  0.823913001505966 \n",
      "\n"
     ]
    },
    {
     "data": {
      "image/png": "[encoded data removed]",
      "text/plain": [
       "<Figure size 864x864 with 3 Axes>"
      ]
     },
     "metadata": {
      "needs_background": "light"
     },
     "output_type": "display_data"
    }
   ],
   "source": [
    "print (\"\\n Classification report for Decision tree \\: \\n\",classification_report(validy,tree_clf.predict(validX)))\n",
    "\n",
    "\n",
    "#confusion matrix\n",
    "cm = confusion_matrix(validy,tree_clf.predict(validX))\n",
    "plt.figure(figsize=(12,12))\n",
    "plt.subplot(221)\n",
    "sns.heatmap(cm, fmt = \"d\",annot=True, cmap='Blues')\n",
    "plt.title('Confuion Matrix for Decision tree')\n",
    "plt.ylabel('True Values')\n",
    "plt.xlabel('Predicted Values')\n",
    "\n",
    "\n",
    "#roc_auc_score\n",
    "model_roc_auc = roc_auc_score(validy,tree_clf.predict(validX)) \n",
    "print (\"Area under curve : \",model_roc_auc,\"\\n\")\n",
    "fpr,tpr,thresholds = roc_curve(validy,tree_clf.predict(validX))\n",
    "\n",
    "plt.subplot(222)\n",
    "plt.plot(fpr, tpr, color='darkorange', lw=1, label = \"Auc : %.3f\" %model_roc_auc)\n",
    "plt.plot([0, 1], [0, 1], color='navy', lw=2, linestyle='--')\n",
    "plt.xlim([0.0, 1.0])\n",
    "plt.ylim([0.0, 1.05])\n",
    "plt.xlabel('False Positive Rate')\n",
    "plt.ylabel('True Positive Rate')\n",
    "plt.title('ROC')\n",
    "plt.legend(loc=\"lower right\")\n",
    "\n",
    "    \n",
    "plt.show()"
   ]
  },
  {
   "cell_type": "markdown",
   "id": "13c6062c",
   "metadata": {},
   "source": [
    "### Logistic Regression"
   ]
  },
  {
   "cell_type": "code",
   "execution_count": 61,
   "id": "84d2c7bf",
   "metadata": {},
   "outputs": [
    {
     "data": {
      "text/html": [
       "<style>#sk-container-id-1 {color: black;background-color: white;}#sk-container-id-1 pre{padding: 0;}#sk-container-id-1 div.sk-toggleable {background-color: white;}#sk-container-id-1 label.sk-toggleable__label {cursor: pointer;display: block;width: 100%;margin-bottom: 0;padding: 0.3em;box-sizing: border-box;text-align: center;}#sk-container-id-1 label.sk-toggleable__label-arrow:before {content: \"▸\";float: left;margin-right: 0.25em;color: #696969;}#sk-container-id-1 label.sk-toggleable__label-arrow:hover:before {color: black;}#sk-container-id-1 div.sk-estimator:hover label.sk-toggleable__label-arrow:before {color: black;}#sk-container-id-1 div.sk-toggleable__content {max-height: 0;max-width: 0;overflow: hidden;text-align: left;background-color: #f0f8ff;}#sk-container-id-1 div.sk-toggleable__content pre {margin: 0.2em;color: black;border-radius: 0.25em;background-color: #f0f8ff;}#sk-container-id-1 input.sk-toggleable__control:checked~div.sk-toggleable__content {max-height: 200px;max-width: 100%;overflow: auto;}#sk-container-id-1 input.sk-toggleable__control:checked~label.sk-toggleable__label-arrow:before {content: \"▾\";}#sk-container-id-1 div.sk-estimator input.sk-toggleable__control:checked~label.sk-toggleable__label {background-color: #d4ebff;}#sk-container-id-1 div.sk-label input.sk-toggleable__control:checked~label.sk-toggleable__label {background-color: #d4ebff;}#sk-container-id-1 input.sk-hidden--visually {border: 0;clip: rect(1px 1px 1px 1px);clip: rect(1px, 1px, 1px, 1px);height: 1px;margin: -1px;overflow: hidden;padding: 0;position: absolute;width: 1px;}#sk-container-id-1 div.sk-estimator {font-family: monospace;background-color: #f0f8ff;border: 1px dotted black;border-radius: 0.25em;box-sizing: border-box;margin-bottom: 0.5em;}#sk-container-id-1 div.sk-estimator:hover {background-color: #d4ebff;}#sk-container-id-1 div.sk-parallel-item::after {content: \"\";width: 100%;border-bottom: 1px solid gray;flex-grow: 1;}#sk-container-id-1 div.sk-label:hover label.sk-toggleable__label {background-color: #d4ebff;}#sk-container-id-1 div.sk-serial::before {content: \"\";position: absolute;border-left: 1px solid gray;box-sizing: border-box;top: 0;bottom: 0;left: 50%;z-index: 0;}#sk-container-id-1 div.sk-serial {display: flex;flex-direction: column;align-items: center;background-color: white;padding-right: 0.2em;padding-left: 0.2em;position: relative;}#sk-container-id-1 div.sk-item {position: relative;z-index: 1;}#sk-container-id-1 div.sk-parallel {display: flex;align-items: stretch;justify-content: center;background-color: white;position: relative;}#sk-container-id-1 div.sk-item::before, #sk-container-id-1 div.sk-parallel-item::before {content: \"\";position: absolute;border-left: 1px solid gray;box-sizing: border-box;top: 0;bottom: 0;left: 50%;z-index: -1;}#sk-container-id-1 div.sk-parallel-item {display: flex;flex-direction: column;z-index: 1;position: relative;background-color: white;}#sk-container-id-1 div.sk-parallel-item:first-child::after {align-self: flex-end;width: 50%;}#sk-container-id-1 div.sk-parallel-item:last-child::after {align-self: flex-start;width: 50%;}#sk-container-id-1 div.sk-parallel-item:only-child::after {width: 0;}#sk-container-id-1 div.sk-dashed-wrapped {border: 1px dashed gray;margin: 0 0.4em 0.5em 0.4em;box-sizing: border-box;padding-bottom: 0.4em;background-color: white;}#sk-container-id-1 div.sk-label label {font-family: monospace;font-weight: bold;display: inline-block;line-height: 1.2em;}#sk-container-id-1 div.sk-label-container {text-align: center;}#sk-container-id-1 div.sk-container {/* jupyter's `normalize.less` sets `[hidden] { display: none; }` but bootstrap.min.css set `[hidden] { display: none !important; }` so we also need the `!important` here to be able to override the default hidden behavior on the sphinx rendered scikit-learn.org. See: https://github.com/scikit-learn/scikit-learn/issues/21755 */display: inline-block !important;position: relative;}#sk-container-id-1 div.sk-text-repr-fallback {display: none;}</style><div id=\"sk-container-id-1\" class=\"sk-top-container\"><div class=\"sk-text-repr-fallback\"><pre>LogisticRegression(C=1e+42, solver=&#x27;liblinear&#x27;)</pre><b>In a Jupyter environment, please rerun this cell to show the HTML representation or trust the notebook. <br />On GitHub, the HTML representation is unable to render, please try loading this page with nbviewer.org.</b></div><div class=\"sk-container\" hidden><div class=\"sk-item\"><div class=\"sk-estimator sk-toggleable\"><input class=\"sk-toggleable__control sk-hidden--visually\" id=\"sk-estimator-id-1\" type=\"checkbox\" checked><label for=\"sk-estimator-id-1\" class=\"sk-toggleable__label sk-toggleable__label-arrow\">LogisticRegression</label><div class=\"sk-toggleable__content\"><pre>LogisticRegression(C=1e+42, solver=&#x27;liblinear&#x27;)</pre></div></div></div></div></div>"
      ],
      "text/plain": [
       "LogisticRegression(C=1e+42, solver='liblinear')"
      ]
     },
     "execution_count": 61,
     "metadata": {},
     "output_type": "execute_result"
    }
   ],
   "source": [
    "lr = LogisticRegression(penalty=\"l2\", C=1e42, solver='liblinear')\n",
    "lr.fit(trainX, trainy)"
   ]
  },
  {
   "cell_type": "code",
   "execution_count": 62,
   "id": "38634001",
   "metadata": {},
   "outputs": [
    {
     "name": "stdout",
     "output_type": "stream",
     "text": [
      "intercept  1.0833621553645938\n",
      "       products_number  credit_card  active_member  country_Germany  \\\n",
      "coeff        -0.306953    -0.173466       -1.22963         0.600088   \n",
      "\n",
      "       country_Spain  gender_Male  credit_score       age   tenure   balance  \\\n",
      "coeff      -0.393587    -0.759888     -0.009186  1.053379 -0.03515  0.184553   \n",
      "\n",
      "       estimated_salary  \n",
      "coeff          0.011039  \n",
      "AIC 4113.562643057266\n"
     ]
    }
   ],
   "source": [
    "print('intercept ', lr.intercept_[0])\n",
    "print(pd.DataFrame({'coeff': lr.coef_[0]}, index=X.columns).transpose())\n",
    "\n",
    "print('AIC', AIC_score(validy, lr.predict(validX), df = len(trainX.columns) + 1))"
   ]
  },
  {
   "cell_type": "markdown",
   "id": "670bd787",
   "metadata": {},
   "source": [
    "Positive correlations for factors like age and country Germany are linked to increased odds of a client leaving the bank. On the other hand, variables with negative coefficients are linked to staying in the bank, including having a strong credit score, a high wage, being an active member, and having a high credit score.\n"
   ]
  },
  {
   "cell_type": "code",
   "execution_count": 63,
   "id": "eb42a773",
   "metadata": {},
   "outputs": [],
   "source": [
    "#Logistic Regression and tuning hyperparameters \n",
    "grid_parameters = {'C': [0.0001,0.001,0.01,0.1, 0.5, 1, 5, 10, 50, 100]}\n",
    "lr= GridSearchCV(LogisticRegression(solver='liblinear',random_state=42), \n",
    "                 grid_parameters, cv=5, scoring=\"accuracy\")\n",
    "lr.fit(trainX,trainy)\n",
    "lr_clf=lr.best_estimator_"
   ]
  },
  {
   "cell_type": "code",
   "execution_count": 64,
   "id": "34757719",
   "metadata": {},
   "outputs": [
    {
     "data": {
      "text/plain": [
       "{'C': 0.01}"
      ]
     },
     "execution_count": 64,
     "metadata": {},
     "output_type": "execute_result"
    }
   ],
   "source": [
    "#best parameters for logistic regression classifier\n",
    "lr.best_params_"
   ]
  },
  {
   "cell_type": "code",
   "execution_count": 65,
   "id": "071a4a5f",
   "metadata": {},
   "outputs": [
    {
     "name": "stdout",
     "output_type": "stream",
     "text": [
      "Confusion Matrix (Accuracy 0.7350)\n",
      "\n",
      "       Prediction\n",
      "Actual    0    1\n",
      "     0 4211 1454\n",
      "     1 1520 4039\n"
     ]
    }
   ],
   "source": [
    " # predictive performance on training data \n",
    "classificationSummary(trainy, lr_clf.predict(trainX))\n"
   ]
  },
  {
   "cell_type": "code",
   "execution_count": 66,
   "id": "56afd842",
   "metadata": {},
   "outputs": [
    {
     "name": "stdout",
     "output_type": "stream",
     "text": [
      "\n",
      " Classification report for Logistic Regression \\: \n",
      "               precision    recall  f1-score   support\n",
      "\n",
      "           0       0.72      0.77      0.75      1363\n",
      "           1       0.77      0.72      0.75      1444\n",
      "\n",
      "    accuracy                           0.75      2807\n",
      "   macro avg       0.75      0.75      0.75      2807\n",
      "weighted avg       0.75      0.75      0.75      2807\n",
      "\n",
      "Area under curve :  0.7477966864684591 \n",
      "\n"
     ]
    },
    {
     "data": {
      "image/png": "[encoded data removed]",
      "text/plain": [
       "<Figure size 864x864 with 3 Axes>"
      ]
     },
     "metadata": {
      "needs_background": "light"
     },
     "output_type": "display_data"
    }
   ],
   "source": [
    "print (\"\\n Classification report for Logistic Regression \\: \\n\",classification_report(validy,lr_clf.predict(validX)))\n",
    "\n",
    "\n",
    "#confusion matrix\n",
    "cm = confusion_matrix(validy,lr_clf.predict(validX))\n",
    "plt.figure(figsize=(12,12))\n",
    "plt.subplot(221)\n",
    "sns.heatmap(cm, fmt = \"d\",annot=True, cmap='Blues')\n",
    "plt.title('Confuion Matrix for Logistic Regression')\n",
    "plt.ylabel('True Values')\n",
    "plt.xlabel('Predicted Values')\n",
    "\n",
    "\n",
    "#roc_auc_score\n",
    "model_roc_auc = roc_auc_score(validy,lr_clf.predict(validX)) \n",
    "print (\"Area under curve : \",model_roc_auc,\"\\n\")\n",
    "fpr,tpr,thresholds = roc_curve(validy,lr_clf.predict(validX))\n",
    "\n",
    "plt.subplot(222)\n",
    "plt.plot(fpr, tpr, color='darkorange', lw=1, label = \"Auc : %.3f\" %model_roc_auc)\n",
    "plt.plot([0, 1], [0, 1], color='navy', lw=2, linestyle='--')\n",
    "plt.xlim([0.0, 1.0])\n",
    "plt.ylim([0.0, 1.05])\n",
    "plt.xlabel('False Positive Rate')\n",
    "plt.ylabel('True Positive Rate')\n",
    "plt.title('ROC')\n",
    "plt.legend(loc=\"lower right\")\n",
    "\n",
    "    \n",
    "plt.show()"
   ]
  },
  {
   "cell_type": "markdown",
   "id": "d6e343ae",
   "metadata": {},
   "source": [
    "### XGBoost"
   ]
  },
  {
   "cell_type": "code",
   "execution_count": 67,
   "id": "5f390312",
   "metadata": {},
   "outputs": [
    {
     "name": "stdout",
     "output_type": "stream",
     "text": [
      "Fitting 5 folds for each of 20 candidates, totalling 100 fits\n"
     ]
    }
   ],
   "source": [
    "# xgb and tuning hyperparameters \n",
    "\n",
    "xgb = GridSearchCV(XGBClassifier(),{'max_depth': [2,4,6,8,10],\n",
    "                    'n_estimators': [50,100,200,250]}, \n",
    "                    verbose=1, \n",
    "                    scoring='neg_log_loss')\n",
    "\n",
    "xgb.fit(trainX,trainy)\n",
    "xgb_clf=xgb.best_estimator_\n"
   ]
  },
  {
   "cell_type": "code",
   "execution_count": 68,
   "id": "122addc9",
   "metadata": {},
   "outputs": [
    {
     "data": {
      "text/plain": [
       "{'max_depth': 6, 'n_estimators': 100}"
      ]
     },
     "execution_count": 68,
     "metadata": {},
     "output_type": "execute_result"
    }
   ],
   "source": [
    "#best parameters for xgboost classifier\n",
    "xgb.best_params_"
   ]
  },
  {
   "cell_type": "code",
   "execution_count": 69,
   "id": "de7c8441",
   "metadata": {},
   "outputs": [
    {
     "name": "stdout",
     "output_type": "stream",
     "text": [
      "Confusion Matrix (Accuracy 0.9658)\n",
      "\n",
      "       Prediction\n",
      "Actual    0    1\n",
      "     0 5565  100\n",
      "     1  284 5275\n"
     ]
    }
   ],
   "source": [
    " # predictive performance on training data \n",
    "classificationSummary(trainy, xgb_clf.predict(trainX))"
   ]
  },
  {
   "cell_type": "code",
   "execution_count": 70,
   "id": "5683c9dd",
   "metadata": {},
   "outputs": [
    {
     "name": "stdout",
     "output_type": "stream",
     "text": [
      "\n",
      " Classification report for XGBoost \\: \n",
      "               precision    recall  f1-score   support\n",
      "\n",
      "           0       0.87      0.93      0.90      1363\n",
      "           1       0.93      0.86      0.90      1444\n",
      "\n",
      "    accuracy                           0.90      2807\n",
      "   macro avg       0.90      0.90      0.90      2807\n",
      "weighted avg       0.90      0.90      0.90      2807\n",
      "\n",
      "Area under curve :  0.8990969793290423 \n",
      "\n"
     ]
    },
    {
     "data": {
      "image/png": "[encoded data removed]",
      "text/plain": [
       "<Figure size 864x864 with 3 Axes>"
      ]
     },
     "metadata": {
      "needs_background": "light"
     },
     "output_type": "display_data"
    }
   ],
   "source": [
    "print (\"\\n Classification report for XGBoost \\: \\n\",classification_report(validy,xgb_clf.predict(validX)))\n",
    "\n",
    "\n",
    "#confusion matrix\n",
    "cm = confusion_matrix(validy,xgb_clf.predict(validX))\n",
    "plt.figure(figsize=(12,12))\n",
    "plt.subplot(221)\n",
    "sns.heatmap(cm, fmt = \"d\",annot=True, cmap='Blues')\n",
    "plt.title('Confuion Matrix for XGBoost')\n",
    "plt.ylabel('True Values')\n",
    "plt.xlabel('Predicted Values')\n",
    "\n",
    "\n",
    "#roc_auc_score\n",
    "model_roc_auc = roc_auc_score(validy,xgb_clf.predict(validX)) \n",
    "print (\"Area under curve : \",model_roc_auc,\"\\n\")\n",
    "fpr,tpr,thresholds = roc_curve(validy,xgb_clf.predict(validX))\n",
    "\n",
    "plt.subplot(222)\n",
    "plt.plot(fpr, tpr, color='darkorange', lw=1, label = \"Auc : %.3f\" %model_roc_auc)\n",
    "plt.plot([0, 1], [0, 1], color='navy', lw=2, linestyle='--')\n",
    "plt.xlim([0.0, 1.0])\n",
    "plt.ylim([0.0, 1.05])\n",
    "plt.xlabel('False Positive Rate')\n",
    "plt.ylabel('True Positive Rate')\n",
    "plt.title('ROC')\n",
    "plt.legend(loc=\"lower right\")\n",
    "\n",
    "    \n",
    "plt.show()"
   ]
  },
  {
   "cell_type": "markdown",
   "id": "a86ab532",
   "metadata": {},
   "source": [
    "### Support Vector machine (SVM)"
   ]
  },
  {
   "cell_type": "code",
   "execution_count": 71,
   "id": "989bedce",
   "metadata": {},
   "outputs": [],
   "source": [
    "# SVM and tuning hyperparameters \n",
    "grid_parameters = {'C': [0.1 , 1, 10,12,15,20,25], \n",
    "          'gamma': [0.001, 0.01, 1,5,10]}\n",
    "\n",
    "model = SVC()\n",
    "svc= GridSearchCV(SVC(probability=True), grid_parameters)\n",
    "svc.fit(trainX, trainy)\n",
    "svc_clf=svc.best_estimator_"
   ]
  },
  {
   "cell_type": "code",
   "execution_count": 72,
   "id": "bc330f6c",
   "metadata": {},
   "outputs": [
    {
     "data": {
      "text/plain": [
       "{'C': 20, 'gamma': 1}"
      ]
     },
     "execution_count": 72,
     "metadata": {},
     "output_type": "execute_result"
    }
   ],
   "source": [
    "#best parameters for support vector classifier\n",
    "svc.best_params_"
   ]
  },
  {
   "cell_type": "code",
   "execution_count": 73,
   "id": "ad50f48b",
   "metadata": {},
   "outputs": [
    {
     "name": "stdout",
     "output_type": "stream",
     "text": [
      "Confusion Matrix (Accuracy 0.9989)\n",
      "\n",
      "       Prediction\n",
      "Actual    0    1\n",
      "     0 5656    9\n",
      "     1    3 5556\n"
     ]
    }
   ],
   "source": [
    " # predictive performance on training data \n",
    "classificationSummary(trainy, svc_clf.predict(trainX))"
   ]
  },
  {
   "cell_type": "code",
   "execution_count": 74,
   "id": "f5e74cc4",
   "metadata": {},
   "outputs": [
    {
     "name": "stdout",
     "output_type": "stream",
     "text": [
      "\n",
      " Classification report for SVM \\: \n",
      "               precision    recall  f1-score   support\n",
      "\n",
      "           0       0.91      0.87      0.89      1363\n",
      "           1       0.88      0.92      0.90      1444\n",
      "\n",
      "    accuracy                           0.90      2807\n",
      "   macro avg       0.90      0.90      0.90      2807\n",
      "weighted avg       0.90      0.90      0.90      2807\n",
      "\n",
      "Area under curve :  0.8955342825728646 \n",
      "\n"
     ]
    },
    {
     "data": {
      "image/png": "[encoded data removed]",
      "text/plain": [
       "<Figure size 864x864 with 3 Axes>"
      ]
     },
     "metadata": {
      "needs_background": "light"
     },
     "output_type": "display_data"
    }
   ],
   "source": [
    "print (\"\\n Classification report for SVM \\: \\n\",classification_report(validy,svc_clf.predict(validX)))\n",
    "\n",
    "\n",
    "#confusion matrix\n",
    "cm = confusion_matrix(validy,svc_clf.predict(validX))\n",
    "plt.figure(figsize=(12,12))\n",
    "plt.subplot(221)\n",
    "sns.heatmap(cm, fmt = \"d\",annot=True, cmap='Blues')\n",
    "plt.title('Confuion Matrix for SVM')\n",
    "plt.ylabel('True Values')\n",
    "plt.xlabel('Predicted Values')\n",
    "\n",
    "\n",
    "#roc_auc_score\n",
    "model_roc_auc = roc_auc_score(validy,svc_clf.predict(validX)) \n",
    "print (\"Area under curve : \",model_roc_auc,\"\\n\")\n",
    "fpr,tpr,thresholds = roc_curve(validy,svc_clf.predict(validX))\n",
    "\n",
    "plt.subplot(222)\n",
    "plt.plot(fpr, tpr, color='darkorange', lw=1, label = \"Auc : %.3f\" %model_roc_auc)\n",
    "plt.plot([0, 1], [0, 1], color='navy', lw=2, linestyle='--')\n",
    "plt.xlim([0.0, 1.0])\n",
    "plt.ylim([0.0, 1.05])\n",
    "plt.xlabel('False Positive Rate')\n",
    "plt.ylabel('True Positive Rate')\n",
    "plt.title('ROC')\n",
    "plt.legend(loc=\"lower right\")\n",
    "\n",
    "    \n",
    "plt.show()"
   ]
  },
  {
   "cell_type": "markdown",
   "id": "741bc0da",
   "metadata": {},
   "source": [
    "## Testing the models on test data set"
   ]
  },
  {
   "cell_type": "markdown",
   "id": "c033967b",
   "metadata": {},
   "source": [
    "### K-NN"
   ]
  },
  {
   "cell_type": "code",
   "execution_count": 75,
   "id": "ccc5db42",
   "metadata": {},
   "outputs": [
    {
     "name": "stdout",
     "output_type": "stream",
     "text": [
      "0.8576010262989096\n",
      "[[647 120]\n",
      " [102 690]]\n",
      "              precision    recall  f1-score   support\n",
      "\n",
      "           0       0.86      0.84      0.85       767\n",
      "           1       0.85      0.87      0.86       792\n",
      "\n",
      "    accuracy                           0.86      1559\n",
      "   macro avg       0.86      0.86      0.86      1559\n",
      "weighted avg       0.86      0.86      0.86      1559\n",
      "\n"
     ]
    },
    {
     "data": {
      "image/png": "[encoded data removed]",
      "text/plain": [
       "<Figure size 432x288 with 2 Axes>"
      ]
     },
     "metadata": {
      "needs_background": "light"
     },
     "output_type": "display_data"
    }
   ],
   "source": [
    "#test the model\n",
    "test1=knn_clf.predict(testX)\n",
    "print(accuracy_score(testy, test1))\n",
    "\n",
    "#Confusion matrix\n",
    "cm=confusion_matrix(testy,test1)\n",
    "print(cm)\n",
    "sns.heatmap(cm,annot=True)\n",
    "\n",
    "print(classification_report(testy, test1))"
   ]
  },
  {
   "cell_type": "markdown",
   "id": "7b326f89",
   "metadata": {},
   "source": [
    "### Random Forest"
   ]
  },
  {
   "cell_type": "code",
   "execution_count": 76,
   "id": "6d4a3105",
   "metadata": {},
   "outputs": [
    {
     "name": "stdout",
     "output_type": "stream",
     "text": [
      "0.8133418858242463\n",
      "[[654 113]\n",
      " [178 614]]\n",
      "              precision    recall  f1-score   support\n",
      "\n",
      "           0       0.79      0.85      0.82       767\n",
      "           1       0.84      0.78      0.81       792\n",
      "\n",
      "    accuracy                           0.81      1559\n",
      "   macro avg       0.82      0.81      0.81      1559\n",
      "weighted avg       0.82      0.81      0.81      1559\n",
      "\n"
     ]
    },
    {
     "data": {
      "image/png": "[encoded data removed]",
      "text/plain": [
       "<Figure size 432x288 with 2 Axes>"
      ]
     },
     "metadata": {
      "needs_background": "light"
     },
     "output_type": "display_data"
    }
   ],
   "source": [
    "#test the model\n",
    "test2=rf_clf.predict(testX)\n",
    "print(accuracy_score(testy, test2))\n",
    "\n",
    "#Confusion matrix\n",
    "cm=confusion_matrix(testy,test2)\n",
    "print(cm)\n",
    "sns.heatmap(cm,annot=True)\n",
    "\n",
    "print(classification_report(testy, test2))"
   ]
  },
  {
   "cell_type": "markdown",
   "id": "0f84d8ae",
   "metadata": {},
   "source": [
    "### Decision Tree"
   ]
  },
  {
   "cell_type": "code",
   "execution_count": 77,
   "id": "2f4875b9",
   "metadata": {},
   "outputs": [
    {
     "name": "stdout",
     "output_type": "stream",
     "text": [
      "0.8306606799230276\n",
      "[[657 110]\n",
      " [154 638]]\n",
      "              precision    recall  f1-score   support\n",
      "\n",
      "           0       0.81      0.86      0.83       767\n",
      "           1       0.85      0.81      0.83       792\n",
      "\n",
      "    accuracy                           0.83      1559\n",
      "   macro avg       0.83      0.83      0.83      1559\n",
      "weighted avg       0.83      0.83      0.83      1559\n",
      "\n"
     ]
    },
    {
     "data": {
      "image/png": "[encoded data removed]",
      "text/plain": [
       "<Figure size 432x288 with 2 Axes>"
      ]
     },
     "metadata": {
      "needs_background": "light"
     },
     "output_type": "display_data"
    }
   ],
   "source": [
    "#test the model\n",
    "test3=tree_clf.predict(testX)\n",
    "print(accuracy_score(testy, test3))\n",
    "\n",
    "#Confusion matrix\n",
    "cm=confusion_matrix(testy,test3)\n",
    "print(cm)\n",
    "sns.heatmap(cm,annot=True)\n",
    "\n",
    "print(classification_report(testy, test3))"
   ]
  },
  {
   "cell_type": "markdown",
   "id": "25039299",
   "metadata": {},
   "source": [
    "### Logistic regression"
   ]
  },
  {
   "cell_type": "code",
   "execution_count": 78,
   "id": "c868288e",
   "metadata": {},
   "outputs": [
    {
     "name": "stdout",
     "output_type": "stream",
     "text": [
      "0.7241821680564464\n",
      "[[566 201]\n",
      " [229 563]]\n",
      "              precision    recall  f1-score   support\n",
      "\n",
      "           0       0.71      0.74      0.72       767\n",
      "           1       0.74      0.71      0.72       792\n",
      "\n",
      "    accuracy                           0.72      1559\n",
      "   macro avg       0.72      0.72      0.72      1559\n",
      "weighted avg       0.72      0.72      0.72      1559\n",
      "\n"
     ]
    },
    {
     "data": {
      "image/png": "[encoded data removed]",
      "text/plain": [
       "<Figure size 432x288 with 2 Axes>"
      ]
     },
     "metadata": {
      "needs_background": "light"
     },
     "output_type": "display_data"
    }
   ],
   "source": [
    "#test the model\n",
    "test4=lr_clf.predict(testX)\n",
    "print(accuracy_score(testy, test4))\n",
    "\n",
    "#Confusion matrix\n",
    "cm=confusion_matrix(testy,test4)\n",
    "print(cm)\n",
    "sns.heatmap(cm,annot=True)\n",
    "\n",
    "print(classification_report(testy, test4))"
   ]
  },
  {
   "cell_type": "markdown",
   "id": "61a4021e",
   "metadata": {},
   "source": [
    "### XGBoost"
   ]
  },
  {
   "cell_type": "code",
   "execution_count": 79,
   "id": "79a11e1c",
   "metadata": {},
   "outputs": [
    {
     "name": "stdout",
     "output_type": "stream",
     "text": [
      "0.8992944194996793\n",
      "[[714  53]\n",
      " [104 688]]\n",
      "              precision    recall  f1-score   support\n",
      "\n",
      "           0       0.87      0.93      0.90       767\n",
      "           1       0.93      0.87      0.90       792\n",
      "\n",
      "    accuracy                           0.90      1559\n",
      "   macro avg       0.90      0.90      0.90      1559\n",
      "weighted avg       0.90      0.90      0.90      1559\n",
      "\n"
     ]
    },
    {
     "data": {
      "image/png": "[encoded data removed]",
      "text/plain": [
       "<Figure size 432x288 with 2 Axes>"
      ]
     },
     "metadata": {
      "needs_background": "light"
     },
     "output_type": "display_data"
    }
   ],
   "source": [
    "#test the model\n",
    "test5=xgb_clf.predict(testX)\n",
    "print(accuracy_score(testy, test5))\n",
    "\n",
    "#Confusion matrix\n",
    "cm=confusion_matrix(testy,test5)\n",
    "print(cm)\n",
    "sns.heatmap(cm,annot=True)\n",
    "\n",
    "print(classification_report(testy, test5))"
   ]
  },
  {
   "cell_type": "markdown",
   "id": "8fe5a99b",
   "metadata": {},
   "source": [
    "### SVM"
   ]
  },
  {
   "cell_type": "code",
   "execution_count": 80,
   "id": "c54f1448",
   "metadata": {},
   "outputs": [
    {
     "name": "stdout",
     "output_type": "stream",
     "text": [
      "0.8986529826812059\n",
      "[[661 106]\n",
      " [ 52 740]]\n",
      "              precision    recall  f1-score   support\n",
      "\n",
      "           0       0.93      0.86      0.89       767\n",
      "           1       0.87      0.93      0.90       792\n",
      "\n",
      "    accuracy                           0.90      1559\n",
      "   macro avg       0.90      0.90      0.90      1559\n",
      "weighted avg       0.90      0.90      0.90      1559\n",
      "\n"
     ]
    },
    {
     "data": {
      "image/png": "[encoded data removed]",
      "text/plain": [
       "<Figure size 432x288 with 2 Axes>"
      ]
     },
     "metadata": {
      "needs_background": "light"
     },
     "output_type": "display_data"
    }
   ],
   "source": [
    "#test the model\n",
    "test6=svc_clf.predict(testX)\n",
    "print(accuracy_score(testy, test6))\n",
    "\n",
    "#Confusion matrix\n",
    "cm=confusion_matrix(testy,test6)\n",
    "print(cm)\n",
    "sns.heatmap(cm,annot=True)\n",
    "\n",
    "print(classification_report(testy, test6))"
   ]
  },
  {
   "cell_type": "markdown",
   "id": "005ebfb1",
   "metadata": {},
   "source": [
    "## ROC Curve Comparision "
   ]
  },
  {
   "cell_type": "code",
   "execution_count": 117,
   "id": "0e682956",
   "metadata": {},
   "outputs": [
    {
     "data": {
      "text/plain": [
       "<matplotlib.legend.Legend at 0x14e5091b0>"
      ]
     },
     "execution_count": 117,
     "metadata": {},
     "output_type": "execute_result"
    },
    {
     "data": {
      "image/png": "[encoded data removed]",
      "text/plain": [
       "<Figure size 432x288 with 1 Axes>"
      ]
     },
     "metadata": {
      "needs_background": "light"
     },
     "output_type": "display_data"
    }
   ],
   "source": [
    "plt.figure().clf()\n",
    "fpr, tpr,_ = metrics.roc_curve(testy, test1)\n",
    "auc = metrics.roc_auc_score(testy, test1)\n",
    "plt.plot(fpr,tpr,label=\"Knn=\"+str(round(auc,2)))\n",
    "fpr, tpr,_ = metrics.roc_curve(testy, test2)\n",
    "auc = metrics.roc_auc_score(testy, test2)\n",
    "plt.plot(fpr,tpr,label=\"Random Forest=\"+str(round(auc,2)))\n",
    "fpr, tpr,_ = metrics.roc_curve(testy, test3)\n",
    "auc = metrics.roc_auc_score(testy, test3)\n",
    "plt.plot(fpr,tpr,label=\"Decision Tree=\"+str(round(auc,2)))\n",
    "fpr, tpr,_ = metrics.roc_curve(testy, test4)\n",
    "auc = metrics.roc_auc_score(testy, test4)\n",
    "plt.plot(fpr,tpr,label=\"Logistic Regression=\"+str(round(auc,2)))\n",
    "fpr, tpr,_ = metrics.roc_curve(testy, test5)\n",
    "auc = metrics.roc_auc_score(testy, test5)\n",
    "plt.plot(fpr,tpr,label=\"XGBoost=\"+str(round(auc,2)))\n",
    "fpr, tpr,_ = metrics.roc_curve(testy, test6)\n",
    "auc = metrics.roc_auc_score(testy, test6)\n",
    "plt.plot(fpr,tpr,label=\"SVM=\"+str(round(auc,2)))\n",
    "plt.plot([0, 1], [0, 1], linestyle='--', lw=2, color='r', label='Random guess')\n",
    "plt.title(\"ROC curve comparison\")\n",
    "plt.legend(loc=0)"
   ]
  },
  {
   "cell_type": "markdown",
   "id": "446e0968",
   "metadata": {},
   "source": [
    "### Examine the predictive performance of the models using gain chart"
   ]
  },
  {
   "cell_type": "code",
   "execution_count": 92,
   "id": "eab78978",
   "metadata": {},
   "outputs": [
    {
     "ename": "AttributeError",
     "evalue": "'numpy.ndarray' object has no attribute 'get_figure'",
     "output_type": "error",
     "traceback": [
      "\u001b[0;31m---------------------------------------------------------------------------\u001b[0m",
      "\u001b[0;31mAttributeError\u001b[0m                            Traceback (most recent call last)",
      "Input \u001b[0;32mIn [92]\u001b[0m, in \u001b[0;36m<cell line: 14>\u001b[0;34m()\u001b[0m\n\u001b[1;32m     11\u001b[0m     ax\u001b[38;5;241m.\u001b[39mset_title(title)\n\u001b[1;32m     12\u001b[0m     \u001b[38;5;28;01mreturn\u001b[39;00m ax\n\u001b[0;32m---> 14\u001b[0m \u001b[43mmodelGainsChart\u001b[49m\u001b[43m(\u001b[49m\u001b[43mknn_clf\u001b[49m\u001b[43m,\u001b[49m\u001b[43m \u001b[49m\u001b[38;5;124;43m'\u001b[39;49m\u001b[38;5;124;43mK-NN\u001b[39;49m\u001b[38;5;124;43m'\u001b[39;49m\u001b[43m,\u001b[49m\u001b[43m \u001b[49m\u001b[43maxes\u001b[49m\u001b[43m[\u001b[49m\u001b[38;5;241;43m0\u001b[39;49m\u001b[43m]\u001b[49m\u001b[43m)\u001b[49m\n\u001b[1;32m     15\u001b[0m modelGainsChart(lr_clf, \u001b[38;5;124m'\u001b[39m\u001b[38;5;124mLogistic regression\u001b[39m\u001b[38;5;124m'\u001b[39m, axes[\u001b[38;5;241m1\u001b[39m])\n\u001b[1;32m     16\u001b[0m modelGainsChart(tree_clf, \u001b[38;5;124m'\u001b[39m\u001b[38;5;124mDecision tree\u001b[39m\u001b[38;5;124m'\u001b[39m, axes[\u001b[38;5;241m2\u001b[39m])\n",
      "Input \u001b[0;32mIn [92]\u001b[0m, in \u001b[0;36mmodelGainsChart\u001b[0;34m(model, title, ax)\u001b[0m\n\u001b[1;32m      4\u001b[0m result \u001b[38;5;241m=\u001b[39m pd\u001b[38;5;241m.\u001b[39mDataFrame({\n\u001b[1;32m      5\u001b[0m     \u001b[38;5;124m'\u001b[39m\u001b[38;5;124mactual\u001b[39m\u001b[38;5;124m'\u001b[39m: validy,\n\u001b[1;32m      6\u001b[0m     \u001b[38;5;124m'\u001b[39m\u001b[38;5;124mprob\u001b[39m\u001b[38;5;124m'\u001b[39m: model\u001b[38;5;241m.\u001b[39mpredict_proba(validX)[:, \u001b[38;5;241m1\u001b[39m]\n\u001b[1;32m      7\u001b[0m })\n\u001b[1;32m      9\u001b[0m result \u001b[38;5;241m=\u001b[39m result\u001b[38;5;241m.\u001b[39msort_values(by\u001b[38;5;241m=\u001b[39m[\u001b[38;5;124m'\u001b[39m\u001b[38;5;124mprob\u001b[39m\u001b[38;5;124m'\u001b[39m], ascending\u001b[38;5;241m=\u001b[39m\u001b[38;5;28;01mFalse\u001b[39;00m)\u001b[38;5;241m.\u001b[39mreset_index(drop\u001b[38;5;241m=\u001b[39m\u001b[38;5;28;01mTrue\u001b[39;00m)\n\u001b[0;32m---> 10\u001b[0m ax \u001b[38;5;241m=\u001b[39m \u001b[43mgainsChart\u001b[49m\u001b[43m(\u001b[49m\u001b[43mresult\u001b[49m\u001b[38;5;241;43m.\u001b[39;49m\u001b[43mactual\u001b[49m\u001b[43m,\u001b[49m\u001b[43m \u001b[49m\u001b[43max\u001b[49m\u001b[38;5;241;43m=\u001b[39;49m\u001b[43max\u001b[49m\u001b[43m)\u001b[49m\n\u001b[1;32m     11\u001b[0m ax\u001b[38;5;241m.\u001b[39mset_title(title)\n\u001b[1;32m     12\u001b[0m \u001b[38;5;28;01mreturn\u001b[39;00m ax\n",
      "File \u001b[0;32m~/opt/anaconda3/envs/pythonenv/lib/python3.10/site-packages/dmba/graphs.py:66\u001b[0m, in \u001b[0;36mgainsChart\u001b[0;34m(gains, color, label, ax, figsize)\u001b[0m\n\u001b[1;32m     63\u001b[0m cumGains \u001b[38;5;241m=\u001b[39m pd\u001b[38;5;241m.\u001b[39mconcat([pd\u001b[38;5;241m.\u001b[39mSeries([\u001b[38;5;241m0\u001b[39m]), gains\u001b[38;5;241m.\u001b[39mcumsum()])  \u001b[38;5;66;03m# Note the additional 0 at the front\u001b[39;00m\n\u001b[1;32m     64\u001b[0m gains_df \u001b[38;5;241m=\u001b[39m pd\u001b[38;5;241m.\u001b[39mDataFrame({\u001b[38;5;124m'\u001b[39m\u001b[38;5;124mrecords\u001b[39m\u001b[38;5;124m'\u001b[39m: \u001b[38;5;28mlist\u001b[39m(\u001b[38;5;28mrange\u001b[39m(\u001b[38;5;28mlen\u001b[39m(gains) \u001b[38;5;241m+\u001b[39m \u001b[38;5;241m1\u001b[39m)), \u001b[38;5;124m'\u001b[39m\u001b[38;5;124mcumGains\u001b[39m\u001b[38;5;124m'\u001b[39m: cumGains})\n\u001b[0;32m---> 66\u001b[0m ax \u001b[38;5;241m=\u001b[39m \u001b[43mgains_df\u001b[49m\u001b[38;5;241;43m.\u001b[39;49m\u001b[43mplot\u001b[49m\u001b[43m(\u001b[49m\u001b[43mx\u001b[49m\u001b[38;5;241;43m=\u001b[39;49m\u001b[38;5;124;43m'\u001b[39;49m\u001b[38;5;124;43mrecords\u001b[39;49m\u001b[38;5;124;43m'\u001b[39;49m\u001b[43m,\u001b[49m\u001b[43m \u001b[49m\u001b[43my\u001b[49m\u001b[38;5;241;43m=\u001b[39;49m\u001b[38;5;124;43m'\u001b[39;49m\u001b[38;5;124;43mcumGains\u001b[39;49m\u001b[38;5;124;43m'\u001b[39;49m\u001b[43m,\u001b[49m\u001b[43m \u001b[49m\u001b[43mcolor\u001b[49m\u001b[38;5;241;43m=\u001b[39;49m\u001b[43mcolor\u001b[49m\u001b[43m,\u001b[49m\u001b[43m \u001b[49m\u001b[43mlabel\u001b[49m\u001b[38;5;241;43m=\u001b[39;49m\u001b[43mlabel\u001b[49m\u001b[43m,\u001b[49m\u001b[43m \u001b[49m\u001b[43mlegend\u001b[49m\u001b[38;5;241;43m=\u001b[39;49m\u001b[38;5;28;43;01mFalse\u001b[39;49;00m\u001b[43m,\u001b[49m\n\u001b[1;32m     67\u001b[0m \u001b[43m                   \u001b[49m\u001b[43max\u001b[49m\u001b[38;5;241;43m=\u001b[39;49m\u001b[43max\u001b[49m\u001b[43m,\u001b[49m\u001b[43m \u001b[49m\u001b[43mfigsize\u001b[49m\u001b[38;5;241;43m=\u001b[39;49m\u001b[43mfigsize\u001b[49m\u001b[43m)\u001b[49m\n\u001b[1;32m     69\u001b[0m \u001b[38;5;66;03m# Add line for random gain\u001b[39;00m\n\u001b[1;32m     70\u001b[0m ax\u001b[38;5;241m.\u001b[39mplot([\u001b[38;5;241m0\u001b[39m, nTotal], [\u001b[38;5;241m0\u001b[39m, nActual], linestyle\u001b[38;5;241m=\u001b[39m\u001b[38;5;124m'\u001b[39m\u001b[38;5;124m--\u001b[39m\u001b[38;5;124m'\u001b[39m, color\u001b[38;5;241m=\u001b[39m\u001b[38;5;124m'\u001b[39m\u001b[38;5;124mk\u001b[39m\u001b[38;5;124m'\u001b[39m)\n",
      "File \u001b[0;32m~/opt/anaconda3/envs/pythonenv/lib/python3.10/site-packages/pandas/plotting/_core.py:972\u001b[0m, in \u001b[0;36mPlotAccessor.__call__\u001b[0;34m(self, *args, **kwargs)\u001b[0m\n\u001b[1;32m    969\u001b[0m             label_name \u001b[38;5;241m=\u001b[39m label_kw \u001b[38;5;129;01mor\u001b[39;00m data\u001b[38;5;241m.\u001b[39mcolumns\n\u001b[1;32m    970\u001b[0m             data\u001b[38;5;241m.\u001b[39mcolumns \u001b[38;5;241m=\u001b[39m label_name\n\u001b[0;32m--> 972\u001b[0m \u001b[38;5;28;01mreturn\u001b[39;00m \u001b[43mplot_backend\u001b[49m\u001b[38;5;241;43m.\u001b[39;49m\u001b[43mplot\u001b[49m\u001b[43m(\u001b[49m\u001b[43mdata\u001b[49m\u001b[43m,\u001b[49m\u001b[43m \u001b[49m\u001b[43mkind\u001b[49m\u001b[38;5;241;43m=\u001b[39;49m\u001b[43mkind\u001b[49m\u001b[43m,\u001b[49m\u001b[43m \u001b[49m\u001b[38;5;241;43m*\u001b[39;49m\u001b[38;5;241;43m*\u001b[39;49m\u001b[43mkwargs\u001b[49m\u001b[43m)\u001b[49m\n",
      "File \u001b[0;32m~/opt/anaconda3/envs/pythonenv/lib/python3.10/site-packages/pandas/plotting/_matplotlib/__init__.py:71\u001b[0m, in \u001b[0;36mplot\u001b[0;34m(data, kind, **kwargs)\u001b[0m\n\u001b[1;32m     69\u001b[0m         kwargs[\u001b[38;5;124m\"\u001b[39m\u001b[38;5;124max\u001b[39m\u001b[38;5;124m\"\u001b[39m] \u001b[38;5;241m=\u001b[39m \u001b[38;5;28mgetattr\u001b[39m(ax, \u001b[38;5;124m\"\u001b[39m\u001b[38;5;124mleft_ax\u001b[39m\u001b[38;5;124m\"\u001b[39m, ax)\n\u001b[1;32m     70\u001b[0m plot_obj \u001b[38;5;241m=\u001b[39m PLOT_CLASSES[kind](data, \u001b[38;5;241m*\u001b[39m\u001b[38;5;241m*\u001b[39mkwargs)\n\u001b[0;32m---> 71\u001b[0m \u001b[43mplot_obj\u001b[49m\u001b[38;5;241;43m.\u001b[39;49m\u001b[43mgenerate\u001b[49m\u001b[43m(\u001b[49m\u001b[43m)\u001b[49m\n\u001b[1;32m     72\u001b[0m plot_obj\u001b[38;5;241m.\u001b[39mdraw()\n\u001b[1;32m     73\u001b[0m \u001b[38;5;28;01mreturn\u001b[39;00m plot_obj\u001b[38;5;241m.\u001b[39mresult\n",
      "File \u001b[0;32m~/opt/anaconda3/envs/pythonenv/lib/python3.10/site-packages/pandas/plotting/_matplotlib/core.py:328\u001b[0m, in \u001b[0;36mMPLPlot.generate\u001b[0;34m(self)\u001b[0m\n\u001b[1;32m    326\u001b[0m \u001b[38;5;28mself\u001b[39m\u001b[38;5;241m.\u001b[39m_args_adjust()\n\u001b[1;32m    327\u001b[0m \u001b[38;5;28mself\u001b[39m\u001b[38;5;241m.\u001b[39m_compute_plot_data()\n\u001b[0;32m--> 328\u001b[0m \u001b[38;5;28;43mself\u001b[39;49m\u001b[38;5;241;43m.\u001b[39;49m\u001b[43m_setup_subplots\u001b[49m\u001b[43m(\u001b[49m\u001b[43m)\u001b[49m\n\u001b[1;32m    329\u001b[0m \u001b[38;5;28mself\u001b[39m\u001b[38;5;241m.\u001b[39m_make_plot()\n\u001b[1;32m    330\u001b[0m \u001b[38;5;28mself\u001b[39m\u001b[38;5;241m.\u001b[39m_add_table()\n",
      "File \u001b[0;32m~/opt/anaconda3/envs/pythonenv/lib/python3.10/site-packages/pandas/plotting/_matplotlib/core.py:389\u001b[0m, in \u001b[0;36mMPLPlot._setup_subplots\u001b[0;34m(self)\u001b[0m\n\u001b[1;32m    387\u001b[0m     axes \u001b[38;5;241m=\u001b[39m fig\u001b[38;5;241m.\u001b[39madd_subplot(\u001b[38;5;241m111\u001b[39m)\n\u001b[1;32m    388\u001b[0m \u001b[38;5;28;01melse\u001b[39;00m:\n\u001b[0;32m--> 389\u001b[0m     fig \u001b[38;5;241m=\u001b[39m \u001b[38;5;28;43mself\u001b[39;49m\u001b[38;5;241;43m.\u001b[39;49m\u001b[43max\u001b[49m\u001b[38;5;241;43m.\u001b[39;49m\u001b[43mget_figure\u001b[49m()\n\u001b[1;32m    390\u001b[0m     \u001b[38;5;28;01mif\u001b[39;00m \u001b[38;5;28mself\u001b[39m\u001b[38;5;241m.\u001b[39mfigsize \u001b[38;5;129;01mis\u001b[39;00m \u001b[38;5;129;01mnot\u001b[39;00m \u001b[38;5;28;01mNone\u001b[39;00m:\n\u001b[1;32m    391\u001b[0m         fig\u001b[38;5;241m.\u001b[39mset_size_inches(\u001b[38;5;28mself\u001b[39m\u001b[38;5;241m.\u001b[39mfigsize)\n",
      "\u001b[0;31mAttributeError\u001b[0m: 'numpy.ndarray' object has no attribute 'get_figure'"
     ]
    },
    {
     "data": {
      "image/png": "[encoded data removed]",
      "text/plain": [
       "<Figure size 1080x288 with 12 Axes>"
      ]
     },
     "metadata": {
      "needs_background": "light"
     },
     "output_type": "display_data"
    }
   ],
   "source": [
    "fig, axes = plt.subplots(nrows=2, ncols=6, figsize=(15, 4))\n",
    "\n",
    "def modelGainsChart(model, title, ax=None):\n",
    "    result = pd.DataFrame({\n",
    "        'actual': validy,\n",
    "        'prob': model.predict_proba(validX)[:, 1]\n",
    "    })\n",
    "\n",
    "    result = result.sort_values(by=['prob'], ascending=False).reset_index(drop=True)\n",
    "    ax = gainsChart(result.actual, ax=ax)\n",
    "    ax.set_title(title)\n",
    "    return ax\n",
    "\n",
    "modelGainsChart(knn_clf, 'K-NN', axes[0])\n",
    "modelGainsChart(lr_clf, 'Logistic regression', axes[1])\n",
    "modelGainsChart(tree_clf, 'Decision tree', axes[2])\n",
    "modelGainsChart(rf_clf, 'Random forest', axes[3])\n",
    "modelGainsChart(xgb_clf, 'XGBoost', axes[4])\n",
    "modelGainsChart(svc, 'Support vector machine', axes[5])\n",
    "\n",
    "\n",
    "\n",
    "ax = modelGainsChart(lr_clf, 'Logistic regression')\n",
    "\n",
    "modelGainsChart(knn_clf, 'K-NN', ax)\n",
    "modelGainsChart(rf_clf, 'Random forest', ax)\n",
    "modelGainsChart(tree_clf, 'Decision tree', ax)\n",
    "modelGainsChart(xgb_clf, 'XGBosst', ax)\n",
    "modelGainsChart(svc, 'Support vector machine', ax)\n",
    "\n",
    "\n",
    "ax.set_title('All models')"
   ]
  },
  {
   "cell_type": "markdown",
   "id": "d535b80e",
   "metadata": {},
   "source": [
    "### Important features of the best model (XG-Boost)"
   ]
  },
  {
   "cell_type": "code",
   "execution_count": 83,
   "id": "b93ef958",
   "metadata": {
    "scrolled": true
   },
   "outputs": [
    {
     "data": {
      "text/plain": [
       "Text(0.5, 1.0, 'Feature Importance Ranking Related to The Best Model (XG-Boost)')"
      ]
     },
     "execution_count": 83,
     "metadata": {},
     "output_type": "execute_result"
    },
    {
     "data": {
      "image/png": "[encoded data removed]",
      "text/plain": [
       "<Figure size 1440x720 with 1 Axes>"
      ]
     },
     "metadata": {
      "needs_background": "light"
     },
     "output_type": "display_data"
    }
   ],
   "source": [
    "# fit the XGBoost model using the best parameters\n",
    "best_clf=XGBClassifier(max_depth=6,n_estimators=100)\n",
    "best_clf.fit(trainX,trainy)\n",
    "feature_important = best_clf.get_booster().get_score(importance_type='weight')\n",
    "keys = list(feature_important.keys())\n",
    "values = list(feature_important.values())\n",
    "\n",
    "data = pd.DataFrame(data=values, index=keys, columns=[\"score\"]).sort_values(by = \"score\", ascending=False)\n",
    "data.nlargest(40, columns=\"score\").plot(kind='bar', figsize = (20,10)) ## plot top 40 features\n",
    "plt.title('Feature Importance Ranking Related to The Best Model (XG-Boost)')"
   ]
  },
  {
   "cell_type": "markdown",
   "id": "0e1edd6d",
   "metadata": {},
   "source": [
    "### Models Evaluation Comparision"
   ]
  },
  {
   "cell_type": "code",
   "execution_count": 103,
   "id": "622f2e92",
   "metadata": {},
   "outputs": [],
   "source": [
    "# Logistic regression evaluation metrics\n",
    "lr_report = classification_report(validy,lr_clf.predict(validX), output_dict=True)\n",
    "lr_accuracy = round(lr_report['accuracy'],3)\n",
    "lr_precision = round(lr_report['1']['precision'],3)\n",
    "lr_recall = round(lr_report['1']['recall'],3)\n",
    "lr_f1score = round(lr_report['1']['f1-score'],3)"
   ]
  },
  {
   "cell_type": "code",
   "execution_count": 118,
   "id": "bcd2582c",
   "metadata": {},
   "outputs": [],
   "source": [
    "# K-NN evaluation metrics\n",
    "knn_report = classification_report(validy,knn_clf.predict(validX), output_dict=True)\n",
    "knn_accuracy = round(knn_report['accuracy'],3)\n",
    "knn_precision = round(knn_report['1']['precision'],3)\n",
    "knn_recall = round(knn_report['1']['recall'],3)\n",
    "knn_f1score = round(knn_report['1']['f1-score'],3)"
   ]
  },
  {
   "cell_type": "code",
   "execution_count": 119,
   "id": "a3416d62",
   "metadata": {},
   "outputs": [],
   "source": [
    "# Random Forest evaluation metrics\n",
    "rf_report = classification_report(validy,rf_clf.predict(validX), output_dict=True)\n",
    "rf_accuracy = round(rf_report['accuracy'],3)\n",
    "rf_precision = round(rf_report['1']['precision'],3)\n",
    "rf_recall = round(rf_report['1']['recall'],3)\n",
    "rf_f1score = round(rf_report['1']['f1-score'],3)"
   ]
  },
  {
   "cell_type": "code",
   "execution_count": 122,
   "id": "3667e9f3",
   "metadata": {},
   "outputs": [],
   "source": [
    "# Decision Tree evaluation metrics\n",
    "dt_report = classification_report(validy,tree_clf.predict(validX), output_dict=True)\n",
    "dt_accuracy = round(dt_report['accuracy'],3)\n",
    "dt_precision = round(dt_report['1']['precision'],3)\n",
    "dt_recall = round(dt_report['1']['recall'],3)\n",
    "dt_f1score = round(dt_report['1']['f1-score'],3)"
   ]
  },
  {
   "cell_type": "code",
   "execution_count": 123,
   "id": "697f917a",
   "metadata": {},
   "outputs": [],
   "source": [
    "# XGBoost evaluation metrics\n",
    "xgb_report = classification_report(validy,xgb_clf.predict(validX), output_dict=True)\n",
    "xgb_accuracy = round(xgb_report['accuracy'],3)\n",
    "xgb_precision = round(xgb_report['1']['precision'],3)\n",
    "xgb_recall = round(xgb_report['1']['recall'],3)\n",
    "xgb_f1score = round(xgb_report['1']['f1-score'],3)"
   ]
  },
  {
   "cell_type": "code",
   "execution_count": 124,
   "id": "a6ca45ac",
   "metadata": {},
   "outputs": [],
   "source": [
    "# XGBoost evaluation metrics\n",
    "svm_report = classification_report(validy,svc_clf.predict(validX), output_dict=True)\n",
    "svm_accuracy = round(svm_report['accuracy'],3)\n",
    "svm_precision = round(svm_report['1']['precision'],3)\n",
    "svm_recall = round(svm_report['1']['recall'],3)\n",
    "svm_f1score = round(svm_report['1']['f1-score'],3)"
   ]
  },
  {
   "cell_type": "code",
   "execution_count": 128,
   "id": "1c211784",
   "metadata": {},
   "outputs": [
    {
     "data": {
      "text/html": [
       "<div>\n",
       "<style scoped>\n",
       "    .dataframe tbody tr th:only-of-type {\n",
       "        vertical-align: middle;\n",
       "    }\n",
       "\n",
       "    .dataframe tbody tr th {\n",
       "        vertical-align: top;\n",
       "    }\n",
       "\n",
       "    .dataframe thead th {\n",
       "        text-align: right;\n",
       "    }\n",
       "</style>\n",
       "<table border=\"1\" class=\"dataframe\">\n",
       "  <thead>\n",
       "    <tr style=\"text-align: right;\">\n",
       "      <th></th>\n",
       "      <th>Model</th>\n",
       "      <th>Accuracy Score</th>\n",
       "      <th>Precision Score</th>\n",
       "      <th>Recall Score</th>\n",
       "      <th>F1 Score</th>\n",
       "    </tr>\n",
       "  </thead>\n",
       "  <tbody>\n",
       "    <tr>\n",
       "      <th>4</th>\n",
       "      <td>XGBoost</td>\n",
       "      <td>0.898</td>\n",
       "      <td>0.932</td>\n",
       "      <td>0.865</td>\n",
       "      <td>0.897</td>\n",
       "    </tr>\n",
       "    <tr>\n",
       "      <th>5</th>\n",
       "      <td>Support Vector Machine (SVM)</td>\n",
       "      <td>0.896</td>\n",
       "      <td>0.881</td>\n",
       "      <td>0.923</td>\n",
       "      <td>0.902</td>\n",
       "    </tr>\n",
       "    <tr>\n",
       "      <th>1</th>\n",
       "      <td>KNN</td>\n",
       "      <td>0.862</td>\n",
       "      <td>0.858</td>\n",
       "      <td>0.877</td>\n",
       "      <td>0.867</td>\n",
       "    </tr>\n",
       "    <tr>\n",
       "      <th>2</th>\n",
       "      <td>Random Forest</td>\n",
       "      <td>0.824</td>\n",
       "      <td>0.859</td>\n",
       "      <td>0.787</td>\n",
       "      <td>0.821</td>\n",
       "    </tr>\n",
       "    <tr>\n",
       "      <th>3</th>\n",
       "      <td>Decision Tree</td>\n",
       "      <td>0.823</td>\n",
       "      <td>0.846</td>\n",
       "      <td>0.803</td>\n",
       "      <td>0.824</td>\n",
       "    </tr>\n",
       "    <tr>\n",
       "      <th>0</th>\n",
       "      <td>Logistic Regression</td>\n",
       "      <td>0.747</td>\n",
       "      <td>0.771</td>\n",
       "      <td>0.722</td>\n",
       "      <td>0.746</td>\n",
       "    </tr>\n",
       "  </tbody>\n",
       "</table>\n",
       "</div>"
      ],
      "text/plain": [
       "                          Model  Accuracy Score  Precision Score  \\\n",
       "4                       XGBoost           0.898            0.932   \n",
       "5  Support Vector Machine (SVM)           0.896            0.881   \n",
       "1                           KNN           0.862            0.858   \n",
       "2                 Random Forest           0.824            0.859   \n",
       "3                 Decision Tree           0.823            0.846   \n",
       "0           Logistic Regression           0.747            0.771   \n",
       "\n",
       "   Recall Score  F1 Score  \n",
       "4         0.865     0.897  \n",
       "5         0.923     0.902  \n",
       "1         0.877     0.867  \n",
       "2         0.787     0.821  \n",
       "3         0.803     0.824  \n",
       "0         0.722     0.746  "
      ]
     },
     "execution_count": 128,
     "metadata": {},
     "output_type": "execute_result"
    }
   ],
   "source": [
    "models_evaluation_comparision = pd.DataFrame({'Model':[\"Logistic Regression\",\"KNN\",\"Random Forest\",\n",
    "                                                      \"Decision Tree\",\"XGBoost\",\"Support Vector Machine (SVM)\"],\n",
    "                                             \"Accuracy Score\": [lr_accuracy, knn_accuracy,rf_accuracy,\n",
    "                                                                dt_accuracy,xgb_accuracy,svm_accuracy],\n",
    "                                              \n",
    "                                             \"Precision Score\":[lr_precision, knn_precision,rf_precision,\n",
    "                                                                dt_precision,xgb_precision,svm_precision],\n",
    "                                              \n",
    "                                              \"Recall Score\": [lr_recall, knn_recall, rf_recall, \n",
    "                                                              dt_recall,xgb_recall,svm_recall],\n",
    "                                              \n",
    "                                              \"F1 Score\":[lr_f1score, knn_f1score,rf_f1score,\n",
    "                                                         dt_f1score,xgb_f1score,svm_f1score]})\n",
    "\n",
    "models_evaluation_comparision.sort_values(by=(\"Accuracy Score\"),ascending=False)"
   ]
  },
  {
   "cell_type": "markdown",
   "id": "94d12142",
   "metadata": {},
   "source": [
    "### Use the final model on unseen dataset (X_test)"
   ]
  },
  {
   "cell_type": "code",
   "execution_count": 84,
   "id": "bbd92385",
   "metadata": {},
   "outputs": [],
   "source": [
    "testing_df = testX.copy()\n",
    "testing_df['Probabilities'] = xgb_clf.predict_proba(testX)[:, 1]\n",
    "testing_df['Prediction'] = xgb_clf.predict(testX)"
   ]
  },
  {
   "cell_type": "code",
   "execution_count": 85,
   "id": "78e6e3ac",
   "metadata": {},
   "outputs": [
    {
     "name": "stdout",
     "output_type": "stream",
     "text": [
      "Churn: 818\n",
      "No Churn: 741\n",
      "Churn Rate: 0.5246953175112251\n"
     ]
    }
   ],
   "source": [
    "# predictions on unseen data\n",
    "churn = testing_df[testing_df['Prediction']==0].shape[0]\n",
    "no_churn = testing_df[testing_df['Prediction']==1].shape[0]\n",
    "\n",
    "print(f'Churn: {churn}')\n",
    "print(f'No Churn: {no_churn}')\n",
    "print(f'Churn Rate: {churn/testing_df.shape[0]}')"
   ]
  },
  {
   "cell_type": "markdown",
   "id": "9d1315ac",
   "metadata": {},
   "source": [
    "<b>The XGBoost outperforms all other models with accuracy values of 0.96, precision values of 0.93, recall values of 0.87, and F1 scores of 0.90. Among all the variables, the AUC rate, which has a value of 0.899, has the highest rate.</b>"
   ]
  },
  {
   "cell_type": "code",
   "execution_count": null,
   "id": "ffa8c927",
   "metadata": {},
   "outputs": [],
   "source": []
  }
 ],
 "metadata": {
  "kernelspec": {
   "display_name": "Python 3 (ipykernel)",
   "language": "python",
   "name": "python3"
  },
  "language_info": {
   "codemirror_mode": {
    "name": "ipython",
    "version": 3
   },
   "file_extension": ".py",
   "mimetype": "text/x-python",
   "name": "python",
   "nbconvert_exporter": "python",
   "pygments_lexer": "ipython3",
   "version": "3.10.2"
  }
 },
 "nbformat": 4,
 "nbformat_minor": 5
}

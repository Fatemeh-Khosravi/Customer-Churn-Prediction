{
 "cells": [
  {
   "cell_type": "markdown",
   "id": "20ec5726",
   "metadata": {},
   "source": [
    "# Use Case - Churn Prediction\n",
    "\n",
    "> Data Mining for Business Analytics ADS-505\n",
    ">\n",
    "> Fatemeh Khosravi - Stephen Kuc - Ruddy Simonpour"
   ]
  },
  {
   "cell_type": "code",
   "execution_count": 144,
   "id": "e0621806",
   "metadata": {},
   "outputs": [],
   "source": [
    "# import dependencies\n",
    "import pandas as pd\n",
    "import numpy as np\n",
    "import csv\n",
    "import os\n",
    "import matplotlib.pylab as plt\n",
    "import seaborn as sns\n",
    "\n",
    "import statsmodels.tools.tools as stattools\n",
    "\n",
    "from sklearn import preprocessing\n",
    "\n",
    "# models\n",
    "from sklearn.linear_model import LogisticRegression, LogisticRegressionCV, LinearRegression\n",
    "from sklearn.model_selection import train_test_split, cross_val_score, GridSearchCV\n",
    "from sklearn.metrics import accuracy_score, precision_score, f1_score\n",
    "from sklearn.neighbors import NearestNeighbors, KNeighborsClassifier\n",
    "from sklearn.tree import DecisionTreeClassifier\n",
    "from sklearn.ensemble import RandomForestClassifier\n",
    "from sklearn.naive_bayes import MultinomialNB\n",
    "\n",
    "\n",
    "from dmba.metric import AIC_score\n",
    "\n",
    "from sklearn.metrics import confusion_matrix, accuracy_score, classification_report\n",
    "from sklearn.metrics import roc_auc_score, roc_curve, precision_score, recall_score, f1_score\n"
   ]
  },
  {
   "cell_type": "code",
   "execution_count": 145,
   "id": "d9075d14",
   "metadata": {},
   "outputs": [],
   "source": [
    "os.chdir(\"/Users/ruddysimonpour/Desktop/ADS505-Applied Data Sci for Business/Project-ADS505/ADS505-Finall-project/Dataset\")"
   ]
  },
  {
   "cell_type": "code",
   "execution_count": 146,
   "id": "8ea8d0ac",
   "metadata": {},
   "outputs": [],
   "source": [
    "bank = pd.read_csv(\"Bank Customer Churn Prediction.csv\",low_memory=False)"
   ]
  },
  {
   "cell_type": "code",
   "execution_count": 147,
   "id": "2377ae2e",
   "metadata": {},
   "outputs": [
    {
     "data": {
      "text/html": [
       "<div>\n",
       "<style scoped>\n",
       "    .dataframe tbody tr th:only-of-type {\n",
       "        vertical-align: middle;\n",
       "    }\n",
       "\n",
       "    .dataframe tbody tr th {\n",
       "        vertical-align: top;\n",
       "    }\n",
       "\n",
       "    .dataframe thead th {\n",
       "        text-align: right;\n",
       "    }\n",
       "</style>\n",
       "<table border=\"1\" class=\"dataframe\">\n",
       "  <thead>\n",
       "    <tr style=\"text-align: right;\">\n",
       "      <th></th>\n",
       "      <th>customer_id</th>\n",
       "      <th>credit_score</th>\n",
       "      <th>country</th>\n",
       "      <th>gender</th>\n",
       "      <th>age</th>\n",
       "      <th>tenure</th>\n",
       "      <th>balance</th>\n",
       "      <th>products_number</th>\n",
       "      <th>credit_card</th>\n",
       "      <th>active_member</th>\n",
       "      <th>estimated_salary</th>\n",
       "      <th>churn</th>\n",
       "    </tr>\n",
       "  </thead>\n",
       "  <tbody>\n",
       "    <tr>\n",
       "      <th>1603</th>\n",
       "      <td>15593470</td>\n",
       "      <td>576</td>\n",
       "      <td>Germany</td>\n",
       "      <td>Female</td>\n",
       "      <td>36</td>\n",
       "      <td>8</td>\n",
       "      <td>166287.85</td>\n",
       "      <td>1</td>\n",
       "      <td>1</td>\n",
       "      <td>1</td>\n",
       "      <td>23305.85</td>\n",
       "      <td>0</td>\n",
       "    </tr>\n",
       "    <tr>\n",
       "      <th>9273</th>\n",
       "      <td>15740160</td>\n",
       "      <td>616</td>\n",
       "      <td>France</td>\n",
       "      <td>Male</td>\n",
       "      <td>31</td>\n",
       "      <td>1</td>\n",
       "      <td>0.00</td>\n",
       "      <td>2</td>\n",
       "      <td>1</td>\n",
       "      <td>1</td>\n",
       "      <td>54706.75</td>\n",
       "      <td>0</td>\n",
       "    </tr>\n",
       "    <tr>\n",
       "      <th>3916</th>\n",
       "      <td>15620276</td>\n",
       "      <td>539</td>\n",
       "      <td>Spain</td>\n",
       "      <td>Male</td>\n",
       "      <td>36</td>\n",
       "      <td>6</td>\n",
       "      <td>0.00</td>\n",
       "      <td>3</td>\n",
       "      <td>1</td>\n",
       "      <td>1</td>\n",
       "      <td>118959.64</td>\n",
       "      <td>0</td>\n",
       "    </tr>\n",
       "    <tr>\n",
       "      <th>3410</th>\n",
       "      <td>15595937</td>\n",
       "      <td>430</td>\n",
       "      <td>Germany</td>\n",
       "      <td>Male</td>\n",
       "      <td>36</td>\n",
       "      <td>1</td>\n",
       "      <td>138992.48</td>\n",
       "      <td>2</td>\n",
       "      <td>0</td>\n",
       "      <td>0</td>\n",
       "      <td>122373.42</td>\n",
       "      <td>0</td>\n",
       "    </tr>\n",
       "    <tr>\n",
       "      <th>2164</th>\n",
       "      <td>15794479</td>\n",
       "      <td>767</td>\n",
       "      <td>Spain</td>\n",
       "      <td>Male</td>\n",
       "      <td>77</td>\n",
       "      <td>8</td>\n",
       "      <td>149083.70</td>\n",
       "      <td>1</td>\n",
       "      <td>1</td>\n",
       "      <td>1</td>\n",
       "      <td>190146.83</td>\n",
       "      <td>0</td>\n",
       "    </tr>\n",
       "    <tr>\n",
       "      <th>2603</th>\n",
       "      <td>15583049</td>\n",
       "      <td>643</td>\n",
       "      <td>Germany</td>\n",
       "      <td>Female</td>\n",
       "      <td>34</td>\n",
       "      <td>7</td>\n",
       "      <td>160426.07</td>\n",
       "      <td>1</td>\n",
       "      <td>0</td>\n",
       "      <td>1</td>\n",
       "      <td>188533.11</td>\n",
       "      <td>0</td>\n",
       "    </tr>\n",
       "    <tr>\n",
       "      <th>8232</th>\n",
       "      <td>15732704</td>\n",
       "      <td>582</td>\n",
       "      <td>Spain</td>\n",
       "      <td>Male</td>\n",
       "      <td>25</td>\n",
       "      <td>9</td>\n",
       "      <td>148042.97</td>\n",
       "      <td>2</td>\n",
       "      <td>1</td>\n",
       "      <td>0</td>\n",
       "      <td>52341.15</td>\n",
       "      <td>0</td>\n",
       "    </tr>\n",
       "    <tr>\n",
       "      <th>9576</th>\n",
       "      <td>15723484</td>\n",
       "      <td>669</td>\n",
       "      <td>Germany</td>\n",
       "      <td>Female</td>\n",
       "      <td>42</td>\n",
       "      <td>1</td>\n",
       "      <td>103873.39</td>\n",
       "      <td>1</td>\n",
       "      <td>1</td>\n",
       "      <td>0</td>\n",
       "      <td>148611.52</td>\n",
       "      <td>0</td>\n",
       "    </tr>\n",
       "    <tr>\n",
       "      <th>3594</th>\n",
       "      <td>15578369</td>\n",
       "      <td>652</td>\n",
       "      <td>Germany</td>\n",
       "      <td>Female</td>\n",
       "      <td>37</td>\n",
       "      <td>9</td>\n",
       "      <td>145219.30</td>\n",
       "      <td>1</td>\n",
       "      <td>1</td>\n",
       "      <td>0</td>\n",
       "      <td>159132.83</td>\n",
       "      <td>0</td>\n",
       "    </tr>\n",
       "    <tr>\n",
       "      <th>6146</th>\n",
       "      <td>15649112</td>\n",
       "      <td>738</td>\n",
       "      <td>Spain</td>\n",
       "      <td>Female</td>\n",
       "      <td>33</td>\n",
       "      <td>3</td>\n",
       "      <td>122134.40</td>\n",
       "      <td>2</td>\n",
       "      <td>0</td>\n",
       "      <td>1</td>\n",
       "      <td>27867.59</td>\n",
       "      <td>0</td>\n",
       "    </tr>\n",
       "  </tbody>\n",
       "</table>\n",
       "</div>"
      ],
      "text/plain": [
       "      customer_id  credit_score  country  gender  age  tenure    balance  \\\n",
       "1603     15593470           576  Germany  Female   36       8  166287.85   \n",
       "9273     15740160           616   France    Male   31       1       0.00   \n",
       "3916     15620276           539    Spain    Male   36       6       0.00   \n",
       "3410     15595937           430  Germany    Male   36       1  138992.48   \n",
       "2164     15794479           767    Spain    Male   77       8  149083.70   \n",
       "2603     15583049           643  Germany  Female   34       7  160426.07   \n",
       "8232     15732704           582    Spain    Male   25       9  148042.97   \n",
       "9576     15723484           669  Germany  Female   42       1  103873.39   \n",
       "3594     15578369           652  Germany  Female   37       9  145219.30   \n",
       "6146     15649112           738    Spain  Female   33       3  122134.40   \n",
       "\n",
       "      products_number  credit_card  active_member  estimated_salary  churn  \n",
       "1603                1            1              1          23305.85      0  \n",
       "9273                2            1              1          54706.75      0  \n",
       "3916                3            1              1         118959.64      0  \n",
       "3410                2            0              0         122373.42      0  \n",
       "2164                1            1              1         190146.83      0  \n",
       "2603                1            0              1         188533.11      0  \n",
       "8232                2            1              0          52341.15      0  \n",
       "9576                1            1              0         148611.52      0  \n",
       "3594                1            1              0         159132.83      0  \n",
       "6146                2            0              1          27867.59      0  "
      ]
     },
     "execution_count": 147,
     "metadata": {},
     "output_type": "execute_result"
    }
   ],
   "source": [
    "# print data\n",
    "bank.sample(10)"
   ]
  },
  {
   "cell_type": "code",
   "execution_count": 148,
   "id": "1c8dfc16",
   "metadata": {},
   "outputs": [
    {
     "data": {
      "text/plain": [
       "customer_id           int64\n",
       "credit_score          int64\n",
       "country              object\n",
       "gender               object\n",
       "age                   int64\n",
       "tenure                int64\n",
       "balance             float64\n",
       "products_number       int64\n",
       "credit_card           int64\n",
       "active_member         int64\n",
       "estimated_salary    float64\n",
       "churn                 int64\n",
       "dtype: object"
      ]
     },
     "execution_count": 148,
     "metadata": {},
     "output_type": "execute_result"
    }
   ],
   "source": [
    "# checking the data types\n",
    "bank.dtypes"
   ]
  },
  {
   "cell_type": "code",
   "execution_count": 149,
   "id": "70bacd04",
   "metadata": {},
   "outputs": [
    {
     "name": "stdout",
     "output_type": "stream",
     "text": [
      "Number of rows in the dataframe 10000\n",
      "Number of columns in the dataframe 12\n"
     ]
    }
   ],
   "source": [
    "# dataframe shape\n",
    "print(f'Number of rows in the dataframe {bank.shape[0]}')\n",
    "print(f'Number of columns in the dataframe {bank.shape[1]}')"
   ]
  },
  {
   "cell_type": "code",
   "execution_count": 150,
   "id": "e0c9eae2",
   "metadata": {},
   "outputs": [
    {
     "data": {
      "text/html": [
       "<div>\n",
       "<style scoped>\n",
       "    .dataframe tbody tr th:only-of-type {\n",
       "        vertical-align: middle;\n",
       "    }\n",
       "\n",
       "    .dataframe tbody tr th {\n",
       "        vertical-align: top;\n",
       "    }\n",
       "\n",
       "    .dataframe thead th {\n",
       "        text-align: right;\n",
       "    }\n",
       "</style>\n",
       "<table border=\"1\" class=\"dataframe\">\n",
       "  <thead>\n",
       "    <tr style=\"text-align: right;\">\n",
       "      <th></th>\n",
       "      <th>count</th>\n",
       "      <th>mean</th>\n",
       "      <th>std</th>\n",
       "      <th>min</th>\n",
       "      <th>25%</th>\n",
       "      <th>50%</th>\n",
       "      <th>75%</th>\n",
       "      <th>max</th>\n",
       "    </tr>\n",
       "  </thead>\n",
       "  <tbody>\n",
       "    <tr>\n",
       "      <th>customer_id</th>\n",
       "      <td>10000.0</td>\n",
       "      <td>1.569094e+07</td>\n",
       "      <td>71936.186123</td>\n",
       "      <td>15565701.00</td>\n",
       "      <td>15628528.25</td>\n",
       "      <td>1.569074e+07</td>\n",
       "      <td>1.575323e+07</td>\n",
       "      <td>15815690.00</td>\n",
       "    </tr>\n",
       "    <tr>\n",
       "      <th>credit_score</th>\n",
       "      <td>10000.0</td>\n",
       "      <td>6.505288e+02</td>\n",
       "      <td>96.653299</td>\n",
       "      <td>350.00</td>\n",
       "      <td>584.00</td>\n",
       "      <td>6.520000e+02</td>\n",
       "      <td>7.180000e+02</td>\n",
       "      <td>850.00</td>\n",
       "    </tr>\n",
       "    <tr>\n",
       "      <th>age</th>\n",
       "      <td>10000.0</td>\n",
       "      <td>3.892180e+01</td>\n",
       "      <td>10.487806</td>\n",
       "      <td>18.00</td>\n",
       "      <td>32.00</td>\n",
       "      <td>3.700000e+01</td>\n",
       "      <td>4.400000e+01</td>\n",
       "      <td>92.00</td>\n",
       "    </tr>\n",
       "    <tr>\n",
       "      <th>tenure</th>\n",
       "      <td>10000.0</td>\n",
       "      <td>5.012800e+00</td>\n",
       "      <td>2.892174</td>\n",
       "      <td>0.00</td>\n",
       "      <td>3.00</td>\n",
       "      <td>5.000000e+00</td>\n",
       "      <td>7.000000e+00</td>\n",
       "      <td>10.00</td>\n",
       "    </tr>\n",
       "    <tr>\n",
       "      <th>balance</th>\n",
       "      <td>10000.0</td>\n",
       "      <td>7.648589e+04</td>\n",
       "      <td>62397.405202</td>\n",
       "      <td>0.00</td>\n",
       "      <td>0.00</td>\n",
       "      <td>9.719854e+04</td>\n",
       "      <td>1.276442e+05</td>\n",
       "      <td>250898.09</td>\n",
       "    </tr>\n",
       "    <tr>\n",
       "      <th>products_number</th>\n",
       "      <td>10000.0</td>\n",
       "      <td>1.530200e+00</td>\n",
       "      <td>0.581654</td>\n",
       "      <td>1.00</td>\n",
       "      <td>1.00</td>\n",
       "      <td>1.000000e+00</td>\n",
       "      <td>2.000000e+00</td>\n",
       "      <td>4.00</td>\n",
       "    </tr>\n",
       "    <tr>\n",
       "      <th>credit_card</th>\n",
       "      <td>10000.0</td>\n",
       "      <td>7.055000e-01</td>\n",
       "      <td>0.455840</td>\n",
       "      <td>0.00</td>\n",
       "      <td>0.00</td>\n",
       "      <td>1.000000e+00</td>\n",
       "      <td>1.000000e+00</td>\n",
       "      <td>1.00</td>\n",
       "    </tr>\n",
       "    <tr>\n",
       "      <th>active_member</th>\n",
       "      <td>10000.0</td>\n",
       "      <td>5.151000e-01</td>\n",
       "      <td>0.499797</td>\n",
       "      <td>0.00</td>\n",
       "      <td>0.00</td>\n",
       "      <td>1.000000e+00</td>\n",
       "      <td>1.000000e+00</td>\n",
       "      <td>1.00</td>\n",
       "    </tr>\n",
       "    <tr>\n",
       "      <th>estimated_salary</th>\n",
       "      <td>10000.0</td>\n",
       "      <td>1.000902e+05</td>\n",
       "      <td>57510.492818</td>\n",
       "      <td>11.58</td>\n",
       "      <td>51002.11</td>\n",
       "      <td>1.001939e+05</td>\n",
       "      <td>1.493882e+05</td>\n",
       "      <td>199992.48</td>\n",
       "    </tr>\n",
       "    <tr>\n",
       "      <th>churn</th>\n",
       "      <td>10000.0</td>\n",
       "      <td>2.037000e-01</td>\n",
       "      <td>0.402769</td>\n",
       "      <td>0.00</td>\n",
       "      <td>0.00</td>\n",
       "      <td>0.000000e+00</td>\n",
       "      <td>0.000000e+00</td>\n",
       "      <td>1.00</td>\n",
       "    </tr>\n",
       "  </tbody>\n",
       "</table>\n",
       "</div>"
      ],
      "text/plain": [
       "                    count          mean           std          min  \\\n",
       "customer_id       10000.0  1.569094e+07  71936.186123  15565701.00   \n",
       "credit_score      10000.0  6.505288e+02     96.653299       350.00   \n",
       "age               10000.0  3.892180e+01     10.487806        18.00   \n",
       "tenure            10000.0  5.012800e+00      2.892174         0.00   \n",
       "balance           10000.0  7.648589e+04  62397.405202         0.00   \n",
       "products_number   10000.0  1.530200e+00      0.581654         1.00   \n",
       "credit_card       10000.0  7.055000e-01      0.455840         0.00   \n",
       "active_member     10000.0  5.151000e-01      0.499797         0.00   \n",
       "estimated_salary  10000.0  1.000902e+05  57510.492818        11.58   \n",
       "churn             10000.0  2.037000e-01      0.402769         0.00   \n",
       "\n",
       "                          25%           50%           75%          max  \n",
       "customer_id       15628528.25  1.569074e+07  1.575323e+07  15815690.00  \n",
       "credit_score           584.00  6.520000e+02  7.180000e+02       850.00  \n",
       "age                     32.00  3.700000e+01  4.400000e+01        92.00  \n",
       "tenure                   3.00  5.000000e+00  7.000000e+00        10.00  \n",
       "balance                  0.00  9.719854e+04  1.276442e+05    250898.09  \n",
       "products_number          1.00  1.000000e+00  2.000000e+00         4.00  \n",
       "credit_card              0.00  1.000000e+00  1.000000e+00         1.00  \n",
       "active_member            0.00  1.000000e+00  1.000000e+00         1.00  \n",
       "estimated_salary     51002.11  1.001939e+05  1.493882e+05    199992.48  \n",
       "churn                    0.00  0.000000e+00  0.000000e+00         1.00  "
      ]
     },
     "execution_count": 150,
     "metadata": {},
     "output_type": "execute_result"
    }
   ],
   "source": [
    "bank.describe().T"
   ]
  },
  {
   "cell_type": "markdown",
   "id": "6323868b",
   "metadata": {},
   "source": [
    "For binary variables, incl target:\n",
    "\n",
    "Churn: ~20.4% positive records CC: ~70.5% positive active member: ~51.5% positive\n",
    "\n",
    "For numerical:\n",
    "\n",
    "cc: seems about symmetrical (median ~= mean); ranges from 350 - 850\n",
    "\n",
    "age: 18 - 92; slightly skewed right, with mean of 38.9 and median of 37.\n",
    "\n",
    "tenure: seems symmetrical; anywhere from 0 years to 10 years.\n",
    "\n",
    "balance: ranges from  0𝑡𝑜 250k. The median > mean (~97k vs 76k), so it is skewed left\n",
    "\n",
    "estimated salary: mean / median both around 100k. ranges from 57.5k to ~200k."
   ]
  },
  {
   "cell_type": "code",
   "execution_count": 151,
   "id": "932cac84",
   "metadata": {},
   "outputs": [
    {
     "data": {
      "text/plain": [
       "customer_id         0\n",
       "credit_score        0\n",
       "country             0\n",
       "gender              0\n",
       "age                 0\n",
       "tenure              0\n",
       "balance             0\n",
       "products_number     0\n",
       "credit_card         0\n",
       "active_member       0\n",
       "estimated_salary    0\n",
       "churn               0\n",
       "dtype: int64"
      ]
     },
     "execution_count": 151,
     "metadata": {},
     "output_type": "execute_result"
    }
   ],
   "source": [
    "# checking for missing values\n",
    "bank.isnull().sum()"
   ]
  },
  {
   "cell_type": "markdown",
   "id": "6ff64c96",
   "metadata": {},
   "source": [
    "There is no missing values in the dataset"
   ]
  },
  {
   "cell_type": "code",
   "execution_count": 152,
   "id": "d46f23a0",
   "metadata": {},
   "outputs": [
    {
     "name": "stdout",
     "output_type": "stream",
     "text": [
      "The number of duplicated values are : 0\n"
     ]
    }
   ],
   "source": [
    "# checking for duplicated values\n",
    "duplicate_values = bank.duplicated().sum()\n",
    "print(f'The number of duplicated values are : {duplicate_values}')"
   ]
  },
  {
   "cell_type": "code",
   "execution_count": 153,
   "id": "b534ca0d",
   "metadata": {},
   "outputs": [
    {
     "data": {
      "text/plain": [
       "customer_id         10000\n",
       "credit_score          460\n",
       "country                 3\n",
       "gender                  2\n",
       "age                    70\n",
       "tenure                 11\n",
       "balance              6382\n",
       "products_number         4\n",
       "credit_card             2\n",
       "active_member           2\n",
       "estimated_salary     9999\n",
       "churn                   2\n",
       "dtype: int64"
      ]
     },
     "execution_count": 153,
     "metadata": {},
     "output_type": "execute_result"
    }
   ],
   "source": [
    "# check number of unique values for each column\n",
    "bank.nunique()"
   ]
  },
  {
   "cell_type": "markdown",
   "id": "2c146029",
   "metadata": {},
   "source": [
    "There are only 3 different countries and 4 different products. These two we can make into dummy variables. CC and active member are indeed binary. "
   ]
  },
  {
   "cell_type": "markdown",
   "id": "007d069a",
   "metadata": {},
   "source": [
    "### Visualization"
   ]
  },
  {
   "cell_type": "code",
   "execution_count": 154,
   "id": "4ebde2ac",
   "metadata": {},
   "outputs": [
    {
     "data": {
      "text/plain": [
       "<AxesSubplot:>"
      ]
     },
     "execution_count": 154,
     "metadata": {},
     "output_type": "execute_result"
    },
    {
     "data": {
      "image/png": "[encoded data removed]",
      "text/plain": [
       "<Figure size 432x288 with 1 Axes>"
      ]
     },
     "metadata": {
      "needs_background": "light"
     },
     "output_type": "display_data"
    }
   ],
   "source": [
    "bank[\"churn\"].value_counts().plot(kind=\"bar\")"
   ]
  },
  {
   "cell_type": "code",
   "execution_count": 163,
   "id": "02458896",
   "metadata": {},
   "outputs": [
    {
     "data": {
      "text/plain": [
       "1    5084\n",
       "2    4590\n",
       "3     266\n",
       "4      60\n",
       "Name: products_number, dtype: int64"
      ]
     },
     "execution_count": 163,
     "metadata": {},
     "output_type": "execute_result"
    }
   ],
   "source": [
    "bank[\"products_number\"].value_counts()"
   ]
  },
  {
   "cell_type": "code",
   "execution_count": 155,
   "id": "73c96219",
   "metadata": {},
   "outputs": [],
   "source": [
    "# The target variable is not balance"
   ]
  },
  {
   "cell_type": "markdown",
   "id": "9452da5c",
   "metadata": {},
   "source": [
    "## Data Cleaning"
   ]
  },
  {
   "cell_type": "markdown",
   "id": "efcb14ac",
   "metadata": {},
   "source": [
    "There is not missing values and duplicated values in the dataset. Now we can drop unnecessary columns. \"Customer-ID\"s are assigned at random and are not based on anything. Therefore, we can remove this column"
   ]
  },
  {
   "cell_type": "code",
   "execution_count": 156,
   "id": "ac435b5d",
   "metadata": {},
   "outputs": [
    {
     "data": {
      "text/html": [
       "<div>\n",
       "<style scoped>\n",
       "    .dataframe tbody tr th:only-of-type {\n",
       "        vertical-align: middle;\n",
       "    }\n",
       "\n",
       "    .dataframe tbody tr th {\n",
       "        vertical-align: top;\n",
       "    }\n",
       "\n",
       "    .dataframe thead th {\n",
       "        text-align: right;\n",
       "    }\n",
       "</style>\n",
       "<table border=\"1\" class=\"dataframe\">\n",
       "  <thead>\n",
       "    <tr style=\"text-align: right;\">\n",
       "      <th></th>\n",
       "      <th>credit_score</th>\n",
       "      <th>age</th>\n",
       "      <th>tenure</th>\n",
       "      <th>balance</th>\n",
       "      <th>products_number</th>\n",
       "      <th>credit_card</th>\n",
       "      <th>active_member</th>\n",
       "      <th>estimated_salary</th>\n",
       "      <th>churn</th>\n",
       "      <th>country_Germany</th>\n",
       "      <th>country_Spain</th>\n",
       "      <th>gender_Male</th>\n",
       "    </tr>\n",
       "  </thead>\n",
       "  <tbody>\n",
       "    <tr>\n",
       "      <th>0</th>\n",
       "      <td>619</td>\n",
       "      <td>42</td>\n",
       "      <td>2</td>\n",
       "      <td>0.00</td>\n",
       "      <td>1</td>\n",
       "      <td>1</td>\n",
       "      <td>1</td>\n",
       "      <td>101348.88</td>\n",
       "      <td>1</td>\n",
       "      <td>0</td>\n",
       "      <td>0</td>\n",
       "      <td>0</td>\n",
       "    </tr>\n",
       "    <tr>\n",
       "      <th>1</th>\n",
       "      <td>608</td>\n",
       "      <td>41</td>\n",
       "      <td>1</td>\n",
       "      <td>83807.86</td>\n",
       "      <td>1</td>\n",
       "      <td>0</td>\n",
       "      <td>1</td>\n",
       "      <td>112542.58</td>\n",
       "      <td>0</td>\n",
       "      <td>0</td>\n",
       "      <td>1</td>\n",
       "      <td>0</td>\n",
       "    </tr>\n",
       "    <tr>\n",
       "      <th>2</th>\n",
       "      <td>502</td>\n",
       "      <td>42</td>\n",
       "      <td>8</td>\n",
       "      <td>159660.80</td>\n",
       "      <td>3</td>\n",
       "      <td>1</td>\n",
       "      <td>0</td>\n",
       "      <td>113931.57</td>\n",
       "      <td>1</td>\n",
       "      <td>0</td>\n",
       "      <td>0</td>\n",
       "      <td>0</td>\n",
       "    </tr>\n",
       "    <tr>\n",
       "      <th>3</th>\n",
       "      <td>699</td>\n",
       "      <td>39</td>\n",
       "      <td>1</td>\n",
       "      <td>0.00</td>\n",
       "      <td>2</td>\n",
       "      <td>0</td>\n",
       "      <td>0</td>\n",
       "      <td>93826.63</td>\n",
       "      <td>0</td>\n",
       "      <td>0</td>\n",
       "      <td>0</td>\n",
       "      <td>0</td>\n",
       "    </tr>\n",
       "    <tr>\n",
       "      <th>4</th>\n",
       "      <td>850</td>\n",
       "      <td>43</td>\n",
       "      <td>2</td>\n",
       "      <td>125510.82</td>\n",
       "      <td>1</td>\n",
       "      <td>1</td>\n",
       "      <td>1</td>\n",
       "      <td>79084.10</td>\n",
       "      <td>0</td>\n",
       "      <td>0</td>\n",
       "      <td>1</td>\n",
       "      <td>0</td>\n",
       "    </tr>\n",
       "  </tbody>\n",
       "</table>\n",
       "</div>"
      ],
      "text/plain": [
       "   credit_score  age  tenure    balance  products_number  credit_card  \\\n",
       "0           619   42       2       0.00                1            1   \n",
       "1           608   41       1   83807.86                1            0   \n",
       "2           502   42       8  159660.80                3            1   \n",
       "3           699   39       1       0.00                2            0   \n",
       "4           850   43       2  125510.82                1            1   \n",
       "\n",
       "   active_member  estimated_salary  churn  country_Germany  country_Spain  \\\n",
       "0              1         101348.88      1                0              0   \n",
       "1              1         112542.58      0                0              1   \n",
       "2              0         113931.57      1                0              0   \n",
       "3              0          93826.63      0                0              0   \n",
       "4              1          79084.10      0                0              1   \n",
       "\n",
       "   gender_Male  \n",
       "0            0  \n",
       "1            0  \n",
       "2            0  \n",
       "3            0  \n",
       "4            0  "
      ]
     },
     "execution_count": 156,
     "metadata": {},
     "output_type": "execute_result"
    }
   ],
   "source": [
    "bank_country = pd.get_dummies(bank['country'], prefix = 'country', drop_first = True)\n",
    "bank_gender= pd.get_dummies(bank['gender'], prefix = 'gender', drop_first = True)\n",
    "\n",
    "churn_df = bank.drop(['country', 'gender', 'customer_id'], axis = 1)\n",
    "\n",
    "churn_df = pd.concat([churn_df, bank_country, bank_gender], axis = 1)\n",
    "\n",
    "churn_df.head()"
   ]
  },
  {
   "cell_type": "code",
   "execution_count": 158,
   "id": "649a17d3",
   "metadata": {},
   "outputs": [
    {
     "data": {
      "text/plain": [
       "credit_score          int64\n",
       "age                   int64\n",
       "tenure                int64\n",
       "balance             float64\n",
       "products_number       int64\n",
       "credit_card           int64\n",
       "active_member         int64\n",
       "estimated_salary    float64\n",
       "churn                 int64\n",
       "country_Germany       int64\n",
       "country_Spain         int64\n",
       "gender_Male           int64\n",
       "dtype: object"
      ]
     },
     "execution_count": 158,
     "metadata": {},
     "output_type": "execute_result"
    }
   ],
   "source": [
    "# change the data type of the dummy variables (uint8 --> int64)\n",
    "def data_type_change(df,cols):\n",
    "    df[cols]=df[cols].astype(int)\n",
    "    return df\n",
    "\n",
    "churn_df = data_type_change(churn_df,[\"country_Germany\",\"country_Spain\",\n",
    "                                      \"gender_Male\"])\n",
    "\n",
    "churn_df.dtypes"
   ]
  },
  {
   "cell_type": "markdown",
   "id": "c93dd962",
   "metadata": {},
   "source": [
    "### Checking outliers"
   ]
  },
  {
   "cell_type": "code",
   "execution_count": 159,
   "id": "73a32168",
   "metadata": {},
   "outputs": [
    {
     "name": "stderr",
     "output_type": "stream",
     "text": [
      "/Users/ruddysimonpour/opt/anaconda3/envs/pythonenv/lib/python3.10/site-packages/seaborn/_decorators.py:36: FutureWarning: Pass the following variable as a keyword arg: x. From version 0.12, the only valid positional argument will be `data`, and passing other arguments without an explicit keyword will result in an error or misinterpretation.\n",
      "  warnings.warn(\n"
     ]
    },
    {
     "data": {
      "image/png": "[encoded data removed]",
      "text/plain": [
       "<Figure size 1440x1440 with 1 Axes>"
      ]
     },
     "metadata": {
      "needs_background": "light"
     },
     "output_type": "display_data"
    },
    {
     "name": "stderr",
     "output_type": "stream",
     "text": [
      "/Users/ruddysimonpour/opt/anaconda3/envs/pythonenv/lib/python3.10/site-packages/seaborn/_decorators.py:36: FutureWarning: Pass the following variable as a keyword arg: x. From version 0.12, the only valid positional argument will be `data`, and passing other arguments without an explicit keyword will result in an error or misinterpretation.\n",
      "  warnings.warn(\n"
     ]
    },
    {
     "data": {
      "image/png": "[encoded data removed]",
      "text/plain": [
       "<Figure size 1440x1440 with 1 Axes>"
      ]
     },
     "metadata": {
      "needs_background": "light"
     },
     "output_type": "display_data"
    },
    {
     "name": "stderr",
     "output_type": "stream",
     "text": [
      "/Users/ruddysimonpour/opt/anaconda3/envs/pythonenv/lib/python3.10/site-packages/seaborn/_decorators.py:36: FutureWarning: Pass the following variable as a keyword arg: x. From version 0.12, the only valid positional argument will be `data`, and passing other arguments without an explicit keyword will result in an error or misinterpretation.\n",
      "  warnings.warn(\n"
     ]
    },
    {
     "data": {
      "image/png": "[encoded data removed]",
      "text/plain": [
       "<Figure size 1440x1440 with 1 Axes>"
      ]
     },
     "metadata": {
      "needs_background": "light"
     },
     "output_type": "display_data"
    },
    {
     "name": "stderr",
     "output_type": "stream",
     "text": [
      "/Users/ruddysimonpour/opt/anaconda3/envs/pythonenv/lib/python3.10/site-packages/seaborn/_decorators.py:36: FutureWarning: Pass the following variable as a keyword arg: x. From version 0.12, the only valid positional argument will be `data`, and passing other arguments without an explicit keyword will result in an error or misinterpretation.\n",
      "  warnings.warn(\n"
     ]
    },
    {
     "data": {
      "image/png": "[encoded data removed]",
      "text/plain": [
       "<Figure size 1440x1440 with 1 Axes>"
      ]
     },
     "metadata": {
      "needs_background": "light"
     },
     "output_type": "display_data"
    },
    {
     "name": "stderr",
     "output_type": "stream",
     "text": [
      "/Users/ruddysimonpour/opt/anaconda3/envs/pythonenv/lib/python3.10/site-packages/seaborn/_decorators.py:36: FutureWarning: Pass the following variable as a keyword arg: x. From version 0.12, the only valid positional argument will be `data`, and passing other arguments without an explicit keyword will result in an error or misinterpretation.\n",
      "  warnings.warn(\n"
     ]
    },
    {
     "data": {
      "image/png": "[encoded data removed]",
      "text/plain": [
       "<Figure size 1440x1440 with 1 Axes>"
      ]
     },
     "metadata": {
      "needs_background": "light"
     },
     "output_type": "display_data"
    }
   ],
   "source": [
    "col=bank[['credit_score','age','tenure','balance','estimated_salary']] \n",
    "for i in col:\n",
    "  n=1\n",
    "  plt.figure(figsize=(20,20))\n",
    "  plt.subplot(4,3,1)\n",
    "  sns.boxplot(bank[i])\n",
    "  plt.title(i)\n",
    "  plt.show()\n",
    "  n=n+1"
   ]
  },
  {
   "cell_type": "markdown",
   "id": "38884d37",
   "metadata": {},
   "source": [
    "It seems outliers represent their natural variations in the population, no need to remove them from the dataset."
   ]
  },
  {
   "cell_type": "code",
   "execution_count": 160,
   "id": "b51d8613",
   "metadata": {},
   "outputs": [
    {
     "data": {
      "text/plain": [
       "<AxesSubplot:>"
      ]
     },
     "execution_count": 160,
     "metadata": {},
     "output_type": "execute_result"
    },
    {
     "data": {
      "image/png": "[encoded data removed]",
      "text/plain": [
       "<Figure size 1152x432 with 2 Axes>"
      ]
     },
     "metadata": {
      "needs_background": "light"
     },
     "output_type": "display_data"
    }
   ],
   "source": [
    "# Correlation matrix\n",
    "plt.figure(figsize=(16, 6))\n",
    "sns.heatmap(round(churn_df.corr(),2), annot = True)"
   ]
  },
  {
   "cell_type": "markdown",
   "id": "4d1ef9a2",
   "metadata": {},
   "source": [
    "highest correlations with churn: age (+.29), product 2 (-.29), product 3 (+.26), country_germany (+.17)\n",
    "\n",
    "Multi collinearities?\n",
    "\n",
    "Age -- no, next highest correlation is .09 with active member.\n",
    "\n",
    "prod_2 -- yes, -.36 with balance; -.15 with prod_3\n",
    "\n",
    "prod_3 -- not really, except -.15 with prod_2\n",
    "\n",
    "country_Germany -- .4 with balance; -.33 with country_Spain"
   ]
  },
  {
   "cell_type": "code",
   "execution_count": 161,
   "id": "266dc70b",
   "metadata": {},
   "outputs": [
    {
     "data": {
      "text/html": [
       "<div>\n",
       "<style scoped>\n",
       "    .dataframe tbody tr th:only-of-type {\n",
       "        vertical-align: middle;\n",
       "    }\n",
       "\n",
       "    .dataframe tbody tr th {\n",
       "        vertical-align: top;\n",
       "    }\n",
       "\n",
       "    .dataframe thead th {\n",
       "        text-align: right;\n",
       "    }\n",
       "</style>\n",
       "<table border=\"1\" class=\"dataframe\">\n",
       "  <thead>\n",
       "    <tr style=\"text-align: right;\">\n",
       "      <th></th>\n",
       "      <th>credit_score</th>\n",
       "      <th>age</th>\n",
       "      <th>tenure</th>\n",
       "      <th>balance</th>\n",
       "      <th>estimated_salary</th>\n",
       "    </tr>\n",
       "  </thead>\n",
       "  <tbody>\n",
       "    <tr>\n",
       "      <th>0</th>\n",
       "      <td>-0.326221</td>\n",
       "      <td>0.293517</td>\n",
       "      <td>-1.041760</td>\n",
       "      <td>-1.225848</td>\n",
       "      <td>0.021886</td>\n",
       "    </tr>\n",
       "    <tr>\n",
       "      <th>1</th>\n",
       "      <td>-0.440036</td>\n",
       "      <td>0.198164</td>\n",
       "      <td>-1.387538</td>\n",
       "      <td>0.117350</td>\n",
       "      <td>0.216534</td>\n",
       "    </tr>\n",
       "    <tr>\n",
       "      <th>2</th>\n",
       "      <td>-1.536794</td>\n",
       "      <td>0.293517</td>\n",
       "      <td>1.032908</td>\n",
       "      <td>1.333053</td>\n",
       "      <td>0.240687</td>\n",
       "    </tr>\n",
       "    <tr>\n",
       "      <th>3</th>\n",
       "      <td>0.501521</td>\n",
       "      <td>0.007457</td>\n",
       "      <td>-1.387538</td>\n",
       "      <td>-1.225848</td>\n",
       "      <td>-0.108918</td>\n",
       "    </tr>\n",
       "    <tr>\n",
       "      <th>4</th>\n",
       "      <td>2.063884</td>\n",
       "      <td>0.388871</td>\n",
       "      <td>-1.041760</td>\n",
       "      <td>0.785728</td>\n",
       "      <td>-0.365276</td>\n",
       "    </tr>\n",
       "  </tbody>\n",
       "</table>\n",
       "</div>"
      ],
      "text/plain": [
       "   credit_score       age    tenure   balance  estimated_salary\n",
       "0     -0.326221  0.293517 -1.041760 -1.225848          0.021886\n",
       "1     -0.440036  0.198164 -1.387538  0.117350          0.216534\n",
       "2     -1.536794  0.293517  1.032908  1.333053          0.240687\n",
       "3      0.501521  0.007457 -1.387538 -1.225848         -0.108918\n",
       "4      2.063884  0.388871 -1.041760  0.785728         -0.365276"
      ]
     },
     "execution_count": 161,
     "metadata": {},
     "output_type": "execute_result"
    }
   ],
   "source": [
    "# for scaling any numerical \n",
    "\n",
    "churn_numerical = churn_df[['credit_score','age', 'tenure','balance', 'estimated_salary']]\n",
    "\n",
    "\n",
    "from sklearn.preprocessing import StandardScaler\n",
    "\n",
    "scaler = StandardScaler()\n",
    "\n",
    "scaler.fit(churn_numerical)\n",
    "\n",
    "churn_numerical_scaled = scaler.transform(churn_numerical)\n",
    "\n",
    "churn_numerical_scaled = pd.DataFrame(churn_numerical_scaled, columns = churn_numerical.columns)\n",
    "\n",
    "churn_numerical_scaled.head()"
   ]
  },
  {
   "cell_type": "code",
   "execution_count": 164,
   "id": "fbcd5271",
   "metadata": {},
   "outputs": [
    {
     "data": {
      "text/html": [
       "<div>\n",
       "<style scoped>\n",
       "    .dataframe tbody tr th:only-of-type {\n",
       "        vertical-align: middle;\n",
       "    }\n",
       "\n",
       "    .dataframe tbody tr th {\n",
       "        vertical-align: top;\n",
       "    }\n",
       "\n",
       "    .dataframe thead th {\n",
       "        text-align: right;\n",
       "    }\n",
       "</style>\n",
       "<table border=\"1\" class=\"dataframe\">\n",
       "  <thead>\n",
       "    <tr style=\"text-align: right;\">\n",
       "      <th></th>\n",
       "      <th>products_number</th>\n",
       "      <th>credit_card</th>\n",
       "      <th>active_member</th>\n",
       "      <th>churn</th>\n",
       "      <th>country_Germany</th>\n",
       "      <th>country_Spain</th>\n",
       "      <th>gender_Male</th>\n",
       "      <th>credit_score</th>\n",
       "      <th>age</th>\n",
       "      <th>tenure</th>\n",
       "      <th>balance</th>\n",
       "      <th>estimated_salary</th>\n",
       "    </tr>\n",
       "  </thead>\n",
       "  <tbody>\n",
       "    <tr>\n",
       "      <th>0</th>\n",
       "      <td>1</td>\n",
       "      <td>1</td>\n",
       "      <td>1</td>\n",
       "      <td>1</td>\n",
       "      <td>0</td>\n",
       "      <td>0</td>\n",
       "      <td>0</td>\n",
       "      <td>-0.326221</td>\n",
       "      <td>0.293517</td>\n",
       "      <td>-1.041760</td>\n",
       "      <td>-1.225848</td>\n",
       "      <td>0.021886</td>\n",
       "    </tr>\n",
       "    <tr>\n",
       "      <th>1</th>\n",
       "      <td>1</td>\n",
       "      <td>0</td>\n",
       "      <td>1</td>\n",
       "      <td>0</td>\n",
       "      <td>0</td>\n",
       "      <td>1</td>\n",
       "      <td>0</td>\n",
       "      <td>-0.440036</td>\n",
       "      <td>0.198164</td>\n",
       "      <td>-1.387538</td>\n",
       "      <td>0.117350</td>\n",
       "      <td>0.216534</td>\n",
       "    </tr>\n",
       "    <tr>\n",
       "      <th>2</th>\n",
       "      <td>3</td>\n",
       "      <td>1</td>\n",
       "      <td>0</td>\n",
       "      <td>1</td>\n",
       "      <td>0</td>\n",
       "      <td>0</td>\n",
       "      <td>0</td>\n",
       "      <td>-1.536794</td>\n",
       "      <td>0.293517</td>\n",
       "      <td>1.032908</td>\n",
       "      <td>1.333053</td>\n",
       "      <td>0.240687</td>\n",
       "    </tr>\n",
       "    <tr>\n",
       "      <th>3</th>\n",
       "      <td>2</td>\n",
       "      <td>0</td>\n",
       "      <td>0</td>\n",
       "      <td>0</td>\n",
       "      <td>0</td>\n",
       "      <td>0</td>\n",
       "      <td>0</td>\n",
       "      <td>0.501521</td>\n",
       "      <td>0.007457</td>\n",
       "      <td>-1.387538</td>\n",
       "      <td>-1.225848</td>\n",
       "      <td>-0.108918</td>\n",
       "    </tr>\n",
       "    <tr>\n",
       "      <th>4</th>\n",
       "      <td>1</td>\n",
       "      <td>1</td>\n",
       "      <td>1</td>\n",
       "      <td>0</td>\n",
       "      <td>0</td>\n",
       "      <td>1</td>\n",
       "      <td>0</td>\n",
       "      <td>2.063884</td>\n",
       "      <td>0.388871</td>\n",
       "      <td>-1.041760</td>\n",
       "      <td>0.785728</td>\n",
       "      <td>-0.365276</td>\n",
       "    </tr>\n",
       "  </tbody>\n",
       "</table>\n",
       "</div>"
      ],
      "text/plain": [
       "   products_number  credit_card  active_member  churn  country_Germany  \\\n",
       "0                1            1              1      1                0   \n",
       "1                1            0              1      0                0   \n",
       "2                3            1              0      1                0   \n",
       "3                2            0              0      0                0   \n",
       "4                1            1              1      0                0   \n",
       "\n",
       "   country_Spain  gender_Male  credit_score       age    tenure   balance  \\\n",
       "0              0            0     -0.326221  0.293517 -1.041760 -1.225848   \n",
       "1              1            0     -0.440036  0.198164 -1.387538  0.117350   \n",
       "2              0            0     -1.536794  0.293517  1.032908  1.333053   \n",
       "3              0            0      0.501521  0.007457 -1.387538 -1.225848   \n",
       "4              1            0      2.063884  0.388871 -1.041760  0.785728   \n",
       "\n",
       "   estimated_salary  \n",
       "0          0.021886  \n",
       "1          0.216534  \n",
       "2          0.240687  \n",
       "3         -0.108918  \n",
       "4         -0.365276  "
      ]
     },
     "execution_count": 164,
     "metadata": {},
     "output_type": "execute_result"
    }
   ],
   "source": [
    "# We can add these back into the\n",
    "\n",
    "churn_df_scaled = churn_df.drop(churn_numerical, axis =1)\n",
    "\n",
    "churn_df_scaled = pd.concat([churn_df_scaled, churn_numerical_scaled], axis = 1)\n",
    "\n",
    "churn_df_scaled.head(5)"
   ]
  },
  {
   "cell_type": "markdown",
   "id": "1947df95",
   "metadata": {},
   "source": [
    "## Building Model"
   ]
  },
  {
   "cell_type": "markdown",
   "id": "d7979211",
   "metadata": {},
   "source": [
    "#### Imbalance dataset"
   ]
  },
  {
   "cell_type": "code",
   "execution_count": 165,
   "id": "a7832a68",
   "metadata": {},
   "outputs": [
    {
     "name": "stdout",
     "output_type": "stream",
     "text": [
      "percentage of no churn 79.63\n",
      "percentage of churn 20.369999999999997\n"
     ]
    }
   ],
   "source": [
    "count_churn = len(churn_df[churn_df['churn']==1])\n",
    "count_no_churn = len(churn_df[churn_df['churn']==0])\n",
    "\n",
    "pct_of_no_churn = count_no_churn/(count_no_churn+count_churn)\n",
    "print(\"percentage of no churn\", pct_of_no_churn*100)\n",
    "\n",
    "pct_of_churn = count_churn/(count_no_churn+count_churn)\n",
    "print(\"percentage of churn\", pct_of_churn*100)"
   ]
  },
  {
   "cell_type": "code",
   "execution_count": 166,
   "id": "3a762ef5",
   "metadata": {},
   "outputs": [],
   "source": [
    "class_count0, class_count1 = churn_df.churn.value_counts()\n",
    "\n",
    "\n",
    "class0_df = churn_df[churn_df[\"churn\"]==0]\n",
    "class1_df = churn_df[churn_df[\"churn\"]==1]"
   ]
  },
  {
   "cell_type": "markdown",
   "id": "9bf7a33f",
   "metadata": {},
   "source": [
    "#### Method1: Under-Sampling"
   ]
  },
  {
   "cell_type": "code",
   "execution_count": 167,
   "id": "1fbccc4b",
   "metadata": {},
   "outputs": [],
   "source": [
    "# df_class0_under = class0_df.sample(class_count1)\n",
    "\n",
    "# df_test_under = pd.concat([df_class0_under, class1_df], axis = 0)\n",
    "\n",
    "# print(f'Random Under Sampling')\n",
    "# print(df_test_under.churn.value_counts())"
   ]
  },
  {
   "cell_type": "markdown",
   "id": "ed923f79",
   "metadata": {},
   "source": [
    "#### Method2: Over-Sampling"
   ]
  },
  {
   "cell_type": "code",
   "execution_count": 168,
   "id": "4b8f865e",
   "metadata": {},
   "outputs": [],
   "source": [
    "# df_class1_under = class1_df.sample(class_count0, replace=True)\n",
    "\n",
    "# df_test_over = pd.concat([df_class1_under, class0_df],axis=0)\n",
    "# print(f'Random Over Sampling')\n",
    "# print(df_test_over.churn.value_counts())"
   ]
  },
  {
   "cell_type": "code",
   "execution_count": 169,
   "id": "46f5288b",
   "metadata": {},
   "outputs": [],
   "source": [
    "# splitting into X and Y\n",
    "\n",
    "X = churn_df.drop('churn', axis = 1)\n",
    "y = churn_df['churn']"
   ]
  },
  {
   "cell_type": "markdown",
   "id": "c62e2789",
   "metadata": {},
   "source": [
    "#### Method3: SMOTE\n",
    "!pip install imbalanced-learn"
   ]
  },
  {
   "cell_type": "code",
   "execution_count": 170,
   "id": "d57031c5",
   "metadata": {},
   "outputs": [],
   "source": [
    "from imblearn.over_sampling import SMOTE"
   ]
  },
  {
   "cell_type": "code",
   "execution_count": 171,
   "id": "fd3dec98",
   "metadata": {},
   "outputs": [
    {
     "data": {
      "text/plain": [
       "1    7963\n",
       "0    7963\n",
       "Name: churn, dtype: int64"
      ]
     },
     "execution_count": 171,
     "metadata": {},
     "output_type": "execute_result"
    }
   ],
   "source": [
    "smote = SMOTE(sampling_strategy='minority',random_state=0)\n",
    "X_smt, y_smt = smote.fit_resample(X,y)\n",
    "\n",
    "y_smt.value_counts()"
   ]
  },
  {
   "cell_type": "code",
   "execution_count": 172,
   "id": "077ba00a",
   "metadata": {},
   "outputs": [],
   "source": [
    "# partitioning data into 90% train and 10% test, and then will further split for validation\n",
    "\n",
    "trainX, testX, trainy, testy = train_test_split(X_smt, y_smt, test_size = .1, random_state = 12345)\n",
    "\n",
    "# using 80 / 20 split for train and validation set\n",
    "\n",
    "trainX, validX, trainy, validy = train_test_split(trainX, trainy, test_size = .2, random_state = 12345)"
   ]
  },
  {
   "cell_type": "code",
   "execution_count": 173,
   "id": "ded71d67",
   "metadata": {},
   "outputs": [
    {
     "name": "stdout",
     "output_type": "stream",
     "text": [
      "Test set dimensions:  (1593, 11) \n",
      " Train set dimensions:  (11466, 11) \n",
      " Validation set dimension:  (2867, 11)\n"
     ]
    }
   ],
   "source": [
    "print(\"Test set dimensions: \", testX.shape, \n",
    "      \"\\n Train set dimensions: \", trainX.shape,\n",
    "      \"\\n Validation set dimension: \", validX.shape)"
   ]
  },
  {
   "cell_type": "markdown",
   "id": "0ac9f955",
   "metadata": {},
   "source": [
    "### K-NN"
   ]
  },
  {
   "cell_type": "code",
   "execution_count": 174,
   "id": "e51afca4",
   "metadata": {},
   "outputs": [
    {
     "data": {
      "text/html": [
       "<div>\n",
       "<style scoped>\n",
       "    .dataframe tbody tr th:only-of-type {\n",
       "        vertical-align: middle;\n",
       "    }\n",
       "\n",
       "    .dataframe tbody tr th {\n",
       "        vertical-align: top;\n",
       "    }\n",
       "\n",
       "    .dataframe thead th {\n",
       "        text-align: right;\n",
       "    }\n",
       "</style>\n",
       "<table border=\"1\" class=\"dataframe\">\n",
       "  <thead>\n",
       "    <tr style=\"text-align: right;\">\n",
       "      <th></th>\n",
       "      <th>k</th>\n",
       "      <th>accuracy</th>\n",
       "      <th>precision</th>\n",
       "      <th>f1_score</th>\n",
       "    </tr>\n",
       "  </thead>\n",
       "  <tbody>\n",
       "    <tr>\n",
       "      <th>0</th>\n",
       "      <td>1</td>\n",
       "      <td>0.696896</td>\n",
       "      <td>0.673149</td>\n",
       "      <td>0.711774</td>\n",
       "    </tr>\n",
       "    <tr>\n",
       "      <th>1</th>\n",
       "      <td>3</td>\n",
       "      <td>0.675270</td>\n",
       "      <td>0.649027</td>\n",
       "      <td>0.696248</td>\n",
       "    </tr>\n",
       "    <tr>\n",
       "      <th>2</th>\n",
       "      <td>5</td>\n",
       "      <td>0.657830</td>\n",
       "      <td>0.632053</td>\n",
       "      <td>0.682216</td>\n",
       "    </tr>\n",
       "    <tr>\n",
       "      <th>3</th>\n",
       "      <td>7</td>\n",
       "      <td>0.650157</td>\n",
       "      <td>0.627284</td>\n",
       "      <td>0.672543</td>\n",
       "    </tr>\n",
       "    <tr>\n",
       "      <th>4</th>\n",
       "      <td>9</td>\n",
       "      <td>0.644227</td>\n",
       "      <td>0.620276</td>\n",
       "      <td>0.669689</td>\n",
       "    </tr>\n",
       "    <tr>\n",
       "      <th>5</th>\n",
       "      <td>11</td>\n",
       "      <td>0.637251</td>\n",
       "      <td>0.614690</td>\n",
       "      <td>0.662557</td>\n",
       "    </tr>\n",
       "    <tr>\n",
       "      <th>6</th>\n",
       "      <td>13</td>\n",
       "      <td>0.630973</td>\n",
       "      <td>0.608748</td>\n",
       "      <td>0.657605</td>\n",
       "    </tr>\n",
       "    <tr>\n",
       "      <th>7</th>\n",
       "      <td>15</td>\n",
       "      <td>0.633066</td>\n",
       "      <td>0.612022</td>\n",
       "      <td>0.657106</td>\n",
       "    </tr>\n",
       "    <tr>\n",
       "      <th>8</th>\n",
       "      <td>17</td>\n",
       "      <td>0.629927</td>\n",
       "      <td>0.608303</td>\n",
       "      <td>0.655855</td>\n",
       "    </tr>\n",
       "    <tr>\n",
       "      <th>9</th>\n",
       "      <td>19</td>\n",
       "      <td>0.623300</td>\n",
       "      <td>0.601913</td>\n",
       "      <td>0.650937</td>\n",
       "    </tr>\n",
       "    <tr>\n",
       "      <th>10</th>\n",
       "      <td>21</td>\n",
       "      <td>0.623648</td>\n",
       "      <td>0.601786</td>\n",
       "      <td>0.652048</td>\n",
       "    </tr>\n",
       "    <tr>\n",
       "      <th>11</th>\n",
       "      <td>23</td>\n",
       "      <td>0.623300</td>\n",
       "      <td>0.600235</td>\n",
       "      <td>0.654068</td>\n",
       "    </tr>\n",
       "  </tbody>\n",
       "</table>\n",
       "</div>"
      ],
      "text/plain": [
       "     k  accuracy  precision  f1_score\n",
       "0    1  0.696896   0.673149  0.711774\n",
       "1    3  0.675270   0.649027  0.696248\n",
       "2    5  0.657830   0.632053  0.682216\n",
       "3    7  0.650157   0.627284  0.672543\n",
       "4    9  0.644227   0.620276  0.669689\n",
       "5   11  0.637251   0.614690  0.662557\n",
       "6   13  0.630973   0.608748  0.657605\n",
       "7   15  0.633066   0.612022  0.657106\n",
       "8   17  0.629927   0.608303  0.655855\n",
       "9   19  0.623300   0.601913  0.650937\n",
       "10  21  0.623648   0.601786  0.652048\n",
       "11  23  0.623300   0.600235  0.654068"
      ]
     },
     "execution_count": 174,
     "metadata": {},
     "output_type": "execute_result"
    }
   ],
   "source": [
    "# Train a classifier for different values of k\n",
    "knn_results = []\n",
    "for k in range(1, 25, 2):\n",
    "    knn = KNeighborsClassifier(n_neighbors=k).fit(trainX, trainy)\n",
    "    knn_results.append({\n",
    "        'k': k,\n",
    "        'accuracy': accuracy_score(validy, knn.predict(validX)),\n",
    "        'precision': precision_score(validy, knn.predict(validX)),\n",
    "        'f1_score': f1_score(validy, knn.predict(validX))\n",
    "    })\n",
    "\n",
    "# Convert results to a pandas data frame\n",
    "knn_results = pd.DataFrame(knn_results)\n",
    "knn_results"
   ]
  },
  {
   "cell_type": "code",
   "execution_count": 175,
   "id": "0888f510",
   "metadata": {},
   "outputs": [
    {
     "data": {
      "text/plain": [
       "Text(0, 0.5, 'Metrics score')"
      ]
     },
     "execution_count": 175,
     "metadata": {},
     "output_type": "execute_result"
    },
    {
     "data": {
      "image/png": "[encoded data removed]",
      "text/plain": [
       "<Figure size 432x288 with 1 Axes>"
      ]
     },
     "metadata": {
      "needs_background": "light"
     },
     "output_type": "display_data"
    }
   ],
   "source": [
    "# Plotting K-nn metrics from validation tests\n",
    "\n",
    "# show accuracy by k\n",
    "plt.plot(knn_results.k, knn_results.accuracy, linestyle='-', c='green', label = \"accuracy\")\n",
    "plt.plot(knn_results.k, knn_results.precision, linestyle=':', c='red', label = \"precision\")\n",
    "plt.plot(knn_results.k, knn_results['f1_score'], linestyle='--', c='blue', label = \"f1 score\")\n",
    "plt.legend()\n",
    "plt.title('K vs. Metrics in validation set')\n",
    "plt.xlabel('K')\n",
    "plt.ylabel('Metrics score')"
   ]
  },
  {
   "cell_type": "code",
   "execution_count": 176,
   "id": "52f66f10",
   "metadata": {},
   "outputs": [
    {
     "data": {
      "text/html": [
       "<div>\n",
       "<style scoped>\n",
       "    .dataframe tbody tr th:only-of-type {\n",
       "        vertical-align: middle;\n",
       "    }\n",
       "\n",
       "    .dataframe tbody tr th {\n",
       "        vertical-align: top;\n",
       "    }\n",
       "\n",
       "    .dataframe thead th {\n",
       "        text-align: right;\n",
       "    }\n",
       "</style>\n",
       "<table border=\"1\" class=\"dataframe\">\n",
       "  <thead>\n",
       "    <tr style=\"text-align: right;\">\n",
       "      <th></th>\n",
       "      <th>actual</th>\n",
       "      <th>probability</th>\n",
       "      <th>predicted</th>\n",
       "    </tr>\n",
       "  </thead>\n",
       "  <tbody>\n",
       "    <tr>\n",
       "      <th>15247</th>\n",
       "      <td>1</td>\n",
       "      <td>0.565217</td>\n",
       "      <td>1</td>\n",
       "    </tr>\n",
       "    <tr>\n",
       "      <th>14974</th>\n",
       "      <td>1</td>\n",
       "      <td>0.608696</td>\n",
       "      <td>1</td>\n",
       "    </tr>\n",
       "    <tr>\n",
       "      <th>2200</th>\n",
       "      <td>0</td>\n",
       "      <td>0.652174</td>\n",
       "      <td>1</td>\n",
       "    </tr>\n",
       "    <tr>\n",
       "      <th>14434</th>\n",
       "      <td>1</td>\n",
       "      <td>0.652174</td>\n",
       "      <td>1</td>\n",
       "    </tr>\n",
       "    <tr>\n",
       "      <th>10707</th>\n",
       "      <td>1</td>\n",
       "      <td>0.782609</td>\n",
       "      <td>1</td>\n",
       "    </tr>\n",
       "    <tr>\n",
       "      <th>...</th>\n",
       "      <td>...</td>\n",
       "      <td>...</td>\n",
       "      <td>...</td>\n",
       "    </tr>\n",
       "    <tr>\n",
       "      <th>1023</th>\n",
       "      <td>0</td>\n",
       "      <td>0.391304</td>\n",
       "      <td>0</td>\n",
       "    </tr>\n",
       "    <tr>\n",
       "      <th>7506</th>\n",
       "      <td>1</td>\n",
       "      <td>0.608696</td>\n",
       "      <td>1</td>\n",
       "    </tr>\n",
       "    <tr>\n",
       "      <th>1415</th>\n",
       "      <td>0</td>\n",
       "      <td>0.347826</td>\n",
       "      <td>0</td>\n",
       "    </tr>\n",
       "    <tr>\n",
       "      <th>3362</th>\n",
       "      <td>0</td>\n",
       "      <td>0.434783</td>\n",
       "      <td>0</td>\n",
       "    </tr>\n",
       "    <tr>\n",
       "      <th>1283</th>\n",
       "      <td>0</td>\n",
       "      <td>0.739130</td>\n",
       "      <td>1</td>\n",
       "    </tr>\n",
       "  </tbody>\n",
       "</table>\n",
       "<p>1593 rows × 3 columns</p>\n",
       "</div>"
      ],
      "text/plain": [
       "       actual  probability  predicted\n",
       "15247       1     0.565217          1\n",
       "14974       1     0.608696          1\n",
       "2200        0     0.652174          1\n",
       "14434       1     0.652174          1\n",
       "10707       1     0.782609          1\n",
       "...       ...          ...        ...\n",
       "1023        0     0.391304          0\n",
       "7506        1     0.608696          1\n",
       "1415        0     0.347826          0\n",
       "3362        0     0.434783          0\n",
       "1283        0     0.739130          1\n",
       "\n",
       "[1593 rows x 3 columns]"
      ]
     },
     "execution_count": 176,
     "metadata": {},
     "output_type": "execute_result"
    }
   ],
   "source": [
    "# Prediction using Test dataset\n",
    "predictions_knn = knn.predict(testX)\n",
    "probabilities_knn = knn.predict_proba(testX)[:,1]\n",
    "\n",
    "knn_result = pd.DataFrame({'actual': testy, \n",
    "                             'probability': probabilities_knn,\n",
    "                             'predicted': predictions_knn})\n",
    "\n",
    "knn_result"
   ]
  },
  {
   "cell_type": "code",
   "execution_count": 177,
   "id": "3dd8dcf5",
   "metadata": {},
   "outputs": [
    {
     "name": "stdout",
     "output_type": "stream",
     "text": [
      "\n",
      " Classification report for K-NN : \n",
      "               precision    recall  f1-score   support\n",
      "\n",
      "           0       0.66      0.56      0.61       765\n",
      "           1       0.64      0.73      0.69       828\n",
      "\n",
      "    accuracy                           0.65      1593\n",
      "   macro avg       0.65      0.65      0.65      1593\n",
      "weighted avg       0.65      0.65      0.65      1593\n",
      "\n",
      "Accuracy Score :  0.650345260514752\n",
      "Area under curve :  0.6932106659088757 \n",
      "\n"
     ]
    },
    {
     "data": {
      "image/png": "[encoded data removed]",
      "text/plain": [
       "<Figure size 864x864 with 3 Axes>"
      ]
     },
     "metadata": {
      "needs_background": "light"
     },
     "output_type": "display_data"
    }
   ],
   "source": [
    "print (\"\\n Classification report for K-NN : \\n\",classification_report(testy,predictions_knn))\n",
    "print (\"Accuracy Score : \",accuracy_score(testy,predictions_knn))\n",
    "\n",
    "\n",
    "\n",
    "#confusion matrix\n",
    "conf_matrix = confusion_matrix(testy,predictions_knn)\n",
    "plt.figure(figsize=(12,12))\n",
    "plt.subplot(221)\n",
    "sns.heatmap(conf_matrix, fmt = \"d\",annot=True, cmap='Blues')\n",
    "plt.title('Confuion Matrix')\n",
    "plt.ylabel('True Values')\n",
    "plt.xlabel('Predicted Values')\n",
    "\n",
    "\n",
    "#roc_auc_score\n",
    "model_roc_auc = roc_auc_score(testy,probabilities_knn) \n",
    "print (\"Area under curve : \",model_roc_auc,\"\\n\")\n",
    "fpr,tpr,thresholds = roc_curve(testy,probabilities_knn)\n",
    "\n",
    "plt.subplot(222)\n",
    "plt.plot(fpr, tpr, color='darkorange', lw=1, label = \"Auc : %.3f\" %model_roc_auc)\n",
    "plt.plot([0, 1], [0, 1], color='navy', lw=2, linestyle='--')\n",
    "plt.xlim([0.0, 1.0])\n",
    "plt.ylim([0.0, 1.05])\n",
    "plt.xlabel('False Positive Rate')\n",
    "plt.ylabel('True Positive Rate')\n",
    "plt.title('ROC')\n",
    "plt.legend(loc=\"lower right\")\n",
    "\n",
    "    \n",
    "plt.show()"
   ]
  },
  {
   "cell_type": "markdown",
   "id": "c2143044",
   "metadata": {},
   "source": [
    "#### Random Forest"
   ]
  },
  {
   "cell_type": "code",
   "execution_count": null,
   "id": "e9a22e7c",
   "metadata": {},
   "outputs": [],
   "source": [
    "# Train a classifier for different values of n_estimators\n",
    "rf_results = []\n",
    "for x in range(100, 1001, 100):\n",
    "    rf = RandomForestClassifier(n_estimators = x, random_state = 1).fit(trainX, trainy)\n",
    "    rf_results.append({'n_estimators': x, 'accuracy': accuracy_score(validy, rf.predict(validX)), \n",
    "                      'precision': precision_score(validy, rf.predict(validX)),\n",
    "                      'f1_score': f1_score(validy, rf.predict(validX))})\n",
    "\n",
    "    \n",
    "# Convert results to a pandas data frame\n",
    "rf_results = pd.DataFrame(rf_results)"
   ]
  },
  {
   "cell_type": "code",
   "execution_count": null,
   "id": "3afae5da",
   "metadata": {},
   "outputs": [],
   "source": [
    "# show accuracy by estimators\n",
    "plt.plot(rf_results['n_estimators'], rf_results.accuracy, linestyle='-', label = \"accuracy\")\n",
    "plt.plot(rf_results['n_estimators'], rf_results.precision, linestyle=':', c='red', label = \"precision\")\n",
    "plt.plot(rf_results['n_estimators'], rf_results['f1_score'], linestyle='--', c='blue', label = \"f1 score\")\n",
    "plt.title('Number of estimators vs. metrics \\n In validation set for Random Forest')\n",
    "plt.legend()\n",
    "plt.xlabel('Estimators')\n",
    "plt.ylabel('Metrics score')"
   ]
  },
  {
   "cell_type": "code",
   "execution_count": null,
   "id": "c3b997e0",
   "metadata": {},
   "outputs": [],
   "source": [
    "# Prediction using Test dataset\n",
    "predictions_rf = rf.predict(testX)\n",
    "probabilities_rf = rf.predict_proba(testX)[:,1]\n",
    "\n",
    "rf_result = pd.DataFrame({'actual': testy, \n",
    "                             'probability': probabilities_rf,\n",
    "                             'predicted': predictions_rf})\n",
    "\n",
    "rf_result"
   ]
  },
  {
   "cell_type": "code",
   "execution_count": null,
   "id": "0fb8cf8c",
   "metadata": {},
   "outputs": [],
   "source": [
    "print (\"\\n Classification report for Random Forest : \\n\",classification_report(testy,predictions_rf))\n",
    "print (\"Accuracy Score : \",accuracy_score(testy,predictions_rf))\n",
    "\n",
    "\n",
    "\n",
    "#confusion matrix\n",
    "conf_matrix = confusion_matrix(testy,predictions_rf)\n",
    "plt.figure(figsize=(12,12))\n",
    "plt.subplot(221)\n",
    "sns.heatmap(conf_matrix, fmt = \"d\",annot=True, cmap='Blues')\n",
    "plt.title('Confuion Matrix')\n",
    "plt.ylabel('True Values')\n",
    "plt.xlabel('Predicted Values')\n",
    "\n",
    "\n",
    "#roc_auc_score\n",
    "model_roc_auc = roc_auc_score(testy,probabilities_rf) \n",
    "print (\"Area under curve : \",model_roc_auc,\"\\n\")\n",
    "fpr,tpr,thresholds = roc_curve(testy,probabilities_rf)\n",
    "\n",
    "plt.subplot(222)\n",
    "plt.plot(fpr, tpr, color='darkorange', lw=1, label = \"Auc : %.3f\" %model_roc_auc)\n",
    "plt.plot([0, 1], [0, 1], color='navy', lw=2, linestyle='--')\n",
    "plt.xlim([0.0, 1.0])\n",
    "plt.ylim([0.0, 1.05])\n",
    "plt.xlabel('False Positive Rate')\n",
    "plt.ylabel('True Positive Rate')\n",
    "plt.title('ROC')\n",
    "plt.legend(loc=\"lower right\")\n",
    "\n",
    "# variable (feature) importance plot\n",
    "importances = rf.feature_importances_\n",
    "std = np.std([tree.feature_importances_ for tree in rf.estimators_], axis=0)\n",
    "\n",
    "df = pd.DataFrame({'feature': trainX.columns, 'importance': importances, 'std': std})\n",
    "df = df.sort_values('importance')\n",
    "print(df)\n",
    "\n",
    "ax = df.plot(kind='barh', xerr='std', x='feature', legend=False)\n",
    "ax.set_ylabel('')\n",
    "\n",
    "\n",
    "    \n",
    "plt.show()"
   ]
  },
  {
   "cell_type": "markdown",
   "id": "467b3af6",
   "metadata": {},
   "source": [
    "#### Decision Tree"
   ]
  },
  {
   "cell_type": "code",
   "execution_count": null,
   "id": "9422bb36",
   "metadata": {},
   "outputs": [],
   "source": [
    "dt_results = []\n",
    "criterion = [\"gini\", \"entropy\", \"log_loss\"]\n",
    "\n",
    "for x in criterion:\n",
    "    dt = DecisionTreeClassifier(criterion = x, random_state = 1).fit(trainX, trainy)\n",
    "    dt_results.append({'criterion': x, 'accuracy': accuracy_score(validy, dt.predict(validX)), \n",
    "                      'precision': precision_score(validy, dt.predict(validX)),\n",
    "                      'f1_score': f1_score(validy, dt.predict(validX))})\n",
    "    \n",
    "\n",
    "# Convert results to a pandas data frame\n",
    "dt_results = pd.DataFrame(dt_results)"
   ]
  },
  {
   "cell_type": "code",
   "execution_count": null,
   "id": "5502a620",
   "metadata": {},
   "outputs": [],
   "source": [
    "dt_results.sort_values(by=[\"accuracy\"],ascending=False)"
   ]
  },
  {
   "cell_type": "code",
   "execution_count": null,
   "id": "bf5b502f",
   "metadata": {},
   "outputs": [],
   "source": [
    "dt_results_depth = []\n",
    "\n",
    "for x in range(2, 30, 2):\n",
    "    dt = DecisionTreeClassifier(max_depth = x, criterion = \"entropy\", random_state = 1).fit(trainX, trainy)\n",
    "    dt_results_depth.append({'max_depth': x, 'accuracy': accuracy_score(validy, dt.predict(validX)), \n",
    "                      'precision': precision_score(validy, dt.predict(validX)),\n",
    "                      'f1_score': f1_score(validy, dt.predict(validX))})\n",
    "dt_results_depth = pd.DataFrame(dt_results_depth)"
   ]
  },
  {
   "cell_type": "code",
   "execution_count": null,
   "id": "0397e1fa",
   "metadata": {},
   "outputs": [],
   "source": [
    "dt_results_depth"
   ]
  },
  {
   "cell_type": "code",
   "execution_count": null,
   "id": "cf2c3f55",
   "metadata": {},
   "outputs": [],
   "source": [
    "# show accuracy by depth\n",
    "plt.plot(dt_results_depth['max_depth'], dt_results_depth.accuracy, linestyle='-', label = \"accuracy\")\n",
    "plt.plot(dt_results_depth['max_depth'], dt_results_depth.precision, linestyle=':', c='red', label = \"precision\")\n",
    "plt.plot(dt_results_depth['max_depth'], dt_results_depth['f1_score'], linestyle='--', c='blue', label = \"f1 score\")\n",
    "plt.title('Number of estimators vs. metrics \\n In validation set for decision tree \\n Using Entropy Loss')\n",
    "plt.legend()\n",
    "plt.xlabel('Max depth')\n",
    "plt.ylabel('Metrics score')"
   ]
  },
  {
   "cell_type": "code",
   "execution_count": null,
   "id": "97ba398b",
   "metadata": {},
   "outputs": [],
   "source": [
    "# Prediction using Test dataset\n",
    "predictions_dt = dt.predict(testX)\n",
    "probabilities_dt = dt.predict_proba(testX)[:,1]\n",
    "\n",
    "dt_result = pd.DataFrame({'actual': testy, \n",
    "                             'probability': probabilities_dt,\n",
    "                             'predicted': predictions_dt})\n",
    "\n",
    "dt_result"
   ]
  },
  {
   "cell_type": "code",
   "execution_count": null,
   "id": "c41667a6",
   "metadata": {},
   "outputs": [],
   "source": [
    "print (\"\\n Classification report for Decision Tree : \\n\",classification_report(testy,predictions_dt))\n",
    "print (\"Accuracy Score : \",accuracy_score(testy,predictions_dt))\n",
    "\n",
    "\n",
    "\n",
    "#confusion matrix\n",
    "conf_matrix = confusion_matrix(testy,predictions_dt)\n",
    "plt.figure(figsize=(12,12))\n",
    "plt.subplot(221)\n",
    "sns.heatmap(conf_matrix, fmt = \"d\",annot=True, cmap='Blues')\n",
    "plt.title('Confuion Matrix')\n",
    "plt.ylabel('True Values')\n",
    "plt.xlabel('Predicted Values')\n",
    "\n",
    "\n",
    "#roc_auc_score\n",
    "model_roc_auc = roc_auc_score(testy,probabilities_dt) \n",
    "print (\"Area under curve : \",model_roc_auc,\"\\n\")\n",
    "fpr,tpr,thresholds = roc_curve(testy,probabilities_dt)\n",
    "\n",
    "plt.subplot(222)\n",
    "plt.plot(fpr, tpr, color='darkorange', lw=1, label = \"Auc : %.3f\" %model_roc_auc)\n",
    "plt.plot([0, 1], [0, 1], color='navy', lw=2, linestyle='--')\n",
    "plt.xlim([0.0, 1.0])\n",
    "plt.ylim([0.0, 1.05])\n",
    "plt.xlabel('False Positive Rate')\n",
    "plt.ylabel('True Positive Rate')\n",
    "plt.title('ROC')\n",
    "plt.legend(loc=\"lower right\")\n",
    "\n",
    "    \n",
    "plt.show()"
   ]
  },
  {
   "cell_type": "markdown",
   "id": "f0d8aac1",
   "metadata": {},
   "source": [
    "#### Logistic Regression"
   ]
  },
  {
   "cell_type": "code",
   "execution_count": null,
   "id": "f1c84e60",
   "metadata": {},
   "outputs": [],
   "source": [
    "lr = LogisticRegression(penalty=\"l2\", C=1e42, solver='liblinear')\n",
    "lr.fit(trainX, trainy)"
   ]
  },
  {
   "cell_type": "code",
   "execution_count": null,
   "id": "f7bf13d7",
   "metadata": {},
   "outputs": [],
   "source": [
    "print('intercept ', lr.intercept_[0])\n",
    "print(pd.DataFrame({'coeff': lr.coef_[0]}, index=X.columns).transpose())\n",
    "\n",
    "print('AIC', AIC_score(validy, lr.predict(validX), df = len(trainX.columns) + 1))"
   ]
  },
  {
   "cell_type": "markdown",
   "id": "29cec858",
   "metadata": {},
   "source": [
    "Positive correlations for factors like age, country Germany, product 2, and product 4 are linked to increased odds of a client leaving the bank. On the other hand, variables with negative coefficients are linked to staying in the bank, including having a strong credit score, a high wage, being an active member, and having a high credit score.\n"
   ]
  },
  {
   "cell_type": "code",
   "execution_count": null,
   "id": "84ce5ad3",
   "metadata": {},
   "outputs": [],
   "source": [
    "# Prediction using Test dataset\n",
    "predictions_lr = lr.predict(testX)\n",
    "probabilities_lr = lr.predict_proba(testX)[:,1]\n",
    "\n",
    "lr_result = pd.DataFrame({'actual': testy, \n",
    "                             'probability': probabilities_lr,\n",
    "                             'predicted': predictions_lr})\n",
    "\n",
    "lr_result"
   ]
  },
  {
   "cell_type": "code",
   "execution_count": null,
   "id": "a012af05",
   "metadata": {},
   "outputs": [],
   "source": [
    "print (\"\\n Classification report for Decision Tree : \\n\",classification_report(testy,predictions_lr))\n",
    "print (\"Accuracy Score : \",accuracy_score(testy,predictions_lr))\n",
    "\n",
    "\n",
    "\n",
    "#confusion matrix\n",
    "conf_matrix = confusion_matrix(testy,predictions_lr)\n",
    "plt.figure(figsize=(12,12))\n",
    "plt.subplot(221)\n",
    "sns.heatmap(conf_matrix, fmt = \"d\",annot=True, cmap='Blues')\n",
    "plt.title('Confuion Matrix')\n",
    "plt.ylabel('True Values')\n",
    "plt.xlabel('Predicted Values')\n",
    "\n",
    "\n",
    "#roc_auc_score\n",
    "model_roc_auc = roc_auc_score(testy,probabilities_lr) \n",
    "print (\"Area under curve : \",model_roc_auc,\"\\n\")\n",
    "fpr,tpr,thresholds = roc_curve(testy,probabilities_lr)\n",
    "\n",
    "plt.subplot(222)\n",
    "plt.plot(fpr, tpr, color='darkorange', lw=1, label = \"Auc : %.3f\" %model_roc_auc)\n",
    "plt.plot([0, 1], [0, 1], color='navy', lw=2, linestyle='--')\n",
    "plt.xlim([0.0, 1.0])\n",
    "plt.ylim([0.0, 1.05])\n",
    "plt.xlabel('False Positive Rate')\n",
    "plt.ylabel('True Positive Rate')\n",
    "plt.title('ROC')\n",
    "plt.legend(loc=\"lower right\")\n",
    "\n",
    "    \n",
    "plt.show()"
   ]
  },
  {
   "cell_type": "markdown",
   "id": "bbb6af05",
   "metadata": {},
   "source": [
    "#### Naive Bayes"
   ]
  },
  {
   "cell_type": "code",
   "execution_count": null,
   "id": "022adb1d",
   "metadata": {},
   "outputs": [],
   "source": [
    "# run naive Bayes\n",
    "nb = MultinomialNB(alpha=0.01)\n",
    "nb.fit(trainX, trainy)"
   ]
  },
  {
   "cell_type": "code",
   "execution_count": null,
   "id": "38a862bf",
   "metadata": {},
   "outputs": [],
   "source": [
    "# Prediction using Test dataset\n",
    "predictions_nb = nb.predict(testX)\n",
    "probabilities_nb = nb.predict_proba(testX)[:,1]\n",
    "\n",
    "nb_result = pd.DataFrame({'actual': testy, \n",
    "                             'probability': probabilities_nb,\n",
    "                             'predicted': predictions_nb})\n",
    "\n",
    "nb_result"
   ]
  },
  {
   "cell_type": "code",
   "execution_count": null,
   "id": "b0a0e274",
   "metadata": {},
   "outputs": [],
   "source": [
    "print (\"\\n Classification report for Decision Tree : \\n\",classification_report(testy,predictions_nb))\n",
    "print (\"Accuracy Score : \",accuracy_score(testy,predictions_nb))\n",
    "\n",
    "\n",
    "\n",
    "#confusion matrix\n",
    "conf_matrix = confusion_matrix(testy,predictions_nb)\n",
    "plt.figure(figsize=(12,12))\n",
    "plt.subplot(221)\n",
    "sns.heatmap(conf_matrix, fmt = \"d\",annot=True, cmap='Blues')\n",
    "plt.title('Confuion Matrix')\n",
    "plt.ylabel('True Values')\n",
    "plt.xlabel('Predicted Values')\n",
    "\n",
    "\n",
    "#roc_auc_score\n",
    "model_roc_auc = roc_auc_score(testy,probabilities_nb) \n",
    "print (\"Area under curve : \",model_roc_auc,\"\\n\")\n",
    "fpr,tpr,thresholds = roc_curve(testy,probabilities_nb)\n",
    "\n",
    "plt.subplot(222)\n",
    "plt.plot(fpr, tpr, color='darkorange', lw=1, label = \"Auc : %.3f\" %model_roc_auc)\n",
    "plt.plot([0, 1], [0, 1], color='navy', lw=2, linestyle='--')\n",
    "plt.xlim([0.0, 1.0])\n",
    "plt.ylim([0.0, 1.05])\n",
    "plt.xlabel('False Positive Rate')\n",
    "plt.ylabel('True Positive Rate')\n",
    "plt.title('ROC')\n",
    "plt.legend(loc=\"lower right\")\n",
    "\n",
    "    \n",
    "plt.show()"
   ]
  },
  {
   "cell_type": "markdown",
   "id": "b2ce5da0",
   "metadata": {},
   "source": [
    "### ROC Curve Comparision "
   ]
  },
  {
   "cell_type": "code",
   "execution_count": null,
   "id": "8a6c039c",
   "metadata": {},
   "outputs": [],
   "source": [
    "\n",
    "\n",
    "auc_lr = roc_auc_score(testy, probabilities_lr)\n",
    "fpr_lr, tpr_lr, thresholds_lr = roc_curve(testy, probabilities_lr)\n",
    "\n",
    "auc_dt = roc_auc_score(testy, probabilities_dt)\n",
    "fpr_dt, tpr_dt, thresholds_dt = roc_curve(testy, probabilities_dt)\n",
    "\n",
    "auc_knn = roc_auc_score(testy, probabilities_knn)\n",
    "fpr_knn, tpr_knn, thresholds_knn = roc_curve(testy, probabilities_knn)\n",
    "\n",
    "auc_rf = roc_auc_score(testy, probabilities_rf)\n",
    "fpr_rf, tpr_rf, thresholds_rf = roc_curve(testy, probabilities_rf)\n",
    "\n",
    "auc_nb = roc_auc_score(testy, probabilities_nb)\n",
    "fpr_nb, tpr_nb, thresholds_nb = roc_curve(testy, probabilities_nb)\n",
    "\n",
    "plt.figure(figsize=(12, 7))\n",
    "plt.plot(fpr_lr, tpr_lr, label=f'AUC (Logistic Regression) = {auc_lr:.2f}')\n",
    "plt.plot(fpr_dt, tpr_dt, label=f'AUC (Decision Tree) = {auc_dt:.2f}')\n",
    "plt.plot(fpr_knn, tpr_knn, label=f'AUC (K-NN) = {auc_knn:.2f}')\n",
    "plt.plot(fpr_rf, tpr_rf, label=f'AUC (Random Forests) = {auc_rf:.2f}')\n",
    "plt.plot(fpr_nb, tpr_nb, label=f'AUC (Naive Bayes) = {auc_nb:.2f}')\n",
    "\n",
    "plt.plot([0, 1], [0, 1], color='blue', linestyle='--', label='Baseline')\n",
    "plt.title('ROC Curve', size=20)\n",
    "plt.xlabel('False Positive Rate', size=14)\n",
    "plt.ylabel('True Positive Rate', size=14)\n",
    "plt.legend();"
   ]
  },
  {
   "cell_type": "code",
   "execution_count": null,
   "id": "19eed5b9",
   "metadata": {},
   "outputs": [],
   "source": []
  },
  {
   "cell_type": "code",
   "execution_count": null,
   "id": "3810cfac",
   "metadata": {},
   "outputs": [],
   "source": []
  }
 ],
 "metadata": {
  "kernelspec": {
   "display_name": "Python 3 (ipykernel)",
   "language": "python",
   "name": "python3"
  },
  "language_info": {
   "codemirror_mode": {
    "name": "ipython",
    "version": 3
   },
   "file_extension": ".py",
   "mimetype": "text/x-python",
   "name": "python",
   "nbconvert_exporter": "python",
   "pygments_lexer": "ipython3",
   "version": "3.10.2"
  }
 },
 "nbformat": 4,
 "nbformat_minor": 5
}

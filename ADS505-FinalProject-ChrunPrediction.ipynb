{
 "cells": [
  {
   "cell_type": "markdown",
   "metadata": {},
   "source": [
    "# Use Case - Churn Prediction\n",
    "\n",
    "> Data Mining for Business Analytics ADS-505\n",
    ">\n",
    "> Fatemeh Khosravi - Stephen Kuc - Ruddy Simonpour"
   ]
  },
  {
   "cell_type": "code",
   "execution_count": 11,
   "metadata": {},
   "outputs": [],
   "source": [
    "# import dependencies\n",
    "import pandas as pd\n",
    "import numpy as np\n",
    "import csv\n",
    "import os\n",
    "import matplotlib.pylab as plt\n",
    "import seaborn as sns\n",
    "\n",
    "import statsmodels.tools.tools as stattools\n",
    "\n",
    "from sklearn import preprocessing\n",
    "\n",
    "# models\n",
    "from sklearn.linear_model import LogisticRegression, LogisticRegressionCV, LinearRegression\n",
    "from sklearn.model_selection import train_test_split, cross_val_score, GridSearchCV\n",
    "from sklearn.metrics import accuracy_score, precision_score, f1_score\n",
    "from sklearn.neighbors import NearestNeighbors, KNeighborsClassifier\n",
    "from sklearn.tree import DecisionTreeClassifier\n",
    "from sklearn.ensemble import RandomForestClassifier\n",
    "from sklearn.naive_bayes import MultinomialNB\n",
    "\n",
    "\n",
    "from dmba.metric import AIC_score\n",
    "\n",
    "from sklearn.metrics import confusion_matrix, accuracy_score, classification_report\n",
    "from sklearn.metrics import roc_auc_score, roc_curve, precision_score, recall_score, f1_score\n",
    "from imblearn.over_sampling import SMOTE\n",
    "from dmba.metric import AIC_score\n",
    "from dmba import classificationSummary, gainsChart, liftChart\n",
    "import xgboost as xgb\n",
    "from xgboost import XGBClassifier\n",
    "from sklearn.svm import SVC\n",
    "import sklearn.metrics as metrics\n",
    "%matplotlib inline"
   ]
  },
  {
   "cell_type": "code",
   "execution_count": 12,
   "metadata": {},
   "outputs": [],
   "source": [
    "bank = pd.read_csv(\"Bank Customer Churn Prediction.csv\",low_memory=False)"
   ]
  },
  {
   "cell_type": "code",
   "execution_count": 13,
   "metadata": {},
   "outputs": [
    {
     "data": {
      "text/html": [
       "<div>\n",
       "<style scoped>\n",
       "    .dataframe tbody tr th:only-of-type {\n",
       "        vertical-align: middle;\n",
       "    }\n",
       "\n",
       "    .dataframe tbody tr th {\n",
       "        vertical-align: top;\n",
       "    }\n",
       "\n",
       "    .dataframe thead th {\n",
       "        text-align: right;\n",
       "    }\n",
       "</style>\n",
       "<table border=\"1\" class=\"dataframe\">\n",
       "  <thead>\n",
       "    <tr style=\"text-align: right;\">\n",
       "      <th></th>\n",
       "      <th>customer_id</th>\n",
       "      <th>credit_score</th>\n",
       "      <th>country</th>\n",
       "      <th>gender</th>\n",
       "      <th>age</th>\n",
       "      <th>tenure</th>\n",
       "      <th>balance</th>\n",
       "      <th>products_number</th>\n",
       "      <th>credit_card</th>\n",
       "      <th>active_member</th>\n",
       "      <th>estimated_salary</th>\n",
       "      <th>churn</th>\n",
       "    </tr>\n",
       "  </thead>\n",
       "  <tbody>\n",
       "    <tr>\n",
       "      <th>6968</th>\n",
       "      <td>15721793</td>\n",
       "      <td>510</td>\n",
       "      <td>Germany</td>\n",
       "      <td>Female</td>\n",
       "      <td>50</td>\n",
       "      <td>7</td>\n",
       "      <td>123936.54</td>\n",
       "      <td>1</td>\n",
       "      <td>1</td>\n",
       "      <td>1</td>\n",
       "      <td>23768.01</td>\n",
       "      <td>0</td>\n",
       "    </tr>\n",
       "    <tr>\n",
       "      <th>7398</th>\n",
       "      <td>15577771</td>\n",
       "      <td>453</td>\n",
       "      <td>Germany</td>\n",
       "      <td>Female</td>\n",
       "      <td>40</td>\n",
       "      <td>1</td>\n",
       "      <td>111524.49</td>\n",
       "      <td>1</td>\n",
       "      <td>1</td>\n",
       "      <td>1</td>\n",
       "      <td>120373.84</td>\n",
       "      <td>1</td>\n",
       "    </tr>\n",
       "    <tr>\n",
       "      <th>2504</th>\n",
       "      <td>15625942</td>\n",
       "      <td>619</td>\n",
       "      <td>Spain</td>\n",
       "      <td>Female</td>\n",
       "      <td>45</td>\n",
       "      <td>0</td>\n",
       "      <td>0.00</td>\n",
       "      <td>2</td>\n",
       "      <td>0</td>\n",
       "      <td>0</td>\n",
       "      <td>113645.40</td>\n",
       "      <td>0</td>\n",
       "    </tr>\n",
       "    <tr>\n",
       "      <th>7934</th>\n",
       "      <td>15803886</td>\n",
       "      <td>629</td>\n",
       "      <td>Spain</td>\n",
       "      <td>Male</td>\n",
       "      <td>31</td>\n",
       "      <td>6</td>\n",
       "      <td>132876.55</td>\n",
       "      <td>1</td>\n",
       "      <td>1</td>\n",
       "      <td>1</td>\n",
       "      <td>130862.11</td>\n",
       "      <td>0</td>\n",
       "    </tr>\n",
       "    <tr>\n",
       "      <th>4118</th>\n",
       "      <td>15782311</td>\n",
       "      <td>529</td>\n",
       "      <td>France</td>\n",
       "      <td>Male</td>\n",
       "      <td>28</td>\n",
       "      <td>9</td>\n",
       "      <td>0.00</td>\n",
       "      <td>2</td>\n",
       "      <td>1</td>\n",
       "      <td>1</td>\n",
       "      <td>52545.24</td>\n",
       "      <td>0</td>\n",
       "    </tr>\n",
       "    <tr>\n",
       "      <th>4810</th>\n",
       "      <td>15799186</td>\n",
       "      <td>632</td>\n",
       "      <td>France</td>\n",
       "      <td>Male</td>\n",
       "      <td>38</td>\n",
       "      <td>4</td>\n",
       "      <td>0.00</td>\n",
       "      <td>2</td>\n",
       "      <td>0</td>\n",
       "      <td>0</td>\n",
       "      <td>192505.62</td>\n",
       "      <td>0</td>\n",
       "    </tr>\n",
       "    <tr>\n",
       "      <th>1021</th>\n",
       "      <td>15717164</td>\n",
       "      <td>485</td>\n",
       "      <td>Spain</td>\n",
       "      <td>Male</td>\n",
       "      <td>32</td>\n",
       "      <td>6</td>\n",
       "      <td>102238.01</td>\n",
       "      <td>2</td>\n",
       "      <td>1</td>\n",
       "      <td>1</td>\n",
       "      <td>194010.12</td>\n",
       "      <td>0</td>\n",
       "    </tr>\n",
       "    <tr>\n",
       "      <th>9879</th>\n",
       "      <td>15669414</td>\n",
       "      <td>486</td>\n",
       "      <td>Germany</td>\n",
       "      <td>Male</td>\n",
       "      <td>62</td>\n",
       "      <td>9</td>\n",
       "      <td>118356.89</td>\n",
       "      <td>2</td>\n",
       "      <td>1</td>\n",
       "      <td>0</td>\n",
       "      <td>168034.83</td>\n",
       "      <td>1</td>\n",
       "    </tr>\n",
       "    <tr>\n",
       "      <th>597</th>\n",
       "      <td>15567446</td>\n",
       "      <td>646</td>\n",
       "      <td>Germany</td>\n",
       "      <td>Male</td>\n",
       "      <td>39</td>\n",
       "      <td>9</td>\n",
       "      <td>111574.41</td>\n",
       "      <td>1</td>\n",
       "      <td>1</td>\n",
       "      <td>1</td>\n",
       "      <td>30838.51</td>\n",
       "      <td>0</td>\n",
       "    </tr>\n",
       "    <tr>\n",
       "      <th>8161</th>\n",
       "      <td>15615352</td>\n",
       "      <td>588</td>\n",
       "      <td>France</td>\n",
       "      <td>Male</td>\n",
       "      <td>31</td>\n",
       "      <td>4</td>\n",
       "      <td>99607.37</td>\n",
       "      <td>2</td>\n",
       "      <td>0</td>\n",
       "      <td>1</td>\n",
       "      <td>35877.03</td>\n",
       "      <td>0</td>\n",
       "    </tr>\n",
       "  </tbody>\n",
       "</table>\n",
       "</div>"
      ],
      "text/plain": [
       "      customer_id  credit_score  country  gender  age  tenure    balance  \\\n",
       "6968     15721793           510  Germany  Female   50       7  123936.54   \n",
       "7398     15577771           453  Germany  Female   40       1  111524.49   \n",
       "2504     15625942           619    Spain  Female   45       0       0.00   \n",
       "7934     15803886           629    Spain    Male   31       6  132876.55   \n",
       "4118     15782311           529   France    Male   28       9       0.00   \n",
       "4810     15799186           632   France    Male   38       4       0.00   \n",
       "1021     15717164           485    Spain    Male   32       6  102238.01   \n",
       "9879     15669414           486  Germany    Male   62       9  118356.89   \n",
       "597      15567446           646  Germany    Male   39       9  111574.41   \n",
       "8161     15615352           588   France    Male   31       4   99607.37   \n",
       "\n",
       "      products_number  credit_card  active_member  estimated_salary  churn  \n",
       "6968                1            1              1          23768.01      0  \n",
       "7398                1            1              1         120373.84      1  \n",
       "2504                2            0              0         113645.40      0  \n",
       "7934                1            1              1         130862.11      0  \n",
       "4118                2            1              1          52545.24      0  \n",
       "4810                2            0              0         192505.62      0  \n",
       "1021                2            1              1         194010.12      0  \n",
       "9879                2            1              0         168034.83      1  \n",
       "597                 1            1              1          30838.51      0  \n",
       "8161                2            0              1          35877.03      0  "
      ]
     },
     "execution_count": 13,
     "metadata": {},
     "output_type": "execute_result"
    }
   ],
   "source": [
    "# print data\n",
    "bank.sample(10)"
   ]
  },
  {
   "cell_type": "code",
   "execution_count": 14,
   "metadata": {},
   "outputs": [
    {
     "data": {
      "text/plain": [
       "customer_id           int64\n",
       "credit_score          int64\n",
       "country              object\n",
       "gender               object\n",
       "age                   int64\n",
       "tenure                int64\n",
       "balance             float64\n",
       "products_number       int64\n",
       "credit_card           int64\n",
       "active_member         int64\n",
       "estimated_salary    float64\n",
       "churn                 int64\n",
       "dtype: object"
      ]
     },
     "execution_count": 14,
     "metadata": {},
     "output_type": "execute_result"
    }
   ],
   "source": [
    "# checking the data types\n",
    "bank.dtypes"
   ]
  },
  {
   "cell_type": "code",
   "execution_count": 15,
   "metadata": {},
   "outputs": [
    {
     "name": "stdout",
     "output_type": "stream",
     "text": [
      "Number of rows in the dataframe 10000\n",
      "Number of columns in the dataframe 12\n"
     ]
    }
   ],
   "source": [
    "# dataframe shape\n",
    "print(f'Number of rows in the dataframe {bank.shape[0]}')\n",
    "print(f'Number of columns in the dataframe {bank.shape[1]}')"
   ]
  },
  {
   "cell_type": "code",
   "execution_count": 16,
   "metadata": {},
   "outputs": [
    {
     "data": {
      "text/html": [
       "<div>\n",
       "<style scoped>\n",
       "    .dataframe tbody tr th:only-of-type {\n",
       "        vertical-align: middle;\n",
       "    }\n",
       "\n",
       "    .dataframe tbody tr th {\n",
       "        vertical-align: top;\n",
       "    }\n",
       "\n",
       "    .dataframe thead th {\n",
       "        text-align: right;\n",
       "    }\n",
       "</style>\n",
       "<table border=\"1\" class=\"dataframe\">\n",
       "  <thead>\n",
       "    <tr style=\"text-align: right;\">\n",
       "      <th></th>\n",
       "      <th>count</th>\n",
       "      <th>mean</th>\n",
       "      <th>std</th>\n",
       "      <th>min</th>\n",
       "      <th>25%</th>\n",
       "      <th>50%</th>\n",
       "      <th>75%</th>\n",
       "      <th>max</th>\n",
       "    </tr>\n",
       "  </thead>\n",
       "  <tbody>\n",
       "    <tr>\n",
       "      <th>customer_id</th>\n",
       "      <td>10000.0</td>\n",
       "      <td>1.569094e+07</td>\n",
       "      <td>71936.186123</td>\n",
       "      <td>15565701.00</td>\n",
       "      <td>15628528.25</td>\n",
       "      <td>1.569074e+07</td>\n",
       "      <td>1.575323e+07</td>\n",
       "      <td>15815690.00</td>\n",
       "    </tr>\n",
       "    <tr>\n",
       "      <th>credit_score</th>\n",
       "      <td>10000.0</td>\n",
       "      <td>6.505288e+02</td>\n",
       "      <td>96.653299</td>\n",
       "      <td>350.00</td>\n",
       "      <td>584.00</td>\n",
       "      <td>6.520000e+02</td>\n",
       "      <td>7.180000e+02</td>\n",
       "      <td>850.00</td>\n",
       "    </tr>\n",
       "    <tr>\n",
       "      <th>age</th>\n",
       "      <td>10000.0</td>\n",
       "      <td>3.892180e+01</td>\n",
       "      <td>10.487806</td>\n",
       "      <td>18.00</td>\n",
       "      <td>32.00</td>\n",
       "      <td>3.700000e+01</td>\n",
       "      <td>4.400000e+01</td>\n",
       "      <td>92.00</td>\n",
       "    </tr>\n",
       "    <tr>\n",
       "      <th>tenure</th>\n",
       "      <td>10000.0</td>\n",
       "      <td>5.012800e+00</td>\n",
       "      <td>2.892174</td>\n",
       "      <td>0.00</td>\n",
       "      <td>3.00</td>\n",
       "      <td>5.000000e+00</td>\n",
       "      <td>7.000000e+00</td>\n",
       "      <td>10.00</td>\n",
       "    </tr>\n",
       "    <tr>\n",
       "      <th>balance</th>\n",
       "      <td>10000.0</td>\n",
       "      <td>7.648589e+04</td>\n",
       "      <td>62397.405202</td>\n",
       "      <td>0.00</td>\n",
       "      <td>0.00</td>\n",
       "      <td>9.719854e+04</td>\n",
       "      <td>1.276442e+05</td>\n",
       "      <td>250898.09</td>\n",
       "    </tr>\n",
       "    <tr>\n",
       "      <th>products_number</th>\n",
       "      <td>10000.0</td>\n",
       "      <td>1.530200e+00</td>\n",
       "      <td>0.581654</td>\n",
       "      <td>1.00</td>\n",
       "      <td>1.00</td>\n",
       "      <td>1.000000e+00</td>\n",
       "      <td>2.000000e+00</td>\n",
       "      <td>4.00</td>\n",
       "    </tr>\n",
       "    <tr>\n",
       "      <th>credit_card</th>\n",
       "      <td>10000.0</td>\n",
       "      <td>7.055000e-01</td>\n",
       "      <td>0.455840</td>\n",
       "      <td>0.00</td>\n",
       "      <td>0.00</td>\n",
       "      <td>1.000000e+00</td>\n",
       "      <td>1.000000e+00</td>\n",
       "      <td>1.00</td>\n",
       "    </tr>\n",
       "    <tr>\n",
       "      <th>active_member</th>\n",
       "      <td>10000.0</td>\n",
       "      <td>5.151000e-01</td>\n",
       "      <td>0.499797</td>\n",
       "      <td>0.00</td>\n",
       "      <td>0.00</td>\n",
       "      <td>1.000000e+00</td>\n",
       "      <td>1.000000e+00</td>\n",
       "      <td>1.00</td>\n",
       "    </tr>\n",
       "    <tr>\n",
       "      <th>estimated_salary</th>\n",
       "      <td>10000.0</td>\n",
       "      <td>1.000902e+05</td>\n",
       "      <td>57510.492818</td>\n",
       "      <td>11.58</td>\n",
       "      <td>51002.11</td>\n",
       "      <td>1.001939e+05</td>\n",
       "      <td>1.493882e+05</td>\n",
       "      <td>199992.48</td>\n",
       "    </tr>\n",
       "    <tr>\n",
       "      <th>churn</th>\n",
       "      <td>10000.0</td>\n",
       "      <td>2.037000e-01</td>\n",
       "      <td>0.402769</td>\n",
       "      <td>0.00</td>\n",
       "      <td>0.00</td>\n",
       "      <td>0.000000e+00</td>\n",
       "      <td>0.000000e+00</td>\n",
       "      <td>1.00</td>\n",
       "    </tr>\n",
       "  </tbody>\n",
       "</table>\n",
       "</div>"
      ],
      "text/plain": [
       "                    count          mean           std          min  \\\n",
       "customer_id       10000.0  1.569094e+07  71936.186123  15565701.00   \n",
       "credit_score      10000.0  6.505288e+02     96.653299       350.00   \n",
       "age               10000.0  3.892180e+01     10.487806        18.00   \n",
       "tenure            10000.0  5.012800e+00      2.892174         0.00   \n",
       "balance           10000.0  7.648589e+04  62397.405202         0.00   \n",
       "products_number   10000.0  1.530200e+00      0.581654         1.00   \n",
       "credit_card       10000.0  7.055000e-01      0.455840         0.00   \n",
       "active_member     10000.0  5.151000e-01      0.499797         0.00   \n",
       "estimated_salary  10000.0  1.000902e+05  57510.492818        11.58   \n",
       "churn             10000.0  2.037000e-01      0.402769         0.00   \n",
       "\n",
       "                          25%           50%           75%          max  \n",
       "customer_id       15628528.25  1.569074e+07  1.575323e+07  15815690.00  \n",
       "credit_score           584.00  6.520000e+02  7.180000e+02       850.00  \n",
       "age                     32.00  3.700000e+01  4.400000e+01        92.00  \n",
       "tenure                   3.00  5.000000e+00  7.000000e+00        10.00  \n",
       "balance                  0.00  9.719854e+04  1.276442e+05    250898.09  \n",
       "products_number          1.00  1.000000e+00  2.000000e+00         4.00  \n",
       "credit_card              0.00  1.000000e+00  1.000000e+00         1.00  \n",
       "active_member            0.00  1.000000e+00  1.000000e+00         1.00  \n",
       "estimated_salary     51002.11  1.001939e+05  1.493882e+05    199992.48  \n",
       "churn                    0.00  0.000000e+00  0.000000e+00         1.00  "
      ]
     },
     "execution_count": 16,
     "metadata": {},
     "output_type": "execute_result"
    }
   ],
   "source": [
    "bank.describe().T"
   ]
  },
  {
   "cell_type": "markdown",
   "metadata": {},
   "source": [
    "For binary variables, incl target:\n",
    "\n",
    "Churn: ~20.4% positive records CC: ~70.5% positive active member: ~51.5% positive\n",
    "\n",
    "For numerical:\n",
    "\n",
    "cc: seems about symmetrical (median ~= mean); ranges from 350 - 850\n",
    "\n",
    "age: 18 - 92; slightly skewed right, with mean of 38.9 and median of 37.\n",
    "\n",
    "tenure: seems symmetrical; anywhere from 0 years to 10 years.\n",
    "\n",
    "balance: ranges from  0𝑡𝑜 250k. The median > mean (~97k vs 76k), so it is skewed left\n",
    "\n",
    "estimated salary: mean / median both around 100k. ranges from 57.5k to ~200k."
   ]
  },
  {
   "cell_type": "markdown",
   "metadata": {},
   "source": [
    "### Missing values"
   ]
  },
  {
   "cell_type": "code",
   "execution_count": 17,
   "metadata": {},
   "outputs": [
    {
     "data": {
      "text/plain": [
       "customer_id         0\n",
       "credit_score        0\n",
       "country             0\n",
       "gender              0\n",
       "age                 0\n",
       "tenure              0\n",
       "balance             0\n",
       "products_number     0\n",
       "credit_card         0\n",
       "active_member       0\n",
       "estimated_salary    0\n",
       "churn               0\n",
       "dtype: int64"
      ]
     },
     "execution_count": 17,
     "metadata": {},
     "output_type": "execute_result"
    }
   ],
   "source": [
    "# checking for missing values\n",
    "bank.isnull().sum()"
   ]
  },
  {
   "cell_type": "markdown",
   "metadata": {},
   "source": [
    "There is no missing values in the dataset"
   ]
  },
  {
   "cell_type": "markdown",
   "metadata": {},
   "source": [
    "### Duplicated Rows"
   ]
  },
  {
   "cell_type": "code",
   "execution_count": 18,
   "metadata": {},
   "outputs": [
    {
     "name": "stdout",
     "output_type": "stream",
     "text": [
      "The number of duplicated values are : 0\n"
     ]
    }
   ],
   "source": [
    "# checking for duplicated values\n",
    "duplicate_values = bank.duplicated().sum()\n",
    "print(f'The number of duplicated values are : {duplicate_values}')"
   ]
  },
  {
   "cell_type": "code",
   "execution_count": 19,
   "metadata": {},
   "outputs": [
    {
     "data": {
      "text/plain": [
       "customer_id         10000\n",
       "credit_score          460\n",
       "country                 3\n",
       "gender                  2\n",
       "age                    70\n",
       "tenure                 11\n",
       "balance              6382\n",
       "products_number         4\n",
       "credit_card             2\n",
       "active_member           2\n",
       "estimated_salary     9999\n",
       "churn                   2\n",
       "dtype: int64"
      ]
     },
     "execution_count": 19,
     "metadata": {},
     "output_type": "execute_result"
    }
   ],
   "source": [
    "# check number of unique values for each column\n",
    "bank.nunique()"
   ]
  },
  {
   "cell_type": "markdown",
   "metadata": {},
   "source": [
    "There are only 3 different countries and 4 different products. These two we can make into dummy variables. CC and active member are indeed binary. "
   ]
  },
  {
   "cell_type": "markdown",
   "metadata": {},
   "source": [
    "### Visualization"
   ]
  },
  {
   "cell_type": "code",
   "execution_count": 20,
   "metadata": {},
   "outputs": [
    {
     "data": {
      "text/plain": [
       "<AxesSubplot:>"
      ]
     },
     "execution_count": 20,
     "metadata": {},
     "output_type": "execute_result"
    },
    {
     "data": {
      "image/png": "[encoded data removed]",
      "text/plain": [
       "<Figure size 432x288 with 1 Axes>"
      ]
     },
     "metadata": {
      "needs_background": "light"
     },
     "output_type": "display_data"
    }
   ],
   "source": [
    "bank[\"churn\"].value_counts().plot(kind=\"bar\")"
   ]
  },
  {
   "cell_type": "code",
   "execution_count": 21,
   "metadata": {},
   "outputs": [
    {
     "data": {
      "text/plain": [
       "1    5084\n",
       "2    4590\n",
       "3     266\n",
       "4      60\n",
       "Name: products_number, dtype: int64"
      ]
     },
     "execution_count": 21,
     "metadata": {},
     "output_type": "execute_result"
    }
   ],
   "source": [
    "bank[\"products_number\"].value_counts()"
   ]
  },
  {
   "cell_type": "markdown",
   "metadata": {},
   "source": [
    "The target variable is not balance"
   ]
  },
  {
   "cell_type": "markdown",
   "metadata": {},
   "source": [
    "### Dummy Variables"
   ]
  },
  {
   "cell_type": "markdown",
   "metadata": {},
   "source": [
    "There is not missing values and duplicated values in the dataset. Now we can drop unnecessary columns. \"Customer-ID\"s are assigned at random and are not based on anything. Therefore, we can remove this column"
   ]
  },
  {
   "cell_type": "code",
   "execution_count": 22,
   "metadata": {},
   "outputs": [
    {
     "data": {
      "text/html": [
       "<div>\n",
       "<style scoped>\n",
       "    .dataframe tbody tr th:only-of-type {\n",
       "        vertical-align: middle;\n",
       "    }\n",
       "\n",
       "    .dataframe tbody tr th {\n",
       "        vertical-align: top;\n",
       "    }\n",
       "\n",
       "    .dataframe thead th {\n",
       "        text-align: right;\n",
       "    }\n",
       "</style>\n",
       "<table border=\"1\" class=\"dataframe\">\n",
       "  <thead>\n",
       "    <tr style=\"text-align: right;\">\n",
       "      <th></th>\n",
       "      <th>credit_score</th>\n",
       "      <th>age</th>\n",
       "      <th>tenure</th>\n",
       "      <th>balance</th>\n",
       "      <th>products_number</th>\n",
       "      <th>credit_card</th>\n",
       "      <th>active_member</th>\n",
       "      <th>estimated_salary</th>\n",
       "      <th>churn</th>\n",
       "      <th>country_Germany</th>\n",
       "      <th>country_Spain</th>\n",
       "      <th>gender_Male</th>\n",
       "    </tr>\n",
       "  </thead>\n",
       "  <tbody>\n",
       "    <tr>\n",
       "      <th>0</th>\n",
       "      <td>619</td>\n",
       "      <td>42</td>\n",
       "      <td>2</td>\n",
       "      <td>0.00</td>\n",
       "      <td>1</td>\n",
       "      <td>1</td>\n",
       "      <td>1</td>\n",
       "      <td>101348.88</td>\n",
       "      <td>1</td>\n",
       "      <td>0</td>\n",
       "      <td>0</td>\n",
       "      <td>0</td>\n",
       "    </tr>\n",
       "    <tr>\n",
       "      <th>1</th>\n",
       "      <td>608</td>\n",
       "      <td>41</td>\n",
       "      <td>1</td>\n",
       "      <td>83807.86</td>\n",
       "      <td>1</td>\n",
       "      <td>0</td>\n",
       "      <td>1</td>\n",
       "      <td>112542.58</td>\n",
       "      <td>0</td>\n",
       "      <td>0</td>\n",
       "      <td>1</td>\n",
       "      <td>0</td>\n",
       "    </tr>\n",
       "    <tr>\n",
       "      <th>2</th>\n",
       "      <td>502</td>\n",
       "      <td>42</td>\n",
       "      <td>8</td>\n",
       "      <td>159660.80</td>\n",
       "      <td>3</td>\n",
       "      <td>1</td>\n",
       "      <td>0</td>\n",
       "      <td>113931.57</td>\n",
       "      <td>1</td>\n",
       "      <td>0</td>\n",
       "      <td>0</td>\n",
       "      <td>0</td>\n",
       "    </tr>\n",
       "    <tr>\n",
       "      <th>3</th>\n",
       "      <td>699</td>\n",
       "      <td>39</td>\n",
       "      <td>1</td>\n",
       "      <td>0.00</td>\n",
       "      <td>2</td>\n",
       "      <td>0</td>\n",
       "      <td>0</td>\n",
       "      <td>93826.63</td>\n",
       "      <td>0</td>\n",
       "      <td>0</td>\n",
       "      <td>0</td>\n",
       "      <td>0</td>\n",
       "    </tr>\n",
       "    <tr>\n",
       "      <th>4</th>\n",
       "      <td>850</td>\n",
       "      <td>43</td>\n",
       "      <td>2</td>\n",
       "      <td>125510.82</td>\n",
       "      <td>1</td>\n",
       "      <td>1</td>\n",
       "      <td>1</td>\n",
       "      <td>79084.10</td>\n",
       "      <td>0</td>\n",
       "      <td>0</td>\n",
       "      <td>1</td>\n",
       "      <td>0</td>\n",
       "    </tr>\n",
       "  </tbody>\n",
       "</table>\n",
       "</div>"
      ],
      "text/plain": [
       "   credit_score  age  tenure    balance  products_number  credit_card  \\\n",
       "0           619   42       2       0.00                1            1   \n",
       "1           608   41       1   83807.86                1            0   \n",
       "2           502   42       8  159660.80                3            1   \n",
       "3           699   39       1       0.00                2            0   \n",
       "4           850   43       2  125510.82                1            1   \n",
       "\n",
       "   active_member  estimated_salary  churn  country_Germany  country_Spain  \\\n",
       "0              1         101348.88      1                0              0   \n",
       "1              1         112542.58      0                0              1   \n",
       "2              0         113931.57      1                0              0   \n",
       "3              0          93826.63      0                0              0   \n",
       "4              1          79084.10      0                0              1   \n",
       "\n",
       "   gender_Male  \n",
       "0            0  \n",
       "1            0  \n",
       "2            0  \n",
       "3            0  \n",
       "4            0  "
      ]
     },
     "execution_count": 22,
     "metadata": {},
     "output_type": "execute_result"
    }
   ],
   "source": [
    "bank_country = pd.get_dummies(bank['country'], prefix = 'country', drop_first = True)\n",
    "bank_gender= pd.get_dummies(bank['gender'], prefix = 'gender', drop_first = True)\n",
    "\n",
    "churn_df = bank.drop(['country', 'gender', 'customer_id'], axis = 1)\n",
    "\n",
    "churn_df = pd.concat([churn_df, bank_country, bank_gender], axis = 1)\n",
    "\n",
    "churn_df.head()"
   ]
  },
  {
   "cell_type": "code",
   "execution_count": 23,
   "metadata": {},
   "outputs": [
    {
     "data": {
      "text/plain": [
       "credit_score          int64\n",
       "age                   int64\n",
       "tenure                int64\n",
       "balance             float64\n",
       "products_number       int64\n",
       "credit_card           int64\n",
       "active_member         int64\n",
       "estimated_salary    float64\n",
       "churn                 int64\n",
       "country_Germany       int64\n",
       "country_Spain         int64\n",
       "gender_Male           int64\n",
       "dtype: object"
      ]
     },
     "execution_count": 23,
     "metadata": {},
     "output_type": "execute_result"
    }
   ],
   "source": [
    "# change the data type of the dummy variables (uint8 --> int64)\n",
    "def data_type_change(df,cols):\n",
    "    df[cols]=df[cols].astype(int)\n",
    "    return df\n",
    "\n",
    "churn_df = data_type_change(churn_df,[\"country_Germany\",\"country_Spain\",\n",
    "                                      \"gender_Male\"])\n",
    "\n",
    "churn_df.dtypes"
   ]
  },
  {
   "cell_type": "markdown",
   "metadata": {},
   "source": [
    "### Correlation"
   ]
  },
  {
   "cell_type": "code",
   "execution_count": 24,
   "metadata": {
    "scrolled": true
   },
   "outputs": [
    {
     "data": {
      "text/plain": [
       "<AxesSubplot:>"
      ]
     },
     "execution_count": 24,
     "metadata": {},
     "output_type": "execute_result"
    },
    {
     "data": {
      "image/png": "[encoded data removed]",
      "text/plain": [
       "<Figure size 1152x432 with 2 Axes>"
      ]
     },
     "metadata": {
      "needs_background": "light"
     },
     "output_type": "display_data"
    }
   ],
   "source": [
    "# Correlation matrix\n",
    "plt.figure(figsize=(16, 6))\n",
    "sns.heatmap(round(churn_df.corr(),2), annot = True)"
   ]
  },
  {
   "cell_type": "markdown",
   "metadata": {},
   "source": [
    "highest correlations with churn: age (+.29), country_germany (+.17)\n",
    "\n",
    "Multi collinearities?\n",
    "\n",
    "Age -- no, next highest correlation is .09 with active member.\n",
    "\n",
    "country_Germany -- .4 with balance; -.33 with country_Spain"
   ]
  },
  {
   "cell_type": "markdown",
   "metadata": {},
   "source": [
    "### Continues variables and Churn"
   ]
  },
  {
   "cell_type": "code",
   "execution_count": 192,
   "metadata": {},
   "outputs": [
    {
     "data": {
      "image/png": "[encoded data removed]",
      "text/plain": [
       "<Figure size 432x288 with 1 Axes>"
      ]
     },
     "metadata": {
      "needs_background": "light"
     },
     "output_type": "display_data"
    }
   ],
   "source": [
    "a=bank[bank.churn ==1]['age']\n",
    "b=bank[bank.churn==0]['age']\n",
    "plt.hist([a,b], bins=20, edgecolor='black', stacked = True)\n",
    "plt.legend(['Response = Yes', 'Response = No']) \n",
    "plt.title('Histogram of Age with Response Overlay')\n",
    "plt.xlabel('Age')\n",
    "plt.ylabel('Frequency') \n",
    "plt.show()"
   ]
  },
  {
   "cell_type": "code",
   "execution_count": 193,
   "metadata": {},
   "outputs": [
    {
     "data": {
      "image/png": "[encoded data removed]",
      "text/plain": [
       "<Figure size 432x288 with 1 Axes>"
      ]
     },
     "metadata": {
      "needs_background": "light"
     },
     "output_type": "display_data"
    }
   ],
   "source": [
    "a=bank[bank.churn ==1]['balance']\n",
    "b=bank[bank.churn==0]['balance']\n",
    "plt.hist([a,b], bins=20, edgecolor='black', stacked = True)\n",
    "plt.legend(['Response = Yes', 'Response = No']) \n",
    "plt.title(' Histogram of Balance with Response Overlay')\n",
    "plt.xlabel('Balance')\n",
    "plt.ylabel('Frequency') \n",
    "plt.show()"
   ]
  },
  {
   "cell_type": "code",
   "execution_count": 194,
   "metadata": {},
   "outputs": [
    {
     "data": {
      "text/plain": [
       "Text(0, 0.5, 'Frequency')"
      ]
     },
     "execution_count": 194,
     "metadata": {},
     "output_type": "execute_result"
    },
    {
     "data": {
      "image/png": "[encoded data removed]",
      "text/plain": [
       "<Figure size 432x288 with 1 Axes>"
      ]
     },
     "metadata": {
      "needs_background": "light"
     },
     "output_type": "display_data"
    }
   ],
   "source": [
    "a=bank[bank.churn ==1]['estimated_salary']\n",
    "b=bank[bank.churn==0]['estimated_salary']\n",
    "plt.hist([a,b],bins=20,edgecolor='black',stacked=True)\n",
    "plt.legend(['churn= Yes','churn=No'])\n",
    "plt.title('Histogram of Estimated Salary with Churn Overlay')\n",
    "plt.xlabel('Estimated Salary')\n",
    "plt.ylabel('Frequency')"
   ]
  },
  {
   "cell_type": "code",
   "execution_count": 195,
   "metadata": {},
   "outputs": [
    {
     "data": {
      "text/plain": [
       "Text(0, 0.5, 'Frequency')"
      ]
     },
     "execution_count": 195,
     "metadata": {},
     "output_type": "execute_result"
    },
    {
     "data": {
      "image/png": "[encoded data removed]",
      "text/plain": [
       "<Figure size 432x288 with 1 Axes>"
      ]
     },
     "metadata": {
      "needs_background": "light"
     },
     "output_type": "display_data"
    }
   ],
   "source": [
    "a=bank[bank.churn ==1]['credit_score']\n",
    "b=bank[bank.churn==0]['credit_score']\n",
    "plt.hist([a,b],bins=20,edgecolor='black',stacked=True)\n",
    "plt.legend(['churn= Yes','churn=No'])\n",
    "plt.title('Histogram of Credit Score with Churn Overlay')\n",
    "plt.xlabel('Credit Score')\n",
    "plt.ylabel('Frequency')"
   ]
  },
  {
   "cell_type": "markdown",
   "metadata": {},
   "source": [
    "### Distribution of Numerical Variables"
   ]
  },
  {
   "cell_type": "code",
   "execution_count": 25,
   "metadata": {},
   "outputs": [
    {
     "data": {
      "image/png": "[encoded data removed]",
      "text/plain": [
       "<Figure size 1440x1440 with 1 Axes>"
      ]
     },
     "metadata": {
      "needs_background": "light"
     },
     "output_type": "display_data"
    },
    {
     "data": {
      "image/png": "[encoded data removed]",
      "text/plain": [
       "<Figure size 1440x1440 with 1 Axes>"
      ]
     },
     "metadata": {
      "needs_background": "light"
     },
     "output_type": "display_data"
    },
    {
     "data": {
      "image/png": "[encoded data removed]",
      "text/plain": [
       "<Figure size 1440x1440 with 1 Axes>"
      ]
     },
     "metadata": {
      "needs_background": "light"
     },
     "output_type": "display_data"
    },
    {
     "data": {
      "image/png": "[encoded data removed]",
      "text/plain": [
       "<Figure size 1440x1440 with 1 Axes>"
      ]
     },
     "metadata": {
      "needs_background": "light"
     },
     "output_type": "display_data"
    },
    {
     "data": {
      "image/png": "[encoded data removed]",
      "text/plain": [
       "<Figure size 1440x1440 with 1 Axes>"
      ]
     },
     "metadata": {
      "needs_background": "light"
     },
     "output_type": "display_data"
    }
   ],
   "source": [
    "# Visualizing each numerical variables histogram\n",
    "col=churn_df[['credit_score','age','tenure','balance','estimated_salary']]\n",
    "for i in col:\n",
    "  n=1\n",
    "  plt.figure(figsize=(20,20))\n",
    "  plt.subplot(4,3,1)\n",
    "  plt.hist(churn_df[i],edgecolor='black')\n",
    "  plt.title(i)\n",
    "  plt.show()\n",
    "  n=n+1"
   ]
  },
  {
   "cell_type": "markdown",
   "metadata": {},
   "source": [
    "###  Skewness"
   ]
  },
  {
   "cell_type": "code",
   "execution_count": 26,
   "metadata": {},
   "outputs": [
    {
     "data": {
      "text/plain": [
       "credit_score       -0.071607\n",
       "age                 1.011320\n",
       "tenure              0.010991\n",
       "balance            -0.141109\n",
       "estimated_salary    0.002085\n",
       "dtype: float64"
      ]
     },
     "execution_count": 26,
     "metadata": {},
     "output_type": "execute_result"
    }
   ],
   "source": [
    "# check the skewness\n",
    "col=churn_df[['credit_score','age','tenure','balance','estimated_salary']]\n",
    "col.skew()"
   ]
  },
  {
   "cell_type": "markdown",
   "metadata": {},
   "source": [
    "### Log Transformation"
   ]
  },
  {
   "cell_type": "code",
   "execution_count": 27,
   "metadata": {},
   "outputs": [
    {
     "data": {
      "text/plain": [
       "Text(0.5, 1.0, 'Log Transformed Age')"
      ]
     },
     "execution_count": 27,
     "metadata": {},
     "output_type": "execute_result"
    },
    {
     "data": {
      "image/png": "[encoded data removed]",
      "text/plain": [
       "<Figure size 576x360 with 2 Axes>"
      ]
     },
     "metadata": {
      "needs_background": "light"
     },
     "output_type": "display_data"
    }
   ],
   "source": [
    "# log transformation for age \n",
    "np.random.seed(0)\n",
    "age_trans = np.log(churn_df['age'])\n",
    "fig, axs = plt.subplots(nrows=1, ncols=2,figsize=(8,5))\n",
    "axs[0].hist(churn_df['age'], edgecolor='black')\n",
    "axs[1].hist(age_trans, edgecolor='black')\n",
    "axs[0].set_title('Original Age')\n",
    "axs[1].set_title('Log Transformed Age')"
   ]
  },
  {
   "cell_type": "code",
   "execution_count": 28,
   "metadata": {},
   "outputs": [],
   "source": [
    "# converting  skewed column to the transformed values\n",
    "churn_df['age']=age_trans"
   ]
  },
  {
   "cell_type": "markdown",
   "metadata": {},
   "source": [
    "### Scaling"
   ]
  },
  {
   "cell_type": "code",
   "execution_count": 29,
   "metadata": {},
   "outputs": [
    {
     "data": {
      "text/html": [
       "<div>\n",
       "<style scoped>\n",
       "    .dataframe tbody tr th:only-of-type {\n",
       "        vertical-align: middle;\n",
       "    }\n",
       "\n",
       "    .dataframe tbody tr th {\n",
       "        vertical-align: top;\n",
       "    }\n",
       "\n",
       "    .dataframe thead th {\n",
       "        text-align: right;\n",
       "    }\n",
       "</style>\n",
       "<table border=\"1\" class=\"dataframe\">\n",
       "  <thead>\n",
       "    <tr style=\"text-align: right;\">\n",
       "      <th></th>\n",
       "      <th>credit_score</th>\n",
       "      <th>age</th>\n",
       "      <th>tenure</th>\n",
       "      <th>balance</th>\n",
       "      <th>estimated_salary</th>\n",
       "    </tr>\n",
       "  </thead>\n",
       "  <tbody>\n",
       "    <tr>\n",
       "      <th>0</th>\n",
       "      <td>-0.326221</td>\n",
       "      <td>0.425883</td>\n",
       "      <td>-1.041760</td>\n",
       "      <td>-1.225848</td>\n",
       "      <td>0.021886</td>\n",
       "    </tr>\n",
       "    <tr>\n",
       "      <th>1</th>\n",
       "      <td>-0.440036</td>\n",
       "      <td>0.332621</td>\n",
       "      <td>-1.387538</td>\n",
       "      <td>0.117350</td>\n",
       "      <td>0.216534</td>\n",
       "    </tr>\n",
       "    <tr>\n",
       "      <th>2</th>\n",
       "      <td>-1.536794</td>\n",
       "      <td>0.425883</td>\n",
       "      <td>1.032908</td>\n",
       "      <td>1.333053</td>\n",
       "      <td>0.240687</td>\n",
       "    </tr>\n",
       "    <tr>\n",
       "      <th>3</th>\n",
       "      <td>0.501521</td>\n",
       "      <td>0.139072</td>\n",
       "      <td>-1.387538</td>\n",
       "      <td>-1.225848</td>\n",
       "      <td>-0.108918</td>\n",
       "    </tr>\n",
       "    <tr>\n",
       "      <th>4</th>\n",
       "      <td>2.063884</td>\n",
       "      <td>0.516950</td>\n",
       "      <td>-1.041760</td>\n",
       "      <td>0.785728</td>\n",
       "      <td>-0.365276</td>\n",
       "    </tr>\n",
       "  </tbody>\n",
       "</table>\n",
       "</div>"
      ],
      "text/plain": [
       "   credit_score       age    tenure   balance  estimated_salary\n",
       "0     -0.326221  0.425883 -1.041760 -1.225848          0.021886\n",
       "1     -0.440036  0.332621 -1.387538  0.117350          0.216534\n",
       "2     -1.536794  0.425883  1.032908  1.333053          0.240687\n",
       "3      0.501521  0.139072 -1.387538 -1.225848         -0.108918\n",
       "4      2.063884  0.516950 -1.041760  0.785728         -0.365276"
      ]
     },
     "execution_count": 29,
     "metadata": {},
     "output_type": "execute_result"
    }
   ],
   "source": [
    "# for scaling any numerical \n",
    "\n",
    "churn_numerical = churn_df[['credit_score','age', 'tenure','balance', 'estimated_salary']]\n",
    "\n",
    "\n",
    "from sklearn.preprocessing import StandardScaler\n",
    "\n",
    "scaler = StandardScaler()\n",
    "\n",
    "scaler.fit(churn_numerical)\n",
    "\n",
    "churn_numerical_scaled = scaler.transform(churn_numerical)\n",
    "\n",
    "churn_numerical_scaled = pd.DataFrame(churn_numerical_scaled, columns = churn_numerical.columns)\n",
    "\n",
    "churn_numerical_scaled.head()"
   ]
  },
  {
   "cell_type": "code",
   "execution_count": 30,
   "metadata": {},
   "outputs": [
    {
     "data": {
      "text/html": [
       "<div>\n",
       "<style scoped>\n",
       "    .dataframe tbody tr th:only-of-type {\n",
       "        vertical-align: middle;\n",
       "    }\n",
       "\n",
       "    .dataframe tbody tr th {\n",
       "        vertical-align: top;\n",
       "    }\n",
       "\n",
       "    .dataframe thead th {\n",
       "        text-align: right;\n",
       "    }\n",
       "</style>\n",
       "<table border=\"1\" class=\"dataframe\">\n",
       "  <thead>\n",
       "    <tr style=\"text-align: right;\">\n",
       "      <th></th>\n",
       "      <th>products_number</th>\n",
       "      <th>credit_card</th>\n",
       "      <th>active_member</th>\n",
       "      <th>churn</th>\n",
       "      <th>country_Germany</th>\n",
       "      <th>country_Spain</th>\n",
       "      <th>gender_Male</th>\n",
       "      <th>credit_score</th>\n",
       "      <th>age</th>\n",
       "      <th>tenure</th>\n",
       "      <th>balance</th>\n",
       "      <th>estimated_salary</th>\n",
       "    </tr>\n",
       "  </thead>\n",
       "  <tbody>\n",
       "    <tr>\n",
       "      <th>0</th>\n",
       "      <td>1</td>\n",
       "      <td>1</td>\n",
       "      <td>1</td>\n",
       "      <td>1</td>\n",
       "      <td>0</td>\n",
       "      <td>0</td>\n",
       "      <td>0</td>\n",
       "      <td>-0.326221</td>\n",
       "      <td>0.425883</td>\n",
       "      <td>-1.041760</td>\n",
       "      <td>-1.225848</td>\n",
       "      <td>0.021886</td>\n",
       "    </tr>\n",
       "    <tr>\n",
       "      <th>1</th>\n",
       "      <td>1</td>\n",
       "      <td>0</td>\n",
       "      <td>1</td>\n",
       "      <td>0</td>\n",
       "      <td>0</td>\n",
       "      <td>1</td>\n",
       "      <td>0</td>\n",
       "      <td>-0.440036</td>\n",
       "      <td>0.332621</td>\n",
       "      <td>-1.387538</td>\n",
       "      <td>0.117350</td>\n",
       "      <td>0.216534</td>\n",
       "    </tr>\n",
       "    <tr>\n",
       "      <th>2</th>\n",
       "      <td>3</td>\n",
       "      <td>1</td>\n",
       "      <td>0</td>\n",
       "      <td>1</td>\n",
       "      <td>0</td>\n",
       "      <td>0</td>\n",
       "      <td>0</td>\n",
       "      <td>-1.536794</td>\n",
       "      <td>0.425883</td>\n",
       "      <td>1.032908</td>\n",
       "      <td>1.333053</td>\n",
       "      <td>0.240687</td>\n",
       "    </tr>\n",
       "    <tr>\n",
       "      <th>3</th>\n",
       "      <td>2</td>\n",
       "      <td>0</td>\n",
       "      <td>0</td>\n",
       "      <td>0</td>\n",
       "      <td>0</td>\n",
       "      <td>0</td>\n",
       "      <td>0</td>\n",
       "      <td>0.501521</td>\n",
       "      <td>0.139072</td>\n",
       "      <td>-1.387538</td>\n",
       "      <td>-1.225848</td>\n",
       "      <td>-0.108918</td>\n",
       "    </tr>\n",
       "    <tr>\n",
       "      <th>4</th>\n",
       "      <td>1</td>\n",
       "      <td>1</td>\n",
       "      <td>1</td>\n",
       "      <td>0</td>\n",
       "      <td>0</td>\n",
       "      <td>1</td>\n",
       "      <td>0</td>\n",
       "      <td>2.063884</td>\n",
       "      <td>0.516950</td>\n",
       "      <td>-1.041760</td>\n",
       "      <td>0.785728</td>\n",
       "      <td>-0.365276</td>\n",
       "    </tr>\n",
       "  </tbody>\n",
       "</table>\n",
       "</div>"
      ],
      "text/plain": [
       "   products_number  credit_card  active_member  churn  country_Germany  \\\n",
       "0                1            1              1      1                0   \n",
       "1                1            0              1      0                0   \n",
       "2                3            1              0      1                0   \n",
       "3                2            0              0      0                0   \n",
       "4                1            1              1      0                0   \n",
       "\n",
       "   country_Spain  gender_Male  credit_score       age    tenure   balance  \\\n",
       "0              0            0     -0.326221  0.425883 -1.041760 -1.225848   \n",
       "1              1            0     -0.440036  0.332621 -1.387538  0.117350   \n",
       "2              0            0     -1.536794  0.425883  1.032908  1.333053   \n",
       "3              0            0      0.501521  0.139072 -1.387538 -1.225848   \n",
       "4              1            0      2.063884  0.516950 -1.041760  0.785728   \n",
       "\n",
       "   estimated_salary  \n",
       "0          0.021886  \n",
       "1          0.216534  \n",
       "2          0.240687  \n",
       "3         -0.108918  \n",
       "4         -0.365276  "
      ]
     },
     "execution_count": 30,
     "metadata": {},
     "output_type": "execute_result"
    }
   ],
   "source": [
    "# We can add these back into the\n",
    "\n",
    "churn_df_scaled = churn_df.drop(churn_numerical, axis =1)\n",
    "\n",
    "churn_df_scaled = pd.concat([churn_df_scaled, churn_numerical_scaled], axis = 1)\n",
    "\n",
    "churn_df_scaled.head(5)"
   ]
  },
  {
   "cell_type": "markdown",
   "metadata": {},
   "source": [
    "### Outliers"
   ]
  },
  {
   "cell_type": "code",
   "execution_count": 31,
   "metadata": {},
   "outputs": [
    {
     "name": "stderr",
     "output_type": "stream",
     "text": [
      "/Users/fatemehkhosravi/opt/anaconda3/lib/python3.8/site-packages/seaborn/_decorators.py:36: FutureWarning: Pass the following variable as a keyword arg: x. From version 0.12, the only valid positional argument will be `data`, and passing other arguments without an explicit keyword will result in an error or misinterpretation.\n",
      "  warnings.warn(\n",
      "/Users/fatemehkhosravi/opt/anaconda3/lib/python3.8/site-packages/seaborn/_decorators.py:36: FutureWarning: Pass the following variable as a keyword arg: x. From version 0.12, the only valid positional argument will be `data`, and passing other arguments without an explicit keyword will result in an error or misinterpretation.\n",
      "  warnings.warn(\n",
      "/Users/fatemehkhosravi/opt/anaconda3/lib/python3.8/site-packages/seaborn/_decorators.py:36: FutureWarning: Pass the following variable as a keyword arg: x. From version 0.12, the only valid positional argument will be `data`, and passing other arguments without an explicit keyword will result in an error or misinterpretation.\n",
      "  warnings.warn(\n",
      "/Users/fatemehkhosravi/opt/anaconda3/lib/python3.8/site-packages/seaborn/_decorators.py:36: FutureWarning: Pass the following variable as a keyword arg: x. From version 0.12, the only valid positional argument will be `data`, and passing other arguments without an explicit keyword will result in an error or misinterpretation.\n",
      "  warnings.warn(\n",
      "/Users/fatemehkhosravi/opt/anaconda3/lib/python3.8/site-packages/seaborn/_decorators.py:36: FutureWarning: Pass the following variable as a keyword arg: x. From version 0.12, the only valid positional argument will be `data`, and passing other arguments without an explicit keyword will result in an error or misinterpretation.\n",
      "  warnings.warn(\n"
     ]
    },
    {
     "data": {
      "text/plain": [
       "<AxesSubplot:xlabel='estimated_salary'>"
      ]
     },
     "execution_count": 31,
     "metadata": {},
     "output_type": "execute_result"
    },
    {
     "data": {
      "image/png": "[encoded data removed]",
      "text/plain": [
       "<Figure size 576x576 with 6 Axes>"
      ]
     },
     "metadata": {
      "needs_background": "light"
     },
     "output_type": "display_data"
    }
   ],
   "source": [
    "fig, axes = plt.subplots(2,3, figsize=(8,8))\n",
    "plt.suptitle('Box plots of credit_score, age, tenure, balance, estimated_salary with outliers')\n",
    "\n",
    "sns.boxplot(churn_df_scaled['credit_score'],ax=axes[0,0])\n",
    "sns.boxplot(churn_df_scaled['age'],ax=axes[0,1])\n",
    "sns.boxplot(churn_df_scaled['tenure'],ax=axes[0,2])\n",
    "sns.boxplot(churn_df_scaled['balance'],ax=axes[1,0])\n",
    "sns.boxplot(churn_df_scaled['estimated_salary'],ax=axes[1,1])"
   ]
  },
  {
   "cell_type": "code",
   "execution_count": 32,
   "metadata": {},
   "outputs": [
    {
     "name": "stdout",
     "output_type": "stream",
     "text": [
      "feature:  credit_score\n",
      "feature:  age\n",
      "feature:  tenure\n",
      "feature:  balance\n",
      "feature:  estimated_salary\n"
     ]
    }
   ],
   "source": [
    "#Boxplot WITH outliers\n",
    "numeric_columns= ['credit_score','age','tenure','balance','estimated_salary']\n",
    "for col_name in numeric_columns:\n",
    "  print('feature: ', col_name)\n",
    "  \n",
    "\n",
    "  #IQR\n",
    "  Q1 = churn_df_scaled[col_name].quantile(0.25)\n",
    "  Q3 = churn_df_scaled[col_name].quantile(0.75)\n",
    "  IQR = Q3-Q1\n",
    "\n",
    "  mean1 = round(churn_df_scaled[col_name].mean(),2)\n",
    "  std1 = round(churn_df_scaled[col_name].std(),2)\n",
    "  median1 = round(churn_df_scaled[col_name].median(),2)\n",
    "  churn_df_scaled = churn_df_scaled[(churn_df_scaled[col_name] > (Q1 - 1.5 * IQR)) & (churn_df_scaled[col_name] < (Q3 + 1.5 * IQR))]"
   ]
  },
  {
   "cell_type": "code",
   "execution_count": 33,
   "metadata": {},
   "outputs": [
    {
     "data": {
      "image/png": "[encoded data removed]",
      "text/plain": [
       "<Figure size 576x288 with 1 Axes>"
      ]
     },
     "metadata": {
      "needs_background": "light"
     },
     "output_type": "display_data"
    },
    {
     "data": {
      "image/png": "[encoded data removed]",
      "text/plain": [
       "<Figure size 576x288 with 1 Axes>"
      ]
     },
     "metadata": {
      "needs_background": "light"
     },
     "output_type": "display_data"
    },
    {
     "data": {
      "image/png": "[encoded data removed]",
      "text/plain": [
       "<Figure size 576x288 with 1 Axes>"
      ]
     },
     "metadata": {
      "needs_background": "light"
     },
     "output_type": "display_data"
    },
    {
     "data": {
      "image/png": "[encoded data removed]",
      "text/plain": [
       "<Figure size 576x288 with 1 Axes>"
      ]
     },
     "metadata": {
      "needs_background": "light"
     },
     "output_type": "display_data"
    },
    {
     "data": {
      "image/png": "[encoded data removed]",
      "text/plain": [
       "<Figure size 576x288 with 1 Axes>"
      ]
     },
     "metadata": {
      "needs_background": "light"
     },
     "output_type": "display_data"
    }
   ],
   "source": [
    "#Boxplot WITHOUT outliers\n",
    "numeric_columns= ['credit_score','age','tenure','balance','estimated_salary'] \n",
    "for col_name in numeric_columns:\n",
    "  plt.figure(figsize = (8,4))\n",
    "  sns.boxplot(x = churn_df_scaled[col_name])"
   ]
  },
  {
   "cell_type": "code",
   "execution_count": 34,
   "metadata": {},
   "outputs": [
    {
     "data": {
      "text/plain": [
       "(9802, 12)"
      ]
     },
     "execution_count": 34,
     "metadata": {},
     "output_type": "execute_result"
    }
   ],
   "source": [
    "churn_df_scaled.shape"
   ]
  },
  {
   "cell_type": "markdown",
   "metadata": {},
   "source": [
    "The number of 198 samples were removed from the data."
   ]
  },
  {
   "cell_type": "markdown",
   "metadata": {},
   "source": [
    "### Imbalance dataset"
   ]
  },
  {
   "cell_type": "code",
   "execution_count": 35,
   "metadata": {},
   "outputs": [
    {
     "data": {
      "text/plain": [
       "0    0.795246\n",
       "1    0.204754\n",
       "Name: churn, dtype: float64"
      ]
     },
     "execution_count": 35,
     "metadata": {},
     "output_type": "execute_result"
    }
   ],
   "source": [
    "churn_df_scaled['churn'].value_counts()/churn_df_scaled.shape[0]"
   ]
  },
  {
   "cell_type": "code",
   "execution_count": 36,
   "metadata": {},
   "outputs": [],
   "source": [
    "# splitting into X and Y\n",
    "\n",
    "X = churn_df_scaled.drop('churn', axis = 1)\n",
    "y =churn_df_scaled['churn']"
   ]
  },
  {
   "cell_type": "code",
   "execution_count": 37,
   "metadata": {},
   "outputs": [
    {
     "data": {
      "text/plain": [
       "0    7795\n",
       "1    2007\n",
       "Name: churn, dtype: int64"
      ]
     },
     "execution_count": 37,
     "metadata": {},
     "output_type": "execute_result"
    }
   ],
   "source": [
    "churn_df_scaled['churn'].value_counts()"
   ]
  },
  {
   "cell_type": "markdown",
   "metadata": {},
   "source": [
    "### SMOTE\n",
    "!pip install imbalanced-learn"
   ]
  },
  {
   "cell_type": "code",
   "execution_count": 38,
   "metadata": {},
   "outputs": [
    {
     "data": {
      "text/plain": [
       "1    7795\n",
       "0    7795\n",
       "Name: churn, dtype: int64"
      ]
     },
     "execution_count": 38,
     "metadata": {},
     "output_type": "execute_result"
    }
   ],
   "source": [
    "smote = SMOTE(sampling_strategy='minority',random_state=0)\n",
    "X_smt, y_smt = smote.fit_resample(X,y)\n",
    "\n",
    "y_smt.value_counts()"
   ]
  },
  {
   "cell_type": "markdown",
   "metadata": {},
   "source": [
    "### Train-Test Spliting"
   ]
  },
  {
   "cell_type": "code",
   "execution_count": 39,
   "metadata": {},
   "outputs": [],
   "source": [
    "# partitioning data into 90% train and 10% test, and then will further split for validation\n",
    "\n",
    "trainX, testX, trainy, testy = train_test_split(X_smt, y_smt, test_size = .1, random_state = 12345)\n",
    "\n",
    "# using 80 / 20 split for train and validation set\n",
    "\n",
    "trainX, validX, trainy, validy = train_test_split(trainX, trainy, test_size = .2, random_state = 12345)"
   ]
  },
  {
   "cell_type": "code",
   "execution_count": 40,
   "metadata": {},
   "outputs": [
    {
     "name": "stdout",
     "output_type": "stream",
     "text": [
      "Test set dimensions:  (1559, 11) \n",
      " Train set dimensions:  (11224, 11) \n",
      " Validation set dimension:  (2807, 11)\n"
     ]
    }
   ],
   "source": [
    "print(\"Test set dimensions: \", testX.shape, \n",
    "      \"\\n Train set dimensions: \", trainX.shape,\n",
    "      \"\\n Validation set dimension: \", validX.shape)"
   ]
  },
  {
   "cell_type": "markdown",
   "metadata": {},
   "source": [
    "## Modeling"
   ]
  },
  {
   "cell_type": "markdown",
   "metadata": {},
   "source": [
    "### K-NN"
   ]
  },
  {
   "cell_type": "markdown",
   "metadata": {},
   "source": [
    "We can see the algorithm tends to pick the number of K=1 for the best value of K, and with this value of K we will be overfit on the training data. To avoiding this, we set the value of K for hyperparameters tuning from 3.\n"
   ]
  },
  {
   "cell_type": "code",
   "execution_count": 44,
   "metadata": {},
   "outputs": [
    {
     "data": {
      "text/html": [
       "<div>\n",
       "<style scoped>\n",
       "    .dataframe tbody tr th:only-of-type {\n",
       "        vertical-align: middle;\n",
       "    }\n",
       "\n",
       "    .dataframe tbody tr th {\n",
       "        vertical-align: top;\n",
       "    }\n",
       "\n",
       "    .dataframe thead th {\n",
       "        text-align: right;\n",
       "    }\n",
       "</style>\n",
       "<table border=\"1\" class=\"dataframe\">\n",
       "  <thead>\n",
       "    <tr style=\"text-align: right;\">\n",
       "      <th></th>\n",
       "      <th>k</th>\n",
       "      <th>accuracy</th>\n",
       "      <th>recall</th>\n",
       "      <th>f1_score</th>\n",
       "    </tr>\n",
       "  </thead>\n",
       "  <tbody>\n",
       "    <tr>\n",
       "      <th>0</th>\n",
       "      <td>1</td>\n",
       "      <td>0.878874</td>\n",
       "      <td>0.946676</td>\n",
       "      <td>0.889395</td>\n",
       "    </tr>\n",
       "    <tr>\n",
       "      <th>1</th>\n",
       "      <td>3</td>\n",
       "      <td>0.862487</td>\n",
       "      <td>0.934211</td>\n",
       "      <td>0.874838</td>\n",
       "    </tr>\n",
       "    <tr>\n",
       "      <th>2</th>\n",
       "      <td>5</td>\n",
       "      <td>0.855362</td>\n",
       "      <td>0.918283</td>\n",
       "      <td>0.867233</td>\n",
       "    </tr>\n",
       "    <tr>\n",
       "      <th>3</th>\n",
       "      <td>7</td>\n",
       "      <td>0.848949</td>\n",
       "      <td>0.909280</td>\n",
       "      <td>0.860984</td>\n",
       "    </tr>\n",
       "    <tr>\n",
       "      <th>4</th>\n",
       "      <td>9</td>\n",
       "      <td>0.841112</td>\n",
       "      <td>0.896814</td>\n",
       "      <td>0.853096</td>\n",
       "    </tr>\n",
       "    <tr>\n",
       "      <th>5</th>\n",
       "      <td>11</td>\n",
       "      <td>0.836836</td>\n",
       "      <td>0.880886</td>\n",
       "      <td>0.847435</td>\n",
       "    </tr>\n",
       "    <tr>\n",
       "      <th>6</th>\n",
       "      <td>13</td>\n",
       "      <td>0.832561</td>\n",
       "      <td>0.880194</td>\n",
       "      <td>0.843958</td>\n",
       "    </tr>\n",
       "    <tr>\n",
       "      <th>7</th>\n",
       "      <td>15</td>\n",
       "      <td>0.833274</td>\n",
       "      <td>0.877424</td>\n",
       "      <td>0.844104</td>\n",
       "    </tr>\n",
       "    <tr>\n",
       "      <th>8</th>\n",
       "      <td>17</td>\n",
       "      <td>0.827574</td>\n",
       "      <td>0.863573</td>\n",
       "      <td>0.837475</td>\n",
       "    </tr>\n",
       "    <tr>\n",
       "      <th>9</th>\n",
       "      <td>19</td>\n",
       "      <td>0.821874</td>\n",
       "      <td>0.860111</td>\n",
       "      <td>0.832440</td>\n",
       "    </tr>\n",
       "    <tr>\n",
       "      <th>10</th>\n",
       "      <td>21</td>\n",
       "      <td>0.820449</td>\n",
       "      <td>0.854571</td>\n",
       "      <td>0.830417</td>\n",
       "    </tr>\n",
       "    <tr>\n",
       "      <th>11</th>\n",
       "      <td>23</td>\n",
       "      <td>0.815461</td>\n",
       "      <td>0.851801</td>\n",
       "      <td>0.826058</td>\n",
       "    </tr>\n",
       "  </tbody>\n",
       "</table>\n",
       "</div>"
      ],
      "text/plain": [
       "     k  accuracy    recall  f1_score\n",
       "0    1  0.878874  0.946676  0.889395\n",
       "1    3  0.862487  0.934211  0.874838\n",
       "2    5  0.855362  0.918283  0.867233\n",
       "3    7  0.848949  0.909280  0.860984\n",
       "4    9  0.841112  0.896814  0.853096\n",
       "5   11  0.836836  0.880886  0.847435\n",
       "6   13  0.832561  0.880194  0.843958\n",
       "7   15  0.833274  0.877424  0.844104\n",
       "8   17  0.827574  0.863573  0.837475\n",
       "9   19  0.821874  0.860111  0.832440\n",
       "10  21  0.820449  0.854571  0.830417\n",
       "11  23  0.815461  0.851801  0.826058"
      ]
     },
     "execution_count": 44,
     "metadata": {},
     "output_type": "execute_result"
    }
   ],
   "source": [
    "# Train a classifier for different values of k\n",
    "knn_results = []\n",
    "for k in range(1, 25, 2):\n",
    "    knn = KNeighborsClassifier(n_neighbors=k).fit(trainX, trainy)\n",
    "    knn_results.append({\n",
    "        'k': k,\n",
    "        'accuracy': accuracy_score(validy, knn.predict(validX)),\n",
    "        'recall': recall_score(validy, knn.predict(validX)),\n",
    "        'f1_score': f1_score(validy, knn.predict(validX))\n",
    "    })\n",
    "\n",
    "# Convert results to a pandas data frame\n",
    "knn_results = pd.DataFrame(knn_results)\n",
    "knn_results"
   ]
  },
  {
   "cell_type": "code",
   "execution_count": 45,
   "metadata": {},
   "outputs": [
    {
     "data": {
      "text/plain": [
       "Text(0, 0.5, 'Metrics score')"
      ]
     },
     "execution_count": 45,
     "metadata": {},
     "output_type": "execute_result"
    },
    {
     "data": {
      "image/png": "[encoded data removed]",
      "text/plain": [
       "<Figure size 432x288 with 1 Axes>"
      ]
     },
     "metadata": {
      "needs_background": "light"
     },
     "output_type": "display_data"
    }
   ],
   "source": [
    "# Plotting K-nn metrics from validation tests\n",
    "\n",
    "# show accuracy by k\n",
    "plt.plot(knn_results.k, knn_results.accuracy, linestyle='-', c='green', label = \"accuracy\")\n",
    "plt.plot(knn_results.k, knn_results.recall, linestyle=':', c='red', label = \"recall\")\n",
    "plt.plot(knn_results.k, knn_results['f1_score'], linestyle='--', c='blue', label = \"f1 score\")\n",
    "plt.legend()\n",
    "plt.title('K vs. Metrics in validation set')\n",
    "plt.xlabel('K')\n",
    "plt.ylabel('Metrics score')"
   ]
  },
  {
   "cell_type": "code",
   "execution_count": 48,
   "metadata": {},
   "outputs": [
    {
     "name": "stdout",
     "output_type": "stream",
     "text": [
      "Fitting 5 folds for each of 28 candidates, totalling 140 fits\n"
     ]
    }
   ],
   "source": [
    "# knn and tuning hyperparameters \n",
    "\n",
    "grid_parameters = [{\n",
    "    'n_neighbors': list(range(3,31,1)),\n",
    "    }]\n",
    "\n",
    "\n",
    "\n",
    "Knn=GridSearchCV(KNeighborsClassifier(),grid_parameters, cv=5, scoring='accuracy', return_train_score=False,verbose=1)\n",
    "Knn.fit(trainX, trainy)\n",
    "knn_clf = Knn.best_estimator_\n"
   ]
  },
  {
   "cell_type": "code",
   "execution_count": 49,
   "metadata": {},
   "outputs": [
    {
     "data": {
      "text/plain": [
       "{'n_neighbors': 4}"
      ]
     },
     "execution_count": 49,
     "metadata": {},
     "output_type": "execute_result"
    }
   ],
   "source": [
    "#best parameters for KNN classifier\n",
    "Knn.best_params_\n"
   ]
  },
  {
   "cell_type": "code",
   "execution_count": 50,
   "metadata": {},
   "outputs": [
    {
     "name": "stdout",
     "output_type": "stream",
     "text": [
      "Confusion Matrix (Accuracy 0.9223)\n",
      "\n",
      "       Prediction\n",
      "Actual    0    1\n",
      "     0 5157  508\n",
      "     1  364 5195\n"
     ]
    }
   ],
   "source": [
    " # predictive performance on training data \n",
    "classificationSummary(trainy, knn_clf.predict(trainX))\n"
   ]
  },
  {
   "cell_type": "code",
   "execution_count": 56,
   "metadata": {},
   "outputs": [
    {
     "name": "stdout",
     "output_type": "stream",
     "text": [
      "\n",
      " Classification report for Knn \\: \n",
      "               precision    recall  f1-score   support\n",
      "\n",
      "           0       0.87      0.85      0.86      1363\n",
      "           1       0.86      0.88      0.87      1444\n",
      "\n",
      "    accuracy                           0.86      2807\n",
      "   macro avg       0.86      0.86      0.86      2807\n",
      "weighted avg       0.86      0.86      0.86      2807\n",
      "\n",
      "Area under curve :  0.8616965387171447 \n",
      "\n"
     ]
    },
    {
     "data": {
      "image/png": "[encoded data removed]",
      "text/plain": [
       "<Figure size 864x864 with 3 Axes>"
      ]
     },
     "metadata": {
      "needs_background": "light"
     },
     "output_type": "display_data"
    }
   ],
   "source": [
    "print (\"\\n Classification report for Knn \\: \\n\",classification_report(validy,knn_clf.predict(validX)))\n",
    "\n",
    "\n",
    "#confusion matrix\n",
    "cm = confusion_matrix(validy,knn_clf.predict(validX))\n",
    "plt.figure(figsize=(12,12))\n",
    "plt.subplot(221)\n",
    "sns.heatmap(cm, fmt = \"d\",annot=True, cmap='Blues')\n",
    "plt.title('Confuion Matrix for Knn')\n",
    "plt.ylabel('True Values')\n",
    "plt.xlabel('Predicted Values')\n",
    "\n",
    "\n",
    "#roc_auc_score\n",
    "model_roc_auc = roc_auc_score(validy,knn_clf.predict(validX)) \n",
    "print (\"Area under curve : \",model_roc_auc,\"\\n\")\n",
    "fpr,tpr,thresholds = roc_curve(validy,knn_clf.predict(validX))\n",
    "\n",
    "plt.subplot(222)\n",
    "plt.plot(fpr, tpr, color='darkorange', lw=1, label = \"Auc : %.3f\" %model_roc_auc)\n",
    "plt.plot([0, 1], [0, 1], color='navy', lw=2, linestyle='--')\n",
    "plt.xlim([0.0, 1.0])\n",
    "plt.ylim([0.0, 1.05])\n",
    "plt.xlabel('False Positive Rate')\n",
    "plt.ylabel('True Positive Rate')\n",
    "plt.title('ROC')\n",
    "plt.legend(loc=\"lower right\")\n",
    "\n",
    "    \n",
    "plt.show()"
   ]
  },
  {
   "cell_type": "markdown",
   "metadata": {},
   "source": [
    "### Random Forest"
   ]
  },
  {
   "cell_type": "code",
   "execution_count": 65,
   "metadata": {},
   "outputs": [],
   "source": [
    "# Train a classifier for different values of n_estimators\n",
    "rf_results = []\n",
    "for x in range(100, 1001, 100):\n",
    "    rf = RandomForestClassifier(n_estimators = x, random_state = 1).fit(trainX, trainy)\n",
    "    rf_results.append({'n_estimators': x, 'accuracy': accuracy_score(validy, rf.predict(validX)), \n",
    "                      'recall': recall_score(validy, rf.predict(validX)),\n",
    "                      'f1_score': f1_score(validy, rf.predict(validX))})\n",
    "\n",
    "    \n",
    "# Convert results to a pandas data frame\n",
    "rf_results = pd.DataFrame(rf_results)"
   ]
  },
  {
   "cell_type": "code",
   "execution_count": 73,
   "metadata": {},
   "outputs": [
    {
     "data": {
      "text/plain": [
       "Text(0, 0.5, 'Metrics score')"
      ]
     },
     "execution_count": 73,
     "metadata": {},
     "output_type": "execute_result"
    },
    {
     "data": {
      "image/png": "[encoded data removed]",
      "text/plain": [
       "<Figure size 432x288 with 1 Axes>"
      ]
     },
     "metadata": {
      "needs_background": "light"
     },
     "output_type": "display_data"
    }
   ],
   "source": [
    "# show accuracy by estimators\n",
    "plt.plot(rf_results['n_estimators'], rf_results.accuracy, linestyle='-', label = \"accuracy\")\n",
    "plt.plot(rf_results['n_estimators'], rf_results.recall, linestyle=':', c='red', label = \"recall\")\n",
    "plt.plot(rf_results['n_estimators'], rf_results['f1_score'], linestyle='--', c='blue', label = \"f1 score\")\n",
    "plt.title('Number of estimators vs. metrics \\n In validation set for Random Forest')\n",
    "plt.legend()\n",
    "plt.xlabel('Estimators')\n",
    "plt.ylabel('Metrics score')"
   ]
  },
  {
   "cell_type": "code",
   "execution_count": 67,
   "metadata": {},
   "outputs": [],
   "source": [
    "# random forest tuning hyperparameters \n",
    "\n",
    "grid_parameters = { \n",
    "    'n_estimators': [200,400,600],\n",
    "    'max_features': ['auto', 'sqrt', 'log2'],\n",
    "    'max_depth' : [4,5,6,7,8],\n",
    "    'criterion' :['gini', 'entropy']\n",
    "}\n",
    "\n",
    "\n",
    "rf= GridSearchCV(RandomForestClassifier(random_state=42), grid_parameters, cv= 5)\n",
    "rf=rf.fit(trainX, trainy)\n",
    "rf_clf=rf.best_estimator_\n"
   ]
  },
  {
   "cell_type": "code",
   "execution_count": 70,
   "metadata": {},
   "outputs": [
    {
     "data": {
      "text/plain": [
       "{'criterion': 'gini',\n",
       " 'max_depth': 8,\n",
       " 'max_features': 'auto',\n",
       " 'n_estimators': 400}"
      ]
     },
     "execution_count": 70,
     "metadata": {},
     "output_type": "execute_result"
    }
   ],
   "source": [
    "#best parameters for random forest classifier\n",
    "rf.best_params_\n"
   ]
  },
  {
   "cell_type": "code",
   "execution_count": 71,
   "metadata": {},
   "outputs": [
    {
     "name": "stdout",
     "output_type": "stream",
     "text": [
      "Confusion Matrix (Accuracy 0.8498)\n",
      "\n",
      "       Prediction\n",
      "Actual    0    1\n",
      "     0 4940  725\n",
      "     1  961 4598\n"
     ]
    }
   ],
   "source": [
    " # predictive performance on training data \n",
    "classificationSummary(trainy, rf_clf.predict(trainX))"
   ]
  },
  {
   "cell_type": "code",
   "execution_count": 74,
   "metadata": {},
   "outputs": [
    {
     "name": "stdout",
     "output_type": "stream",
     "text": [
      "\n",
      " Classification report for Random Forest \\: \n",
      "               precision    recall  f1-score   support\n",
      "\n",
      "           0       0.79      0.86      0.83      1363\n",
      "           1       0.86      0.79      0.82      1444\n",
      "\n",
      "    accuracy                           0.82      2807\n",
      "   macro avg       0.83      0.83      0.82      2807\n",
      "weighted avg       0.83      0.82      0.82      2807\n",
      "\n",
      "Area under curve :  0.8251199590279711 \n",
      "\n"
     ]
    },
    {
     "data": {
      "image/png": "[encoded data removed]",
      "text/plain": [
       "<Figure size 864x864 with 3 Axes>"
      ]
     },
     "metadata": {
      "needs_background": "light"
     },
     "output_type": "display_data"
    }
   ],
   "source": [
    "print (\"\\n Classification report for Random Forest \\: \\n\",classification_report(validy,rf_clf.predict(validX)))\n",
    "\n",
    "\n",
    "#confusion matrix\n",
    "cm = confusion_matrix(validy,rf_clf.predict(validX))\n",
    "plt.figure(figsize=(12,12))\n",
    "plt.subplot(221)\n",
    "sns.heatmap(cm, fmt = \"d\",annot=True, cmap='Blues')\n",
    "plt.title('Confuion Matrix for Random Forest')\n",
    "plt.ylabel('True Values')\n",
    "plt.xlabel('Predicted Values')\n",
    "\n",
    "\n",
    "#roc_auc_score\n",
    "model_roc_auc = roc_auc_score(validy,rf_clf.predict(validX)) \n",
    "print (\"Area under curve : \",model_roc_auc,\"\\n\")\n",
    "fpr,tpr,thresholds = roc_curve(validy,rf_clf.predict(validX))\n",
    "\n",
    "plt.subplot(222)\n",
    "plt.plot(fpr, tpr, color='darkorange', lw=1, label = \"Auc : %.3f\" %model_roc_auc)\n",
    "plt.plot([0, 1], [0, 1], color='navy', lw=2, linestyle='--')\n",
    "plt.xlim([0.0, 1.0])\n",
    "plt.ylim([0.0, 1.05])\n",
    "plt.xlabel('False Positive Rate')\n",
    "plt.ylabel('True Positive Rate')\n",
    "plt.title('ROC')\n",
    "plt.legend(loc=\"lower right\")\n",
    "\n",
    "    \n",
    "plt.show()"
   ]
  },
  {
   "cell_type": "markdown",
   "metadata": {},
   "source": [
    "### Decision Tree"
   ]
  },
  {
   "cell_type": "code",
   "execution_count": 83,
   "metadata": {},
   "outputs": [],
   "source": [
    "dt_results = []\n",
    "criterion = [\"gini\", \"entropy\"]\n",
    "\n",
    "for x in criterion:\n",
    "    dt = DecisionTreeClassifier(criterion = x, random_state = 1).fit(trainX, trainy)\n",
    "    dt_results.append({'criterion': x, 'accuracy': accuracy_score(validy, dt.predict(validX)), \n",
    "                      'recall': recall_score(validy, dt.predict(validX)),\n",
    "                      'f1_score': f1_score(validy, dt.predict(validX))})\n",
    "    \n",
    "\n",
    "# Convert results to a pandas data frame\n",
    "dt_results = pd.DataFrame(dt_results)"
   ]
  },
  {
   "cell_type": "code",
   "execution_count": 84,
   "metadata": {},
   "outputs": [
    {
     "data": {
      "text/html": [
       "<div>\n",
       "<style scoped>\n",
       "    .dataframe tbody tr th:only-of-type {\n",
       "        vertical-align: middle;\n",
       "    }\n",
       "\n",
       "    .dataframe tbody tr th {\n",
       "        vertical-align: top;\n",
       "    }\n",
       "\n",
       "    .dataframe thead th {\n",
       "        text-align: right;\n",
       "    }\n",
       "</style>\n",
       "<table border=\"1\" class=\"dataframe\">\n",
       "  <thead>\n",
       "    <tr style=\"text-align: right;\">\n",
       "      <th></th>\n",
       "      <th>criterion</th>\n",
       "      <th>accuracy</th>\n",
       "      <th>recall</th>\n",
       "      <th>f1_score</th>\n",
       "    </tr>\n",
       "  </thead>\n",
       "  <tbody>\n",
       "    <tr>\n",
       "      <th>0</th>\n",
       "      <td>gini</td>\n",
       "      <td>0.820449</td>\n",
       "      <td>0.835180</td>\n",
       "      <td>0.827160</td>\n",
       "    </tr>\n",
       "    <tr>\n",
       "      <th>1</th>\n",
       "      <td>entropy</td>\n",
       "      <td>0.820093</td>\n",
       "      <td>0.817175</td>\n",
       "      <td>0.823735</td>\n",
       "    </tr>\n",
       "  </tbody>\n",
       "</table>\n",
       "</div>"
      ],
      "text/plain": [
       "  criterion  accuracy    recall  f1_score\n",
       "0      gini  0.820449  0.835180  0.827160\n",
       "1   entropy  0.820093  0.817175  0.823735"
      ]
     },
     "execution_count": 84,
     "metadata": {},
     "output_type": "execute_result"
    }
   ],
   "source": [
    "dt_results.sort_values(by=[\"accuracy\"],ascending=False)"
   ]
  },
  {
   "cell_type": "code",
   "execution_count": 85,
   "metadata": {},
   "outputs": [],
   "source": [
    "dt_results_depth = []\n",
    "\n",
    "for x in range(2, 30, 2):\n",
    "    dt = DecisionTreeClassifier(max_depth = x, criterion = \"entropy\", random_state = 1).fit(trainX, trainy)\n",
    "    dt_results_depth.append({'max_depth': x, 'accuracy': accuracy_score(validy, dt.predict(validX)), \n",
    "                      'recall': recall_score(validy, dt.predict(validX)),\n",
    "                      'f1_score': f1_score(validy, dt.predict(validX))})\n",
    "dt_results_depth = pd.DataFrame(dt_results_depth)"
   ]
  },
  {
   "cell_type": "code",
   "execution_count": 86,
   "metadata": {},
   "outputs": [
    {
     "data": {
      "text/html": [
       "<div>\n",
       "<style scoped>\n",
       "    .dataframe tbody tr th:only-of-type {\n",
       "        vertical-align: middle;\n",
       "    }\n",
       "\n",
       "    .dataframe tbody tr th {\n",
       "        vertical-align: top;\n",
       "    }\n",
       "\n",
       "    .dataframe thead th {\n",
       "        text-align: right;\n",
       "    }\n",
       "</style>\n",
       "<table border=\"1\" class=\"dataframe\">\n",
       "  <thead>\n",
       "    <tr style=\"text-align: right;\">\n",
       "      <th></th>\n",
       "      <th>max_depth</th>\n",
       "      <th>accuracy</th>\n",
       "      <th>recall</th>\n",
       "      <th>f1_score</th>\n",
       "    </tr>\n",
       "  </thead>\n",
       "  <tbody>\n",
       "    <tr>\n",
       "      <th>0</th>\n",
       "      <td>2</td>\n",
       "      <td>0.732811</td>\n",
       "      <td>0.681440</td>\n",
       "      <td>0.724062</td>\n",
       "    </tr>\n",
       "    <tr>\n",
       "      <th>1</th>\n",
       "      <td>4</td>\n",
       "      <td>0.762024</td>\n",
       "      <td>0.822022</td>\n",
       "      <td>0.780408</td>\n",
       "    </tr>\n",
       "    <tr>\n",
       "      <th>2</th>\n",
       "      <td>6</td>\n",
       "      <td>0.791236</td>\n",
       "      <td>0.785319</td>\n",
       "      <td>0.794674</td>\n",
       "    </tr>\n",
       "    <tr>\n",
       "      <th>3</th>\n",
       "      <td>8</td>\n",
       "      <td>0.797292</td>\n",
       "      <td>0.755540</td>\n",
       "      <td>0.793166</td>\n",
       "    </tr>\n",
       "    <tr>\n",
       "      <th>4</th>\n",
       "      <td>10</td>\n",
       "      <td>0.796580</td>\n",
       "      <td>0.757618</td>\n",
       "      <td>0.793041</td>\n",
       "    </tr>\n",
       "    <tr>\n",
       "      <th>5</th>\n",
       "      <td>12</td>\n",
       "      <td>0.801211</td>\n",
       "      <td>0.785319</td>\n",
       "      <td>0.802548</td>\n",
       "    </tr>\n",
       "    <tr>\n",
       "      <th>6</th>\n",
       "      <td>14</td>\n",
       "      <td>0.799786</td>\n",
       "      <td>0.786011</td>\n",
       "      <td>0.801554</td>\n",
       "    </tr>\n",
       "    <tr>\n",
       "      <th>7</th>\n",
       "      <td>16</td>\n",
       "      <td>0.808693</td>\n",
       "      <td>0.806787</td>\n",
       "      <td>0.812696</td>\n",
       "    </tr>\n",
       "    <tr>\n",
       "      <th>8</th>\n",
       "      <td>18</td>\n",
       "      <td>0.815461</td>\n",
       "      <td>0.804017</td>\n",
       "      <td>0.817606</td>\n",
       "    </tr>\n",
       "    <tr>\n",
       "      <th>9</th>\n",
       "      <td>20</td>\n",
       "      <td>0.818311</td>\n",
       "      <td>0.808864</td>\n",
       "      <td>0.820801</td>\n",
       "    </tr>\n",
       "    <tr>\n",
       "      <th>10</th>\n",
       "      <td>22</td>\n",
       "      <td>0.815461</td>\n",
       "      <td>0.816482</td>\n",
       "      <td>0.819889</td>\n",
       "    </tr>\n",
       "    <tr>\n",
       "      <th>11</th>\n",
       "      <td>24</td>\n",
       "      <td>0.820449</td>\n",
       "      <td>0.815789</td>\n",
       "      <td>0.823776</td>\n",
       "    </tr>\n",
       "    <tr>\n",
       "      <th>12</th>\n",
       "      <td>26</td>\n",
       "      <td>0.821518</td>\n",
       "      <td>0.818560</td>\n",
       "      <td>0.825131</td>\n",
       "    </tr>\n",
       "    <tr>\n",
       "      <th>13</th>\n",
       "      <td>28</td>\n",
       "      <td>0.821518</td>\n",
       "      <td>0.817175</td>\n",
       "      <td>0.824886</td>\n",
       "    </tr>\n",
       "  </tbody>\n",
       "</table>\n",
       "</div>"
      ],
      "text/plain": [
       "    max_depth  accuracy    recall  f1_score\n",
       "0           2  0.732811  0.681440  0.724062\n",
       "1           4  0.762024  0.822022  0.780408\n",
       "2           6  0.791236  0.785319  0.794674\n",
       "3           8  0.797292  0.755540  0.793166\n",
       "4          10  0.796580  0.757618  0.793041\n",
       "5          12  0.801211  0.785319  0.802548\n",
       "6          14  0.799786  0.786011  0.801554\n",
       "7          16  0.808693  0.806787  0.812696\n",
       "8          18  0.815461  0.804017  0.817606\n",
       "9          20  0.818311  0.808864  0.820801\n",
       "10         22  0.815461  0.816482  0.819889\n",
       "11         24  0.820449  0.815789  0.823776\n",
       "12         26  0.821518  0.818560  0.825131\n",
       "13         28  0.821518  0.817175  0.824886"
      ]
     },
     "execution_count": 86,
     "metadata": {},
     "output_type": "execute_result"
    }
   ],
   "source": [
    "dt_results_depth"
   ]
  },
  {
   "cell_type": "code",
   "execution_count": 88,
   "metadata": {},
   "outputs": [
    {
     "data": {
      "text/plain": [
       "Text(0, 0.5, 'Metrics score')"
      ]
     },
     "execution_count": 88,
     "metadata": {},
     "output_type": "execute_result"
    },
    {
     "data": {
      "image/png": "[encoded data removed]",
      "text/plain": [
       "<Figure size 432x288 with 1 Axes>"
      ]
     },
     "metadata": {
      "needs_background": "light"
     },
     "output_type": "display_data"
    }
   ],
   "source": [
    "# show accuracy by depth\n",
    "plt.plot(dt_results_depth['max_depth'], dt_results_depth.accuracy, linestyle='-', label = \"accuracy\")\n",
    "plt.plot(dt_results_depth['max_depth'], dt_results_depth.recall, linestyle=':', c='red', label = \"recall\")\n",
    "plt.plot(dt_results_depth['max_depth'], dt_results_depth['f1_score'], linestyle='--', c='blue', label = \"f1 score\")\n",
    "plt.title('Number of estimators vs. metrics \\n In validation set for decision tree \\n Using Entropy Loss')\n",
    "plt.legend()\n",
    "plt.xlabel('Max depth')\n",
    "plt.ylabel('Metrics score')"
   ]
  },
  {
   "cell_type": "code",
   "execution_count": 89,
   "metadata": {},
   "outputs": [
    {
     "name": "stdout",
     "output_type": "stream",
     "text": [
      "Initial score:  0.8058631381283025\n",
      "Initial parameters:  {'max_depth': 40, 'min_impurity_decrease': 0, 'min_samples_split': 20}\n"
     ]
    }
   ],
   "source": [
    "# decisin tree tuning hyperparameters\n",
    "\n",
    "# initial guess for parameters\n",
    "grid_parameters = {\n",
    "    'max_depth': [1,5,10, 20, 30, 40],\n",
    "    'min_samples_split': [20, 40, 60, 80, 100],\n",
    "    'min_impurity_decrease': [0, 0.0005, 0.001, 0.005, 0.01],\n",
    "}\n",
    "tree = GridSearchCV(DecisionTreeClassifier(), grid_parameters, cv=5, n_jobs=-1)\n",
    "tree.fit(trainX, trainy)\n",
    "print('Initial score: ',tree.best_score_)\n",
    "print('Initial parameters: ', tree.best_params_)\n",
    "\n"
   ]
  },
  {
   "cell_type": "code",
   "execution_count": 90,
   "metadata": {},
   "outputs": [
    {
     "name": "stdout",
     "output_type": "stream",
     "text": [
      "Improved score:  0.8084468952594198\n",
      "Improved parameters:  {'max_depth': 34, 'min_impurity_decrease': 0, 'min_samples_split': 18}\n"
     ]
    }
   ],
   "source": [
    "# Adapt grid based on result from initial grid search\n",
    "grid_parameters = {\n",
    "    'max_depth': list(range(30, 50)),\n",
    "    'min_samples_split': list(range(15, 30)),\n",
    "    'min_impurity_decrease': [0, 0.001, 0.0011],\n",
    "}\n",
    "tree = GridSearchCV(DecisionTreeClassifier(), grid_parameters, cv=5, n_jobs=-1)\n",
    "tree.fit(trainX, trainy)\n",
    "print('Improved score: ',tree.best_score_)\n",
    "print('Improved parameters: ', tree.best_params_)\n",
    "tree_clf = tree.best_estimator_\n"
   ]
  },
  {
   "cell_type": "code",
   "execution_count": 312,
   "metadata": {},
   "outputs": [
    {
     "data": {
      "text/plain": [
       "{'max_depth': 45, 'min_impurity_decrease': 0, 'min_samples_split': 17}"
      ]
     },
     "execution_count": 312,
     "metadata": {},
     "output_type": "execute_result"
    }
   ],
   "source": [
    "#best parameters for decision tree classifier\n",
    "tree.best_params_"
   ]
  },
  {
   "cell_type": "code",
   "execution_count": 91,
   "metadata": {},
   "outputs": [
    {
     "name": "stdout",
     "output_type": "stream",
     "text": [
      "Confusion Matrix (Accuracy 0.9231)\n",
      "\n",
      "       Prediction\n",
      "Actual    0    1\n",
      "     0 5315  350\n",
      "     1  513 5046\n"
     ]
    }
   ],
   "source": [
    " # predictive performance on training data \n",
    "classificationSummary(trainy, tree_clf.predict(trainX))\n"
   ]
  },
  {
   "cell_type": "code",
   "execution_count": 92,
   "metadata": {},
   "outputs": [
    {
     "name": "stdout",
     "output_type": "stream",
     "text": [
      "\n",
      " Classification report for Decision tree \\: \n",
      "               precision    recall  f1-score   support\n",
      "\n",
      "           0       0.80      0.85      0.82      1363\n",
      "           1       0.85      0.80      0.82      1444\n",
      "\n",
      "    accuracy                           0.82      2807\n",
      "   macro avg       0.83      0.83      0.82      2807\n",
      "weighted avg       0.83      0.82      0.82      2807\n",
      "\n",
      "Area under curve :  0.825421507876344 \n",
      "\n"
     ]
    },
    {
     "data": {
      "image/png": "[encoded data removed]",
      "text/plain": [
       "<Figure size 864x864 with 3 Axes>"
      ]
     },
     "metadata": {
      "needs_background": "light"
     },
     "output_type": "display_data"
    }
   ],
   "source": [
    "print (\"\\n Classification report for Decision tree \\: \\n\",classification_report(validy,tree_clf.predict(validX)))\n",
    "\n",
    "\n",
    "#confusion matrix\n",
    "cm = confusion_matrix(validy,tree_clf.predict(validX))\n",
    "plt.figure(figsize=(12,12))\n",
    "plt.subplot(221)\n",
    "sns.heatmap(cm, fmt = \"d\",annot=True, cmap='Blues')\n",
    "plt.title('Confuion Matrix for Decision tree')\n",
    "plt.ylabel('True Values')\n",
    "plt.xlabel('Predicted Values')\n",
    "\n",
    "\n",
    "#roc_auc_score\n",
    "model_roc_auc = roc_auc_score(validy,tree_clf.predict(validX)) \n",
    "print (\"Area under curve : \",model_roc_auc,\"\\n\")\n",
    "fpr,tpr,thresholds = roc_curve(validy,tree_clf.predict(validX))\n",
    "\n",
    "plt.subplot(222)\n",
    "plt.plot(fpr, tpr, color='darkorange', lw=1, label = \"Auc : %.3f\" %model_roc_auc)\n",
    "plt.plot([0, 1], [0, 1], color='navy', lw=2, linestyle='--')\n",
    "plt.xlim([0.0, 1.0])\n",
    "plt.ylim([0.0, 1.05])\n",
    "plt.xlabel('False Positive Rate')\n",
    "plt.ylabel('True Positive Rate')\n",
    "plt.title('ROC')\n",
    "plt.legend(loc=\"lower right\")\n",
    "\n",
    "    \n",
    "plt.show()"
   ]
  },
  {
   "cell_type": "markdown",
   "metadata": {},
   "source": [
    "### Logistic Regression"
   ]
  },
  {
   "cell_type": "code",
   "execution_count": 98,
   "metadata": {},
   "outputs": [
    {
     "data": {
      "text/plain": [
       "LogisticRegression(C=1e+42, solver='liblinear')"
      ]
     },
     "execution_count": 98,
     "metadata": {},
     "output_type": "execute_result"
    }
   ],
   "source": [
    "lr = LogisticRegression(penalty=\"l2\", C=1e42, solver='liblinear')\n",
    "lr.fit(trainX, trainy)"
   ]
  },
  {
   "cell_type": "code",
   "execution_count": 99,
   "metadata": {},
   "outputs": [
    {
     "name": "stdout",
     "output_type": "stream",
     "text": [
      "intercept  1.0833621553645938\n",
      "       products_number  credit_card  active_member  country_Germany  \\\n",
      "coeff        -0.306953    -0.173466       -1.22963         0.600088   \n",
      "\n",
      "       country_Spain  gender_Male  credit_score       age   tenure   balance  \\\n",
      "coeff      -0.393587    -0.759888     -0.009186  1.053379 -0.03515  0.184553   \n",
      "\n",
      "       estimated_salary  \n",
      "coeff          0.011039  \n",
      "AIC 4113.562643057266\n"
     ]
    }
   ],
   "source": [
    "print('intercept ', lr.intercept_[0])\n",
    "print(pd.DataFrame({'coeff': lr.coef_[0]}, index=X.columns).transpose())\n",
    "\n",
    "print('AIC', AIC_score(validy, lr.predict(validX), df = len(trainX.columns) + 1))"
   ]
  },
  {
   "cell_type": "markdown",
   "metadata": {},
   "source": [
    "Positive correlations for factors like age and country Germany are linked to increased odds of a client leaving the bank. On the other hand, variables with negative coefficients are linked to staying in the bank, including having a strong credit score, a high wage, being an active member, and having a high credit score.\n"
   ]
  },
  {
   "cell_type": "code",
   "execution_count": 100,
   "metadata": {},
   "outputs": [],
   "source": [
    "#Logistic Regression and tuning hyperparameters \n",
    "grid_parameters = {'C': [0.0001,0.001,0.01,0.1, 0.5, 1, 5, 10, 50, 100]}\n",
    "lr= GridSearchCV(LogisticRegression(solver='liblinear',random_state=42), \n",
    "                 grid_parameters, cv=5, scoring=\"accuracy\")\n",
    "lr.fit(trainX,trainy)\n",
    "lr_clf=lr.best_estimator_"
   ]
  },
  {
   "cell_type": "code",
   "execution_count": 101,
   "metadata": {},
   "outputs": [
    {
     "data": {
      "text/plain": [
       "{'C': 0.01}"
      ]
     },
     "execution_count": 101,
     "metadata": {},
     "output_type": "execute_result"
    }
   ],
   "source": [
    "#best parameters for logistic regression classifier\n",
    "lr.best_params_"
   ]
  },
  {
   "cell_type": "code",
   "execution_count": 102,
   "metadata": {},
   "outputs": [
    {
     "name": "stdout",
     "output_type": "stream",
     "text": [
      "Confusion Matrix (Accuracy 0.7350)\n",
      "\n",
      "       Prediction\n",
      "Actual    0    1\n",
      "     0 4211 1454\n",
      "     1 1520 4039\n"
     ]
    }
   ],
   "source": [
    " # predictive performance on training data \n",
    "classificationSummary(trainy, lr_clf.predict(trainX))\n"
   ]
  },
  {
   "cell_type": "code",
   "execution_count": 103,
   "metadata": {},
   "outputs": [
    {
     "name": "stdout",
     "output_type": "stream",
     "text": [
      "\n",
      " Classification report for Logistic Regression \\: \n",
      "               precision    recall  f1-score   support\n",
      "\n",
      "           0       0.72      0.77      0.75      1363\n",
      "           1       0.77      0.72      0.75      1444\n",
      "\n",
      "    accuracy                           0.75      2807\n",
      "   macro avg       0.75      0.75      0.75      2807\n",
      "weighted avg       0.75      0.75      0.75      2807\n",
      "\n",
      "Area under curve :  0.7477966864684591 \n",
      "\n"
     ]
    },
    {
     "data": {
      "image/png": "[encoded data removed]",
      "text/plain": [
       "<Figure size 864x864 with 3 Axes>"
      ]
     },
     "metadata": {
      "needs_background": "light"
     },
     "output_type": "display_data"
    }
   ],
   "source": [
    "print (\"\\n Classification report for Logistic Regression \\: \\n\",classification_report(validy,lr_clf.predict(validX)))\n",
    "\n",
    "\n",
    "#confusion matrix\n",
    "cm = confusion_matrix(validy,lr_clf.predict(validX))\n",
    "plt.figure(figsize=(12,12))\n",
    "plt.subplot(221)\n",
    "sns.heatmap(cm, fmt = \"d\",annot=True, cmap='Blues')\n",
    "plt.title('Confuion Matrix for Logistic Regression')\n",
    "plt.ylabel('True Values')\n",
    "plt.xlabel('Predicted Values')\n",
    "\n",
    "\n",
    "#roc_auc_score\n",
    "model_roc_auc = roc_auc_score(validy,lr_clf.predict(validX)) \n",
    "print (\"Area under curve : \",model_roc_auc,\"\\n\")\n",
    "fpr,tpr,thresholds = roc_curve(validy,lr_clf.predict(validX))\n",
    "\n",
    "plt.subplot(222)\n",
    "plt.plot(fpr, tpr, color='darkorange', lw=1, label = \"Auc : %.3f\" %model_roc_auc)\n",
    "plt.plot([0, 1], [0, 1], color='navy', lw=2, linestyle='--')\n",
    "plt.xlim([0.0, 1.0])\n",
    "plt.ylim([0.0, 1.05])\n",
    "plt.xlabel('False Positive Rate')\n",
    "plt.ylabel('True Positive Rate')\n",
    "plt.title('ROC')\n",
    "plt.legend(loc=\"lower right\")\n",
    "\n",
    "    \n",
    "plt.show()"
   ]
  },
  {
   "cell_type": "markdown",
   "metadata": {},
   "source": [
    "### XGBoost"
   ]
  },
  {
   "cell_type": "code",
   "execution_count": 113,
   "metadata": {},
   "outputs": [
    {
     "name": "stdout",
     "output_type": "stream",
     "text": [
      "Fitting 5 folds for each of 20 candidates, totalling 100 fits\n"
     ]
    },
    {
     "name": "stderr",
     "output_type": "stream",
     "text": [
      "/Users/fatemehkhosravi/opt/anaconda3/lib/python3.8/site-packages/sklearn/metrics/_classification.py:2283: RuntimeWarning: divide by zero encountered in log\n",
      "  loss = -(transformed_labels * np.log(y_pred)).sum(axis=1)\n",
      "/Users/fatemehkhosravi/opt/anaconda3/lib/python3.8/site-packages/sklearn/metrics/_classification.py:2283: RuntimeWarning: invalid value encountered in multiply\n",
      "  loss = -(transformed_labels * np.log(y_pred)).sum(axis=1)\n",
      "/Users/fatemehkhosravi/opt/anaconda3/lib/python3.8/site-packages/sklearn/metrics/_classification.py:2283: RuntimeWarning: divide by zero encountered in log\n",
      "  loss = -(transformed_labels * np.log(y_pred)).sum(axis=1)\n",
      "/Users/fatemehkhosravi/opt/anaconda3/lib/python3.8/site-packages/sklearn/metrics/_classification.py:2283: RuntimeWarning: invalid value encountered in multiply\n",
      "  loss = -(transformed_labels * np.log(y_pred)).sum(axis=1)\n",
      "/Users/fatemehkhosravi/opt/anaconda3/lib/python3.8/site-packages/sklearn/model_selection/_search.py:922: UserWarning: One or more of the test scores are non-finite: [-0.35927655 -0.30890526 -0.26832484 -0.26118522 -0.28778801 -0.25783469\n",
      " -0.24712545 -0.2481034  -0.26342934 -0.24685316 -0.25409804         nan\n",
      " -0.24828877 -0.24704456 -0.27001744 -0.28167072 -0.24772739 -0.25922802\n",
      " -0.28317321         nan]\n",
      "  warnings.warn(\n"
     ]
    }
   ],
   "source": [
    "# xgb and tuning hyperparameters \n",
    "\n",
    "xgb = GridSearchCV(XGBClassifier(),{'max_depth': [2,4,6,8,10],\n",
    "                    'n_estimators': [50,100,200,250]}, \n",
    "                    verbose=1, \n",
    "                    scoring='neg_log_loss')\n",
    "\n",
    "xgb.fit(trainX,trainy)\n",
    "xgb_clf=xgb.best_estimator_\n"
   ]
  },
  {
   "cell_type": "code",
   "execution_count": 114,
   "metadata": {},
   "outputs": [
    {
     "data": {
      "text/plain": [
       "{'max_depth': 6, 'n_estimators': 100}"
      ]
     },
     "execution_count": 114,
     "metadata": {},
     "output_type": "execute_result"
    }
   ],
   "source": [
    "#best parameters for xgboost classifier\n",
    "xgb.best_params_"
   ]
  },
  {
   "cell_type": "code",
   "execution_count": 115,
   "metadata": {},
   "outputs": [
    {
     "name": "stdout",
     "output_type": "stream",
     "text": [
      "Confusion Matrix (Accuracy 0.9658)\n",
      "\n",
      "       Prediction\n",
      "Actual    0    1\n",
      "     0 5565  100\n",
      "     1  284 5275\n"
     ]
    }
   ],
   "source": [
    " # predictive performance on training data \n",
    "classificationSummary(trainy, xgb_clf.predict(trainX))"
   ]
  },
  {
   "cell_type": "code",
   "execution_count": 116,
   "metadata": {},
   "outputs": [
    {
     "name": "stdout",
     "output_type": "stream",
     "text": [
      "\n",
      " Classification report for XGBoost \\: \n",
      "               precision    recall  f1-score   support\n",
      "\n",
      "           0       0.87      0.93      0.90      1363\n",
      "           1       0.93      0.86      0.90      1444\n",
      "\n",
      "    accuracy                           0.90      2807\n",
      "   macro avg       0.90      0.90      0.90      2807\n",
      "weighted avg       0.90      0.90      0.90      2807\n",
      "\n",
      "Area under curve :  0.8990969793290423 \n",
      "\n"
     ]
    },
    {
     "data": {
      "image/png": "[encoded data removed]",
      "text/plain": [
       "<Figure size 864x864 with 3 Axes>"
      ]
     },
     "metadata": {
      "needs_background": "light"
     },
     "output_type": "display_data"
    }
   ],
   "source": [
    "print (\"\\n Classification report for XGBoost \\: \\n\",classification_report(validy,xgb_clf.predict(validX)))\n",
    "\n",
    "\n",
    "#confusion matrix\n",
    "cm = confusion_matrix(validy,xgb_clf.predict(validX))\n",
    "plt.figure(figsize=(12,12))\n",
    "plt.subplot(221)\n",
    "sns.heatmap(cm, fmt = \"d\",annot=True, cmap='Blues')\n",
    "plt.title('Confuion Matrix for XGBoost')\n",
    "plt.ylabel('True Values')\n",
    "plt.xlabel('Predicted Values')\n",
    "\n",
    "\n",
    "#roc_auc_score\n",
    "model_roc_auc = roc_auc_score(validy,xgb_clf.predict(validX)) \n",
    "print (\"Area under curve : \",model_roc_auc,\"\\n\")\n",
    "fpr,tpr,thresholds = roc_curve(validy,xgb_clf.predict(validX))\n",
    "\n",
    "plt.subplot(222)\n",
    "plt.plot(fpr, tpr, color='darkorange', lw=1, label = \"Auc : %.3f\" %model_roc_auc)\n",
    "plt.plot([0, 1], [0, 1], color='navy', lw=2, linestyle='--')\n",
    "plt.xlim([0.0, 1.0])\n",
    "plt.ylim([0.0, 1.05])\n",
    "plt.xlabel('False Positive Rate')\n",
    "plt.ylabel('True Positive Rate')\n",
    "plt.title('ROC')\n",
    "plt.legend(loc=\"lower right\")\n",
    "\n",
    "    \n",
    "plt.show()"
   ]
  },
  {
   "cell_type": "markdown",
   "metadata": {},
   "source": [
    "### Support Vector machine (SVM)"
   ]
  },
  {
   "cell_type": "code",
   "execution_count": 117,
   "metadata": {},
   "outputs": [],
   "source": [
    "# SVM and tuning hyperparameters \n",
    "grid_parameters = {'C': [ 0.1, 1, 10,12,15,20,25], \n",
    "          'gamma': [0.001, 0.01, 1,5,10]}\n",
    "\n",
    "model = SVC()\n",
    "svc= GridSearchCV(SVC(), grid_parameters)\n",
    "svc.fit(trainX, trainy)\n",
    "svc_clf=svc.best_estimator_"
   ]
  },
  {
   "cell_type": "code",
   "execution_count": 118,
   "metadata": {},
   "outputs": [
    {
     "data": {
      "text/plain": [
       "{'C': 20, 'gamma': 1}"
      ]
     },
     "execution_count": 118,
     "metadata": {},
     "output_type": "execute_result"
    }
   ],
   "source": [
    "#best parameters for decision tree classifier\n",
    "svc.best_params_"
   ]
  },
  {
   "cell_type": "code",
   "execution_count": 120,
   "metadata": {},
   "outputs": [
    {
     "name": "stdout",
     "output_type": "stream",
     "text": [
      "Confusion Matrix (Accuracy 0.9989)\n",
      "\n",
      "       Prediction\n",
      "Actual    0    1\n",
      "     0 5656    9\n",
      "     1    3 5556\n"
     ]
    }
   ],
   "source": [
    " # predictive performance on training data \n",
    "classificationSummary(trainy, svc_clf.predict(trainX))"
   ]
  },
  {
   "cell_type": "code",
   "execution_count": 123,
   "metadata": {},
   "outputs": [
    {
     "name": "stdout",
     "output_type": "stream",
     "text": [
      "\n",
      " Classification report for SVM \\: \n",
      "               precision    recall  f1-score   support\n",
      "\n",
      "           0       0.91      0.87      0.89      1363\n",
      "           1       0.88      0.92      0.90      1444\n",
      "\n",
      "    accuracy                           0.90      2807\n",
      "   macro avg       0.90      0.90      0.90      2807\n",
      "weighted avg       0.90      0.90      0.90      2807\n",
      "\n",
      "Area under curve :  0.8955342825728646 \n",
      "\n"
     ]
    },
    {
     "data": {
      "image/png": "[encoded data removed]",
      "text/plain": [
       "<Figure size 864x864 with 3 Axes>"
      ]
     },
     "metadata": {
      "needs_background": "light"
     },
     "output_type": "display_data"
    }
   ],
   "source": [
    "print (\"\\n Classification report for SVM \\: \\n\",classification_report(validy,svc_clf.predict(validX)))\n",
    "\n",
    "\n",
    "#confusion matrix\n",
    "cm = confusion_matrix(validy,svc_clf.predict(validX))\n",
    "plt.figure(figsize=(12,12))\n",
    "plt.subplot(221)\n",
    "sns.heatmap(cm, fmt = \"d\",annot=True, cmap='Blues')\n",
    "plt.title('Confuion Matrix for SVM')\n",
    "plt.ylabel('True Values')\n",
    "plt.xlabel('Predicted Values')\n",
    "\n",
    "\n",
    "#roc_auc_score\n",
    "model_roc_auc = roc_auc_score(validy,svc_clf.predict(validX)) \n",
    "print (\"Area under curve : \",model_roc_auc,\"\\n\")\n",
    "fpr,tpr,thresholds = roc_curve(validy,svc_clf.predict(validX))\n",
    "\n",
    "plt.subplot(222)\n",
    "plt.plot(fpr, tpr, color='darkorange', lw=1, label = \"Auc : %.3f\" %model_roc_auc)\n",
    "plt.plot([0, 1], [0, 1], color='navy', lw=2, linestyle='--')\n",
    "plt.xlim([0.0, 1.0])\n",
    "plt.ylim([0.0, 1.05])\n",
    "plt.xlabel('False Positive Rate')\n",
    "plt.ylabel('True Positive Rate')\n",
    "plt.title('ROC')\n",
    "plt.legend(loc=\"lower right\")\n",
    "\n",
    "    \n",
    "plt.show()"
   ]
  },
  {
   "cell_type": "markdown",
   "metadata": {},
   "source": [
    "## Testing the models on test data set"
   ]
  },
  {
   "cell_type": "markdown",
   "metadata": {},
   "source": [
    "### K-NN"
   ]
  },
  {
   "cell_type": "code",
   "execution_count": 124,
   "metadata": {},
   "outputs": [
    {
     "name": "stdout",
     "output_type": "stream",
     "text": [
      "0.8576010262989096\n",
      "[[647 120]\n",
      " [102 690]]\n",
      "              precision    recall  f1-score   support\n",
      "\n",
      "           0       0.86      0.84      0.85       767\n",
      "           1       0.85      0.87      0.86       792\n",
      "\n",
      "    accuracy                           0.86      1559\n",
      "   macro avg       0.86      0.86      0.86      1559\n",
      "weighted avg       0.86      0.86      0.86      1559\n",
      "\n"
     ]
    },
    {
     "data": {
      "image/png": "[encoded data removed]",
      "text/plain": [
       "<Figure size 432x288 with 2 Axes>"
      ]
     },
     "metadata": {
      "needs_background": "light"
     },
     "output_type": "display_data"
    }
   ],
   "source": [
    "#test the model\n",
    "test1=knn_clf.predict(testX)\n",
    "print(accuracy_score(testy, test1))\n",
    "\n",
    "#Confusion matrix\n",
    "cm=confusion_matrix(testy,test1)\n",
    "print(cm)\n",
    "sns.heatmap(cm,annot=True)\n",
    "\n",
    "print(classification_report(testy, test1))"
   ]
  },
  {
   "cell_type": "markdown",
   "metadata": {},
   "source": [
    "### Random Forest"
   ]
  },
  {
   "cell_type": "code",
   "execution_count": 125,
   "metadata": {},
   "outputs": [
    {
     "name": "stdout",
     "output_type": "stream",
     "text": [
      "0.8133418858242463\n",
      "[[654 113]\n",
      " [178 614]]\n",
      "              precision    recall  f1-score   support\n",
      "\n",
      "           0       0.79      0.85      0.82       767\n",
      "           1       0.84      0.78      0.81       792\n",
      "\n",
      "    accuracy                           0.81      1559\n",
      "   macro avg       0.82      0.81      0.81      1559\n",
      "weighted avg       0.82      0.81      0.81      1559\n",
      "\n"
     ]
    },
    {
     "data": {
      "image/png": "[encoded data removed]",
      "text/plain": [
       "<Figure size 432x288 with 2 Axes>"
      ]
     },
     "metadata": {
      "needs_background": "light"
     },
     "output_type": "display_data"
    }
   ],
   "source": [
    "#test the model\n",
    "test2=rf_clf.predict(testX)\n",
    "print(accuracy_score(testy, test2))\n",
    "\n",
    "#Confusion matrix\n",
    "cm=confusion_matrix(testy,test2)\n",
    "print(cm)\n",
    "sns.heatmap(cm,annot=True)\n",
    "\n",
    "print(classification_report(testy, test2))"
   ]
  },
  {
   "cell_type": "markdown",
   "metadata": {},
   "source": [
    "### Decision Tree"
   ]
  },
  {
   "cell_type": "code",
   "execution_count": 126,
   "metadata": {},
   "outputs": [
    {
     "name": "stdout",
     "output_type": "stream",
     "text": [
      "0.8274534958306606\n",
      "[[653 114]\n",
      " [155 637]]\n",
      "              precision    recall  f1-score   support\n",
      "\n",
      "           0       0.81      0.85      0.83       767\n",
      "           1       0.85      0.80      0.83       792\n",
      "\n",
      "    accuracy                           0.83      1559\n",
      "   macro avg       0.83      0.83      0.83      1559\n",
      "weighted avg       0.83      0.83      0.83      1559\n",
      "\n"
     ]
    },
    {
     "data": {
      "image/png": "[encoded data removed]",
      "text/plain": [
       "<Figure size 432x288 with 2 Axes>"
      ]
     },
     "metadata": {
      "needs_background": "light"
     },
     "output_type": "display_data"
    }
   ],
   "source": [
    "#test the model\n",
    "test3=tree_clf.predict(testX)\n",
    "print(accuracy_score(testy, test3))\n",
    "\n",
    "#Confusion matrix\n",
    "cm=confusion_matrix(testy,test3)\n",
    "print(cm)\n",
    "sns.heatmap(cm,annot=True)\n",
    "\n",
    "print(classification_report(testy, test3))"
   ]
  },
  {
   "cell_type": "markdown",
   "metadata": {},
   "source": [
    "### Logistic regression"
   ]
  },
  {
   "cell_type": "code",
   "execution_count": 127,
   "metadata": {},
   "outputs": [
    {
     "name": "stdout",
     "output_type": "stream",
     "text": [
      "0.7241821680564464\n",
      "[[566 201]\n",
      " [229 563]]\n",
      "              precision    recall  f1-score   support\n",
      "\n",
      "           0       0.71      0.74      0.72       767\n",
      "           1       0.74      0.71      0.72       792\n",
      "\n",
      "    accuracy                           0.72      1559\n",
      "   macro avg       0.72      0.72      0.72      1559\n",
      "weighted avg       0.72      0.72      0.72      1559\n",
      "\n"
     ]
    },
    {
     "data": {
      "image/png": "[encoded data removed]",
      "text/plain": [
       "<Figure size 432x288 with 2 Axes>"
      ]
     },
     "metadata": {
      "needs_background": "light"
     },
     "output_type": "display_data"
    }
   ],
   "source": [
    "#test the model\n",
    "test4=lr_clf.predict(testX)\n",
    "print(accuracy_score(testy, test4))\n",
    "\n",
    "#Confusion matrix\n",
    "cm=confusion_matrix(testy,test4)\n",
    "print(cm)\n",
    "sns.heatmap(cm,annot=True)\n",
    "\n",
    "print(classification_report(testy, test4))"
   ]
  },
  {
   "cell_type": "markdown",
   "metadata": {},
   "source": [
    "### XGBoost"
   ]
  },
  {
   "cell_type": "code",
   "execution_count": 128,
   "metadata": {},
   "outputs": [
    {
     "name": "stdout",
     "output_type": "stream",
     "text": [
      "0.8992944194996793\n",
      "[[714  53]\n",
      " [104 688]]\n",
      "              precision    recall  f1-score   support\n",
      "\n",
      "           0       0.87      0.93      0.90       767\n",
      "           1       0.93      0.87      0.90       792\n",
      "\n",
      "    accuracy                           0.90      1559\n",
      "   macro avg       0.90      0.90      0.90      1559\n",
      "weighted avg       0.90      0.90      0.90      1559\n",
      "\n"
     ]
    },
    {
     "data": {
      "image/png": "[encoded data removed]",
      "text/plain": [
       "<Figure size 432x288 with 2 Axes>"
      ]
     },
     "metadata": {
      "needs_background": "light"
     },
     "output_type": "display_data"
    }
   ],
   "source": [
    "#test the model\n",
    "test5=xgb_clf.predict(testX)\n",
    "print(accuracy_score(testy, test5))\n",
    "\n",
    "#Confusion matrix\n",
    "cm=confusion_matrix(testy,test5)\n",
    "print(cm)\n",
    "sns.heatmap(cm,annot=True)\n",
    "\n",
    "print(classification_report(testy, test5))"
   ]
  },
  {
   "cell_type": "markdown",
   "metadata": {},
   "source": [
    "### SVM"
   ]
  },
  {
   "cell_type": "code",
   "execution_count": 129,
   "metadata": {},
   "outputs": [
    {
     "name": "stdout",
     "output_type": "stream",
     "text": [
      "0.8986529826812059\n",
      "[[661 106]\n",
      " [ 52 740]]\n",
      "              precision    recall  f1-score   support\n",
      "\n",
      "           0       0.93      0.86      0.89       767\n",
      "           1       0.87      0.93      0.90       792\n",
      "\n",
      "    accuracy                           0.90      1559\n",
      "   macro avg       0.90      0.90      0.90      1559\n",
      "weighted avg       0.90      0.90      0.90      1559\n",
      "\n"
     ]
    },
    {
     "data": {
      "image/png": "[encoded data removed]",
      "text/plain": [
       "<Figure size 432x288 with 2 Axes>"
      ]
     },
     "metadata": {
      "needs_background": "light"
     },
     "output_type": "display_data"
    }
   ],
   "source": [
    "#test the model\n",
    "test6=svc_clf.predict(testX)\n",
    "print(accuracy_score(testy, test6))\n",
    "\n",
    "#Confusion matrix\n",
    "cm=confusion_matrix(testy,test6)\n",
    "print(cm)\n",
    "sns.heatmap(cm,annot=True)\n",
    "\n",
    "print(classification_report(testy, test6))"
   ]
  },
  {
   "cell_type": "markdown",
   "metadata": {},
   "source": [
    "## ROC Curve Comparision "
   ]
  },
  {
   "cell_type": "code",
   "execution_count": 130,
   "metadata": {},
   "outputs": [
    {
     "data": {
      "text/plain": [
       "<matplotlib.legend.Legend at 0x7fc040c327c0>"
      ]
     },
     "execution_count": 130,
     "metadata": {},
     "output_type": "execute_result"
    },
    {
     "data": {
      "image/png": "[encoded data removed]",
      "text/plain": [
       "<Figure size 432x288 with 1 Axes>"
      ]
     },
     "metadata": {
      "needs_background": "light"
     },
     "output_type": "display_data"
    }
   ],
   "source": [
    "plt.figure().clf()\n",
    "fpr, tpr,_ = metrics.roc_curve(testy, test1)\n",
    "auc = metrics.roc_auc_score(testy, test1)\n",
    "plt.plot(fpr,tpr,label=\"Knn=\"+str(round(auc,2)))\n",
    "fpr, tpr,_ = metrics.roc_curve(testy, test2)\n",
    "auc = metrics.roc_auc_score(testy, test2)\n",
    "plt.plot(fpr,tpr,label=\"Random Forest=\"+str(round(auc,2)))\n",
    "fpr, tpr,_ = metrics.roc_curve(testy, test3)\n",
    "auc = metrics.roc_auc_score(testy, test3)\n",
    "plt.plot(fpr,tpr,label=\"Decision Tree=\"+str(round(auc,2)))\n",
    "fpr, tpr,_ = metrics.roc_curve(testy, test4)\n",
    "auc = metrics.roc_auc_score(testy, test4)\n",
    "plt.plot(fpr,tpr,label=\"Logistic Regression=\"+str(round(auc,2)))\n",
    "fpr, tpr,_ = metrics.roc_curve(testy, test5)\n",
    "auc = metrics.roc_auc_score(testy, test5)\n",
    "plt.plot(fpr,tpr,label=\"XGBoost=\"+str(round(auc,2)))\n",
    "fpr, tpr,_ = metrics.roc_curve(testy, test6)\n",
    "auc = metrics.roc_auc_score(testy, test6)\n",
    "plt.plot(fpr,tpr,label=\"SVM=\"+str(round(auc,2)))\n",
    "plt.plot([0, 1], [0, 1], linestyle='--', lw=2, color='r', label='Random guess')\n",
    "plt.title(\"ROC curve comparison\")\n",
    "plt.legend(loc=0)"
   ]
  },
  {
   "cell_type": "markdown",
   "metadata": {},
   "source": [
    "### Important features of the best model (XG-Boost)"
   ]
  },
  {
   "cell_type": "code",
   "execution_count": 135,
   "metadata": {
    "scrolled": true
   },
   "outputs": [
    {
     "data": {
      "text/plain": [
       "Text(0.5, 1.0, 'Feature Importance Ranking Related to The Best Model (XG-Boost)')"
      ]
     },
     "execution_count": 135,
     "metadata": {},
     "output_type": "execute_result"
    },
    {
     "data": {
      "image/png": "[encoded data removed]",
      "text/plain": [
       "<Figure size 1440x720 with 1 Axes>"
      ]
     },
     "metadata": {
      "needs_background": "light"
     },
     "output_type": "display_data"
    }
   ],
   "source": [
    "# fit the XGBoost model using the best parameters\n",
    "best_clf=XGBClassifier(max_depth=6,n_estimators=100)\n",
    "best_clf.fit(trainX,trainy)\n",
    "feature_important = best_clf.get_booster().get_score(importance_type='weight')\n",
    "keys = list(feature_important.keys())\n",
    "values = list(feature_important.values())\n",
    "\n",
    "data = pd.DataFrame(data=values, index=keys, columns=[\"score\"]).sort_values(by = \"score\", ascending=False)\n",
    "data.nlargest(40, columns=\"score\").plot(kind='bar', figsize = (20,10)) ## plot top 40 features\n",
    "plt.title('Feature Importance Ranking Related to The Best Model (XG-Boost)')"
   ]
  },
  {
   "cell_type": "code",
   "execution_count": null,
   "metadata": {},
   "outputs": [],
   "source": []
  }
 ],
 "metadata": {
  "kernelspec": {
   "display_name": "Python 3",
   "language": "python",
   "name": "python3"
  },
  "language_info": {
   "codemirror_mode": {
    "name": "ipython",
    "version": 3
   },
   "file_extension": ".py",
   "mimetype": "text/x-python",
   "name": "python",
   "nbconvert_exporter": "python",
   "pygments_lexer": "ipython3",
   "version": "3.8.5"
  }
 },
 "nbformat": 4,
 "nbformat_minor": 5
}
